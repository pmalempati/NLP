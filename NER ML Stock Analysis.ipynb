{
 "cells": [
  {
   "cell_type": "markdown",
   "metadata": {},
   "source": [
    "# Import data from webhose.io"
   ]
  },
  {
   "cell_type": "code",
   "execution_count": 16,
   "metadata": {},
   "outputs": [],
   "source": [
    "import os\n",
    "import json\n",
    "import webhoseio\n",
    "\n",
    "data_path = './data'\n",
    "model_path = './model'"
   ]
  },
  {
   "cell_type": "markdown",
   "metadata": {},
   "source": [
    "### Useful function to write and read json files"
   ]
  },
  {
   "cell_type": "code",
   "execution_count": 17,
   "metadata": {},
   "outputs": [],
   "source": [
    "def store_data(filename, data): \n",
    "    data_file = os.path.join(data_path, filename)\n",
    "    with open(data_file, 'w') as outfile:\n",
    "        json.dump(data, outfile)\n",
    "\n",
    "def load_data(filename): \n",
    "    data_file = os.path.join(data_path, filename)\n",
    "    with open(data_file) as json_data:\n",
    "        data = json.load(json_data)\n",
    "        return data"
   ]
  },
  {
   "cell_type": "markdown",
   "metadata": {},
   "source": [
    "### Query to webhose.io"
   ]
  },
  {
   "cell_type": "code",
   "execution_count": 3,
   "metadata": {},
   "outputs": [],
   "source": [
    "webhoseio.config(token=\"1a815770-8785-4596-a11c-09bdae034336\")\n",
    "query_params = {\n",
    "    \"q\": \"language:english site_type:news site_category:media organization:Microsoft\", \n",
    "    \"ts\": \"1555697996143\",\n",
    "    \"sort\": \"crawled\"\n",
    "}"
   ]
  },
  {
   "cell_type": "code",
   "execution_count": 4,
   "metadata": {},
   "outputs": [],
   "source": [
    "output = webhoseio.query(\"filterWebContent\", query_params)\n",
    "feeds = [ item for item in output['posts']]\n",
    "while output['moreResultsAvailable'] > 0:\n",
    "    output = webhoseio.get_next()\n",
    "    feeds += [ item for item in output['posts']]"
   ]
  },
  {
   "cell_type": "code",
   "execution_count": 8,
   "metadata": {},
   "outputs": [],
   "source": [
    "store_data('microsoft_0504_0604.json', feeds)"
   ]
  },
  {
   "cell_type": "code",
   "execution_count": 4,
   "metadata": {},
   "outputs": [
    {
     "name": "stdout",
     "output_type": "stream",
     "text": [
      "* Total number of news articles: 7948\n",
      "* Date range: from 2019-05-04T03:00:00.000+03:00 to 2019-06-04T08:41:00.000+03:00\n"
     ]
    }
   ],
   "source": [
    "news_list = load_data('microsoft_0504_0604.json')\n",
    "print('* Total number of news articles: {}'.format(len(news_list)))\n",
    "print('* Date range: from {} to {}'.format(\n",
    "    min([news_list[x]['published'] for x in range(len(news_list))]), \n",
    "    max([news_list[x]['published'] for x in range(len(news_list))])))"
   ]
  },
  {
   "cell_type": "markdown",
   "metadata": {},
   "source": [
    "\n",
    "# Deduplicate titles "
   ]
  },
  {
   "cell_type": "code",
   "execution_count": 5,
   "metadata": {},
   "outputs": [],
   "source": [
    "import re\n",
    "import time\n",
    "import warnings\n",
    "import numpy as np\n",
    "import pandas as pd \n",
    "\n",
    "warnings.filterwarnings(\"ignore\")\n",
    "\n",
    "import nltk\n",
    "from nltk.stem.wordnet import WordNetLemmatizer\n",
    "stopwords = set(nltk.corpus.stopwords.words('english'))\n",
    "\n",
    "from gensim.models import KeyedVectors\n",
    "from simhash import Simhash, SimhashIndex"
   ]
  },
  {
   "cell_type": "markdown",
   "metadata": {},
   "source": [
    "### Useful function to cleanup text and load word2vec "
   ]
  },
  {
   "cell_type": "code",
   "execution_count": 83,
   "metadata": {},
   "outputs": [],
   "source": [
    "def cleanup_text(text):\n",
    "    text = re.sub(r'http\\S+', '', text)\n",
    "    text = text.replace(\"'s\", \" \")\n",
    "    text = text.replace(\"n't\", \" not \")\n",
    "    text = text.replace(\"'ve\", \" have \")\n",
    "    text = text.replace(\"'re\", \" are \")\n",
    "    text = text.replace(\"I'm\",\" I am \")\n",
    "    text = text.replace(\"you're\",\" you are \")\n",
    "    text = text.replace(\"You're\",\" You are \")\n",
    "    text = text.replace(\"-\",\" \")\n",
    "    text = text.replace(\"/\",\" \")\n",
    "    text = text.replace(\"(\",\" \")\n",
    "    text = text.replace(\")\",\" \")\n",
    "    text = text.replace(\"%\",\" percent \")\n",
    "    text = re.sub(r'[^a-zA-Z0-9 ]', '', text)\n",
    "    text = \" \".join([i for i in text.lower().split() if i not in stopwords])\n",
    "    token = [WordNetLemmatizer().lemmatize(i) for i in text.split()]\n",
    "    return token\n",
    "\n",
    "def load_wordvec_model(modelName, modelFile, flagBin):\n",
    "    model = KeyedVectors.load_word2vec_format(os.path.join(model_path, modelFile), binary=flagBin)\n",
    "    return model"
   ]
  },
  {
   "cell_type": "markdown",
   "metadata": {},
   "source": [
    "### Load word2vec and webhose data"
   ]
  },
  {
   "cell_type": "code",
   "execution_count": 17,
   "metadata": {},
   "outputs": [],
   "source": [
    "model_w2v_AP = load_wordvec_model('Word2Vec Google News', 'GoogleNews-vectors-negative300.bin.gz', True)\n",
    "data = load_data('microsoft_0504_0604.json')"
   ]
  },
  {
   "cell_type": "markdown",
   "metadata": {},
   "source": [
    "### Get titles, cleanup text, and apply Simhash"
   ]
  },
  {
   "cell_type": "code",
   "execution_count": 20,
   "metadata": {},
   "outputs": [],
   "source": [
    "tot_title = len(data)\n",
    "title_list = [' '.join(cleanup_text(str(data[i]['title']))) for i in range(tot_title)]\n",
    "objs = [(i, Simhash(title_list[i])) for i in range(tot_title)]"
   ]
  },
  {
   "cell_type": "markdown",
   "metadata": {},
   "source": [
    "#### Function checks whether the input words are present in the vocabulary for the model"
   ]
  },
  {
   "cell_type": "code",
   "execution_count": 21,
   "metadata": {},
   "outputs": [],
   "source": [
    "def vocab_check(vectors, words):\n",
    "    output = list()\n",
    "    for word in words:\n",
    "        if word in vectors.vocab:\n",
    "            output.append(word.strip())\n",
    "    return output"
   ]
  },
  {
   "cell_type": "markdown",
   "metadata": {},
   "source": [
    "#### Function calculates similarity between two strings using a particular word vector model"
   ]
  },
  {
   "cell_type": "code",
   "execution_count": 22,
   "metadata": {},
   "outputs": [],
   "source": [
    "def calc_similarity(input1, input2, vectors):\n",
    "    s1words = set(vocab_check(vectors, input1.split()))\n",
    "    s2words = set(vocab_check(vectors, input2.split()))\n",
    "    \n",
    "    output = vectors.n_similarity(s1words, s2words)\n",
    "    return output"
   ]
  },
  {
   "cell_type": "markdown",
   "metadata": {},
   "source": [
    "### Remove duplicate titles"
   ]
  },
  {
   "cell_type": "code",
   "execution_count": 23,
   "metadata": {},
   "outputs": [
    {
     "name": "stdout",
     "output_type": "stream",
     "text": [
      "Title: \n",
      "Chinese Military Ditching Microsoft Windows To Avoid CIA's 'Hefty Arsenal Of Hacking Tools'\n",
      "\n",
      "Duplicates:\n",
      "Chinese Military Ditching Microsoft Windows To Avoid CIA’s ‘Hefty Arsenal Of Hacking Tools’\n",
      "Chinese Military Ditching Microsoft Windows to Avoid CIA's Arsenal of Hacking Tools\n"
     ]
    }
   ],
   "source": [
    "def remove_duplicate(index, title_list, index_simahs, model_w2v_AP):\n",
    "    duplicates = set()\n",
    "    title = title_list[index]\n",
    "    \n",
    "    # calculate  hash value\n",
    "    title_hash = Simhash(title)\n",
    "    \n",
    "    # find all duplicate indices\n",
    "    dup_indices = index_simahs.get_near_dups(title_hash)\n",
    "\n",
    "    # apply word2vec \n",
    "    for dupi in dup_indices:\n",
    "        if int(dupi) == index: \n",
    "            continue\n",
    "        try:\n",
    "            score = calc_similarity(title, title_list[int(dupi)], model_w2v_AP)\n",
    "        except:\n",
    "            score = 0\n",
    "        if score > 0.55:\n",
    "            duplicates.add(int(dupi))\n",
    "    return duplicates \n",
    "\n",
    "distance = 15\n",
    "index_simahs = SimhashIndex(objs, k=distance)\n",
    "\n",
    "index = 6241\n",
    "print('Title: \\n' + data[index]['title'] + '\\n\\nDuplicates:')\n",
    "for i in remove_duplicate(index, title_list, index_simahs, model_w2v_AP): \n",
    "    print(data[i]['title'])"
   ]
  },
  {
   "cell_type": "code",
   "execution_count": 24,
   "metadata": {},
   "outputs": [
    {
     "name": "stdout",
     "output_type": "stream",
     "text": [
      "2000/7948 1036 141.879877\n",
      "4000/7948 1819 251.23051999999998\n",
      "6000/7948 2471 364.603786\n"
     ]
    }
   ],
   "source": [
    "start = time.clock()\n",
    "duplicates = set()\n",
    "for index in range(tot_title): \n",
    "    if index in duplicates: \n",
    "        continue \n",
    "    new_duplicates = remove_duplicate(index, title_list, index_simahs, model_w2v_AP);\n",
    "    duplicates = duplicates.union(new_duplicates)\n",
    "    if index % 2000 == 0 and index != 0: \n",
    "        print(str(index) + '/' + str(tot_title), len(duplicates), time.clock() - start)\n",
    "    \n",
    "new_feeds = data.copy()\n",
    "for dup in sorted([int(dup) for dup in duplicates], reverse=True):\n",
    "    del new_feeds[dup]"
   ]
  },
  {
   "cell_type": "code",
   "execution_count": null,
   "metadata": {},
   "outputs": [],
   "source": [
    "store_data('microsoft_0504_0604_clean.json', new_feeds)"
   ]
  },
  {
   "cell_type": "code",
   "execution_count": 9,
   "metadata": {},
   "outputs": [
    {
     "name": "stdout",
     "output_type": "stream",
     "text": [
      "* Total number of news articles once removed duplicates: 5021\n",
      "* Date range: from 2019-05-04T03:00:00.000+03:00 to 2019-05-23T18:57:00.000+03:00\n"
     ]
    }
   ],
   "source": [
    "news_cleaned_list = load_data('microsoft_0504_0604_clean.json')\n",
    "print('* Total number of news articles once removed duplicates: {}'.format(len(news_cleaned_list)))\n",
    "print('* Date range: from {} to {}'.format(\n",
    "    min([news_list[x]['published'] for x in range(len(news_cleaned_list))]), \n",
    "    max([news_list[x]['published'] for x in range(len(news_cleaned_list))])))"
   ]
  },
  {
   "cell_type": "markdown",
   "metadata": {},
   "source": [
    "# Name Entity Recognition using IBM Watson"
   ]
  },
  {
   "cell_type": "code",
   "execution_count": 10,
   "metadata": {},
   "outputs": [],
   "source": [
    "from watson_developer_cloud import NaturalLanguageUnderstandingV1\n",
    "from watson_developer_cloud.natural_language_understanding_v1 import Features, EntitiesOptions, KeywordsOptions"
   ]
  },
  {
   "cell_type": "code",
   "execution_count": 11,
   "metadata": {},
   "outputs": [],
   "source": [
    "data = load_data('microsoft_0504_0604_clean.json') "
   ]
  },
  {
   "cell_type": "markdown",
   "metadata": {},
   "source": [
    "### Query to IBM Watson"
   ]
  },
  {
   "cell_type": "code",
   "execution_count": 12,
   "metadata": {},
   "outputs": [
    {
     "name": "stderr",
     "output_type": "stream",
     "text": [
      "/usr/lib/python3/dist-packages/ipykernel_launcher.py:4: DeprecationWarning: NaturalLanguageUnderstandingV1 is a deprecated function. watson-developer-cloud moved to ibm-watson\n",
      "  after removing the cwd from sys.path.\n"
     ]
    }
   ],
   "source": [
    "natural_language_understanding = NaturalLanguageUnderstandingV1(\n",
    "    version='2018-11-16',\n",
    "    iam_apikey='N9R1KBh-8CJVJWSMGHB_lLG-Sq03-BurNjDc_dh5l9Id',\n",
    "    url='https://gateway.watsonplatform.net/natural-language-understanding/api/v1/analyze?version=2018-11-16'\n",
    ")"
   ]
  },
  {
   "cell_type": "code",
   "execution_count": 17,
   "metadata": {},
   "outputs": [
    {
     "name": "stdout",
     "output_type": "stream",
     "text": [
      "CBSE 10th Result 2019: Candidates can use alternative methods to provided by Google, Microsoft if official website is down\n"
     ]
    },
    {
     "data": {
      "text/plain": [
       "{'Company': 'Microsoft', 'JobTitle': 'official', 'Organization': 'CBSE'}"
      ]
     },
     "execution_count": 17,
     "metadata": {},
     "output_type": "execute_result"
    }
   ],
   "source": [
    "def get_title_WATSON_entities(text):\n",
    "    entities_dict = dict()\n",
    "    r = natural_language_understanding.analyze(\n",
    "        text=text, features=Features(entities=EntitiesOptions(sentiment=True, limit=10))).get_result()\n",
    "    for entity in r['entities']:\n",
    "        entities_dict[entity['type']] = entity['text']\n",
    "    return entities_dict\n",
    "\n",
    "title = data[11]['title']\n",
    "print(title)\n",
    "get_title_WATSON_entities(title)"
   ]
  },
  {
   "cell_type": "code",
   "execution_count": 18,
   "metadata": {},
   "outputs": [],
   "source": [
    "for i in range(len(data)): \n",
    "    title = data[i]['title']\n",
    "    try:\n",
    "        entities = get_title_WATSON_entities(title)\n",
    "    except Exception:\n",
    "        entities = dict()\n",
    "    data[i]['title_entities'] = entities"
   ]
  },
  {
   "cell_type": "code",
   "execution_count": 18,
   "metadata": {},
   "outputs": [
    {
     "ename": "NameError",
     "evalue": "name 'data' is not defined",
     "output_type": "error",
     "traceback": [
      "\u001b[0;31m---------------------------------------------------------------------------\u001b[0m",
      "\u001b[0;31mNameError\u001b[0m                                 Traceback (most recent call last)",
      "\u001b[0;32m<ipython-input-18-61c1e0c0cc3a>\u001b[0m in \u001b[0;36m<module>\u001b[0;34m()\u001b[0m\n\u001b[0;32m----> 1\u001b[0;31m \u001b[0mstore_data\u001b[0m\u001b[0;34m(\u001b[0m\u001b[0;34m'microsoft_0504_0604_clean_with_entities.json'\u001b[0m\u001b[0;34m,\u001b[0m \u001b[0mdata\u001b[0m\u001b[0;34m)\u001b[0m\u001b[0;34m\u001b[0m\u001b[0;34m\u001b[0m\u001b[0m\n\u001b[0m",
      "\u001b[0;31mNameError\u001b[0m: name 'data' is not defined"
     ]
    }
   ],
   "source": [
    "store_data('microsoft_0504_0604_clean_with_entities.json', data)"
   ]
  },
  {
   "cell_type": "code",
   "execution_count": 19,
   "metadata": {},
   "outputs": [
    {
     "name": "stdout",
     "output_type": "stream",
     "text": [
      "* Total number of news entities: 27\n",
      "\n",
      "* List of entities find in titles:\n",
      " -Person\n",
      " -Company\n",
      " -JobTitle\n",
      " -Location\n",
      " -GeographicFeature\n",
      " -Organization\n",
      " -Quantity\n",
      " -PrintMedia\n",
      " -Facility\n",
      " -Sport\n",
      " -Broadcaster\n",
      " -Number\n",
      " -Drug\n",
      " -Hashtag\n",
      " -HealthCondition\n",
      " -TwitterHandle\n",
      " -IPAddress\n",
      " -Movie\n",
      " -Date\n",
      " -Crime\n",
      " -Measure\n",
      " -MusicGroup\n",
      " -Money\n",
      " -TelevisionShow\n",
      " -Vehicle\n",
      " -Award\n",
      " -Percent\n",
      "\n",
      "* List of words associated with Broadcaster:\n",
      " -FOX News\n",
      " -CNN\n",
      " -ABC\n",
      " -KTLA\n",
      " -HBO\n",
      " -BBC News\n",
      " -TMZ\n",
      " -CBS\n",
      " -NBC\n",
      " -Fox News\n"
     ]
    }
   ],
   "source": [
    "news_cleaned_list = load_data('microsoft_0504_0604_clean_with_entities.json')\n",
    "entity_title_list = [news['title_entities'] for news in news_cleaned_list if len(news['title_entities'].keys()) > 0]\n",
    "tot_entities_dict = dict()\n",
    "for entity_title in entity_title_list: \n",
    "    for entity in entity_title:\n",
    "        if entity in tot_entities_dict.keys():\n",
    "            tot_entities_dict[entity] += [entity_title[entity]]\n",
    "        else:\n",
    "            tot_entities_dict[entity] = [entity_title[entity]]\n",
    "print('* Total number of news entities: {}'.format(len(tot_entities_dict)) + '\\n')\n",
    "print('* List of entities find in titles:\\n -' + '\\n -'.join(list(tot_entities_dict.keys())) + '\\n')\n",
    "print('* List of words associated with Broadcaster:\\n -' + '\\n -'.join(list(set(tot_entities_dict['Broadcaster']))))"
   ]
  },
  {
   "cell_type": "code",
   "execution_count": 68,
   "metadata": {},
   "outputs": [
    {
     "name": "stdout",
     "output_type": "stream",
     "text": [
      "word       |  count \n",
      "Microsoft  | 915\n",
      "Huawei     | 100\n",
      "Google     | 92\n",
      "Apple      | 60\n",
      "US         | 47\n",
      "Amazon     | 47\n",
      "CNET       | 42\n",
      "Sony       | 40\n",
      "AI         | 36\n",
      "Facebook   | 34\n",
      "CEO        | 32\n",
      "China      | 31\n",
      "India      | 28\n",
      "Chicago    | 22\n",
      "UK         | 21\n",
      "Bill Gates | 16\n",
      "MSFT       | 16\n",
      "Africa     | 16\n",
      "partner    | 15\n",
      "Samsung    | 15\n",
      "Coast Live | 15\n",
      "IBM        | 14\n",
      "Twitter    | 14\n",
      "U.S.       | 14\n",
      "Intel      | 13\n"
     ]
    }
   ],
   "source": [
    "from collections import Counter\n",
    "list_words = [text[1] for entity in entity_title_list for text in entity.items()]\n",
    "counts = Counter(list_words)\n",
    "print('word       |  count ')\n",
    "for i in counts.most_common(25): \n",
    "    print('{:<10} | {}'.format(i[0], i[1]))"
   ]
  },
  {
   "cell_type": "markdown",
   "metadata": {},
   "source": [
    "# Topic cluster using LDA"
   ]
  },
  {
   "cell_type": "code",
   "execution_count": 81,
   "metadata": {},
   "outputs": [],
   "source": [
    "from gensim.models import ldamodel\n",
    "from gensim.corpora.dictionary import Dictionary\n",
    "import pyLDAvis.gensim"
   ]
  },
  {
   "cell_type": "code",
   "execution_count": 84,
   "metadata": {},
   "outputs": [],
   "source": [
    "titles = [[data[i]['title'], data[i]['published'][:10]]  for i in range(len(data))]\n",
    "df_feeds = pd.DataFrame(titles,columns=['title', 'date'])\n",
    "titles = df_feeds[['title']].applymap(cleanup_text)['title']"
   ]
  },
  {
   "cell_type": "code",
   "execution_count": 85,
   "metadata": {},
   "outputs": [],
   "source": [
    "dictionary = Dictionary(titles)\n",
    "dictionary.filter_extremes(no_below=20, no_above=0.8)\n",
    "corpora = [dictionary.doc2bow(doc) for doc in titles]\n",
    "\n",
    "# Running and Trainign LDA model on the document term matrix.\n",
    "lda_model = ldamodel.LdaModel(corpora, num_topics=7, id2word = dictionary, passes=50)"
   ]
  },
  {
   "cell_type": "code",
   "execution_count": 86,
   "metadata": {},
   "outputs": [
    {
     "data": {
      "text/html": [
       "\n",
       "<link rel=\"stylesheet\" type=\"text/css\" href=\"https://cdn.rawgit.com/bmabey/pyLDAvis/files/ldavis.v1.0.0.css\">\n",
       "\n",
       "\n",
       "<div id=\"ldavis_el1011814048660795543299149201\"></div>\n",
       "<script type=\"text/javascript\">\n",
       "\n",
       "var ldavis_el1011814048660795543299149201_data = {\"mdsDat\": {\"Freq\": [16.49513053894043, 16.3686580657959, 14.697061538696289, 14.435850143432617, 14.120110511779785, 12.869019508361816, 11.014167785644531], \"cluster\": [1, 1, 1, 1, 1, 1, 1], \"topics\": [1, 2, 3, 4, 5, 6, 7], \"x\": [0.09993747639855488, 0.14663286890756194, -0.018001921188508737, 0.013076706795210774, 0.09302316480430944, 0.09038070263651751, -0.4250489983536459], \"y\": [-0.049649131332098674, -0.18297438875890137, 0.29957015830895545, -0.01277205619961508, -0.1682727468944943, 0.19692752907231595, -0.08282936419616184]}, \"tinfo\": {\"Category\": [\"Default\", \"Default\", \"Default\", \"Default\", \"Default\", \"Default\", \"Default\", \"Default\", \"Default\", \"Default\", \"Default\", \"Default\", \"Default\", \"Default\", \"Default\", \"Default\", \"Default\", \"Default\", \"Default\", \"Default\", \"Default\", \"Default\", \"Default\", \"Default\", \"Default\", \"Default\", \"Default\", \"Default\", \"Default\", \"Default\", \"Topic1\", \"Topic1\", \"Topic1\", \"Topic1\", \"Topic1\", \"Topic1\", \"Topic1\", \"Topic1\", \"Topic1\", \"Topic1\", \"Topic1\", \"Topic1\", \"Topic1\", \"Topic1\", \"Topic1\", \"Topic1\", \"Topic1\", \"Topic1\", \"Topic1\", \"Topic1\", \"Topic1\", \"Topic1\", \"Topic1\", \"Topic1\", \"Topic1\", \"Topic1\", \"Topic1\", \"Topic1\", \"Topic1\", \"Topic1\", \"Topic1\", \"Topic1\", \"Topic1\", \"Topic1\", \"Topic1\", \"Topic1\", \"Topic1\", \"Topic1\", \"Topic1\", \"Topic1\", \"Topic1\", \"Topic1\", \"Topic1\", \"Topic2\", \"Topic2\", \"Topic2\", \"Topic2\", \"Topic2\", \"Topic2\", \"Topic2\", \"Topic2\", \"Topic2\", \"Topic2\", \"Topic2\", \"Topic2\", \"Topic2\", \"Topic2\", \"Topic2\", \"Topic2\", \"Topic2\", \"Topic2\", \"Topic2\", \"Topic2\", \"Topic2\", \"Topic2\", \"Topic2\", \"Topic2\", \"Topic2\", \"Topic2\", \"Topic2\", \"Topic2\", \"Topic2\", \"Topic2\", \"Topic2\", \"Topic2\", \"Topic2\", \"Topic2\", \"Topic2\", \"Topic2\", \"Topic2\", \"Topic2\", \"Topic3\", \"Topic3\", \"Topic3\", \"Topic3\", \"Topic3\", \"Topic3\", \"Topic3\", \"Topic3\", \"Topic3\", \"Topic3\", \"Topic3\", \"Topic3\", \"Topic3\", \"Topic3\", \"Topic3\", \"Topic3\", \"Topic3\", \"Topic3\", \"Topic3\", \"Topic3\", \"Topic3\", \"Topic3\", \"Topic3\", \"Topic3\", \"Topic3\", \"Topic3\", \"Topic3\", \"Topic3\", \"Topic3\", \"Topic3\", \"Topic3\", \"Topic3\", \"Topic3\", \"Topic3\", \"Topic3\", \"Topic3\", \"Topic3\", \"Topic3\", \"Topic3\", \"Topic3\", \"Topic4\", \"Topic4\", \"Topic4\", \"Topic4\", \"Topic4\", \"Topic4\", \"Topic4\", \"Topic4\", \"Topic4\", \"Topic4\", \"Topic4\", \"Topic4\", \"Topic4\", \"Topic4\", \"Topic4\", \"Topic4\", \"Topic4\", \"Topic4\", \"Topic4\", \"Topic4\", \"Topic4\", \"Topic4\", \"Topic4\", \"Topic4\", \"Topic4\", \"Topic4\", \"Topic4\", \"Topic4\", \"Topic4\", \"Topic4\", \"Topic4\", \"Topic4\", \"Topic4\", \"Topic4\", \"Topic4\", \"Topic4\", \"Topic4\", \"Topic4\", \"Topic4\", \"Topic5\", \"Topic5\", \"Topic5\", \"Topic5\", \"Topic5\", \"Topic5\", \"Topic5\", \"Topic5\", \"Topic5\", \"Topic5\", \"Topic5\", \"Topic5\", \"Topic5\", \"Topic5\", \"Topic5\", \"Topic5\", \"Topic5\", \"Topic5\", \"Topic5\", \"Topic5\", \"Topic5\", \"Topic5\", \"Topic5\", \"Topic5\", \"Topic5\", \"Topic5\", \"Topic5\", \"Topic5\", \"Topic5\", \"Topic5\", \"Topic5\", \"Topic5\", \"Topic5\", \"Topic5\", \"Topic5\", \"Topic5\", \"Topic5\", \"Topic5\", \"Topic5\", \"Topic5\", \"Topic6\", \"Topic6\", \"Topic6\", \"Topic6\", \"Topic6\", \"Topic6\", \"Topic6\", \"Topic6\", \"Topic6\", \"Topic6\", \"Topic6\", \"Topic6\", \"Topic6\", \"Topic6\", \"Topic6\", \"Topic6\", \"Topic6\", \"Topic6\", \"Topic6\", \"Topic6\", \"Topic6\", \"Topic6\", \"Topic6\", \"Topic6\", \"Topic6\", \"Topic6\", \"Topic6\", \"Topic6\", \"Topic6\", \"Topic6\", \"Topic6\", \"Topic6\", \"Topic6\", \"Topic6\", \"Topic6\", \"Topic6\", \"Topic6\", \"Topic6\", \"Topic6\", \"Topic6\", \"Topic6\", \"Topic7\", \"Topic7\", \"Topic7\", \"Topic7\", \"Topic7\", \"Topic7\", \"Topic7\", \"Topic7\", \"Topic7\", \"Topic7\", \"Topic7\", \"Topic7\", \"Topic7\", \"Topic7\", \"Topic7\", \"Topic7\", \"Topic7\", \"Topic7\", \"Topic7\", \"Topic7\", \"Topic7\", \"Topic7\", \"Topic7\", \"Topic7\", \"Topic7\", \"Topic7\", \"Topic7\", \"Topic7\", \"Topic7\", \"Topic7\", \"Topic7\", \"Topic7\", \"Topic7\"], \"Freq\": [355.0, 259.0, 264.0, 375.0, 197.0, 173.0, 217.0, 172.0, 137.0, 1175.0, 139.0, 136.0, 189.0, 111.0, 117.0, 152.0, 136.0, 236.0, 100.0, 99.0, 112.0, 101.0, 90.0, 91.0, 96.0, 159.0, 90.0, 90.0, 75.0, 79.0, 100.67634582519531, 82.56585693359375, 74.99861907958984, 69.63670349121094, 65.1041488647461, 63.86036682128906, 57.205528259277344, 55.78151321411133, 55.20737838745117, 53.00736618041992, 52.38665008544922, 47.13408660888672, 42.29911804199219, 40.84569549560547, 37.656246185302734, 33.90496063232422, 29.882966995239258, 27.82193946838379, 26.913305282592773, 26.65656280517578, 25.895606994628906, 25.74991226196289, 25.60725212097168, 25.338008880615234, 24.551069259643555, 22.701351165771484, 22.47927474975586, 22.38216781616211, 21.902511596679688, 16.113405227661133, 51.057857513427734, 273.43157958984375, 53.33818054199219, 46.68922424316406, 105.74990844726562, 396.74810791015625, 43.04582214355469, 31.046859741210938, 59.4205322265625, 45.6328239440918, 28.268287658691406, 32.117156982421875, 28.821718215942383, 263.5753479003906, 95.17200469970703, 89.80686950683594, 89.62056732177734, 82.51133728027344, 75.17103576660156, 69.6136703491211, 62.48551940917969, 60.108131408691406, 52.25606918334961, 50.528018951416016, 49.3482666015625, 49.14686965942383, 48.759117126464844, 44.536888122558594, 40.36392593383789, 39.10009765625, 38.641502380371094, 38.15272903442383, 37.27407455444336, 36.804019927978516, 35.58733367919922, 32.613529205322266, 30.047908782958984, 29.777673721313477, 29.085554122924805, 28.882366180419922, 28.595136642456055, 26.93947410583496, 26.689128875732422, 63.15005874633789, 86.15543365478516, 55.47782897949219, 57.527099609375, 55.95041275024414, 170.48770141601562, 56.85872268676758, 45.836769104003906, 354.6309814453125, 196.49588012695312, 138.55465698242188, 98.1642074584961, 78.1698226928711, 69.70763397216797, 59.49169158935547, 53.62133026123047, 51.439971923828125, 42.98612976074219, 35.997459411621094, 35.6327018737793, 33.242610931396484, 31.692943572998047, 30.891897201538086, 28.704206466674805, 28.240758895874023, 25.970996856689453, 25.85546112060547, 24.320960998535156, 24.086997985839844, 23.608720779418945, 23.369308471679688, 23.13706398010254, 22.521480560302734, 19.93526840209961, 19.670942306518555, 19.2039852142334, 17.66923713684082, 16.599637985229492, 119.11026763916016, 131.38490295410156, 41.883514404296875, 39.24335861206055, 30.48552894592285, 24.78883934020996, 50.360042572021484, 83.78112030029297, 47.220428466796875, 24.924028396606445, 258.6895446777344, 171.39263916015625, 90.21892547607422, 70.83524322509766, 57.95974349975586, 54.29927062988281, 50.72003173828125, 42.6363639831543, 40.02809524536133, 40.012367248535156, 37.088077545166016, 32.12974166870117, 31.114564895629883, 28.4066219329834, 26.511817932128906, 26.249025344848633, 24.88972282409668, 24.540998458862305, 24.193756103515625, 23.95254135131836, 21.487335205078125, 21.12738037109375, 18.681089401245117, 44.13066482543945, 100.49131774902344, 37.8194465637207, 39.800899505615234, 67.40475463867188, 36.724853515625, 38.90266418457031, 56.880645751953125, 43.93437194824219, 195.63543701171875, 101.68022155761719, 40.70964050292969, 33.206485748291016, 36.202510833740234, 27.375015258789062, 32.59280014038086, 173.0872344970703, 136.91616821289062, 135.39833068847656, 99.94364166259766, 89.42131042480469, 58.861083984375, 54.13896560668945, 50.4620246887207, 49.138160705566406, 45.025634765625, 45.40768814086914, 34.723751068115234, 34.331050872802734, 34.182716369628906, 33.79851150512695, 32.90571212768555, 32.456417083740234, 30.710233688354492, 28.79320526123047, 28.777944564819336, 28.696563720703125, 25.035104751586914, 24.811704635620117, 24.01597785949707, 23.339323043823242, 22.63680648803711, 22.059165954589844, 20.479158401489258, 19.55082130432129, 19.440261840820312, 40.844337463378906, 119.54320526123047, 48.61232376098633, 32.109580993652344, 70.66519165039062, 34.38486862182617, 103.28919982910156, 43.86989974975586, 27.612075805664062, 31.58167266845703, 74.97708129882812, 64.1571273803711, 56.67568588256836, 55.22470474243164, 52.22316360473633, 49.37149429321289, 48.635597229003906, 47.759822845458984, 47.09403610229492, 38.54634475708008, 38.40985870361328, 32.628509521484375, 31.71525764465332, 30.517107009887695, 29.717439651489258, 29.19440460205078, 28.022586822509766, 27.437976837158203, 25.156766891479492, 25.039915084838867, 24.790512084960938, 24.67369270324707, 24.302139282226562, 23.50069808959961, 19.782760620117188, 19.428007125854492, 18.73988151550293, 18.695457458496094, 26.19228744506836, 169.364013671875, 56.60627365112305, 106.47237396240234, 51.29142761230469, 56.54925537109375, 47.75811004638672, 43.333534240722656, 39.81519317626953, 225.03451538085938, 57.143028259277344, 29.01464080810547, 28.111143112182617, 110.19107818603516, 58.37566375732422, 57.5395393371582, 55.204627990722656, 49.75553894042969, 49.67380142211914, 47.25367736816406, 45.739566802978516, 43.9141960144043, 40.5149040222168, 39.800540924072266, 39.1538200378418, 37.72042465209961, 37.369598388671875, 36.13663864135742, 33.601036071777344, 32.987037658691406, 30.688617706298828, 30.39887809753418, 30.314716339111328, 30.19454574584961, 28.86634635925293, 28.557830810546875, 27.983427047729492, 27.86359405517578, 27.41912269592285, 26.79335594177246, 26.756458282470703, 26.656911849975586, 26.042984008789062, 102.29077911376953, 29.2278995513916, 27.528011322021484], \"Term\": [\"2019\", \"window\", \"market\", \"new\", \"cloud\", \"tech\", \"game\", \"10\", \"u\", \"microsoft\", \"service\", \"huawei\", \"xbox\", \"day\", \"live\", \"ai\", \"may\", \"google\", \"say\", \"one\", \"update\", \"data\", \"company\", \"fox40\", \"global\", \"apple\", \"software\", \"ibm\", \"video\", \"sony\", \"data\", \"launch\", \"azure\", \"edge\", \"support\", \"open\", \"surface\", \"big\", \"microsofts\", \"announces\", \"partner\", \"stock\", \"pro\", \"talk\", \"available\", \"developer\", \"add\", \"apps\", \"people\", \"modern\", \"centre\", \"walmart\", \"browser\", \"africa\", \"red\", \"tip\", \"good\", \"privacy\", \"finally\", \"announce\", \"want\", \"new\", \"build\", \"summer\", \"apple\", \"microsoft\", \"2\", \"platform\", \"google\", \"ai\", \"development\", \"technology\", \"business\", \"market\", \"global\", \"software\", \"ibm\", \"growth\", \"key\", \"player\", \"2025\", \"digital\", \"oracle\", \"percent\", \"analysis\", \"state\", \"call\", \"solution\", \"half\", \"trend\", \"internet\", \"sap\", \"reality\", \"intelligence\", \"join\", \"intel\", \"smart\", \"fortune\", \"cisco\", \"election\", \"pledge\", \"iot\", \"healthcare\", \"top\", \"technology\", \"online\", \"system\", \"amazon\", \"microsoft\", \"google\", \"business\", \"2019\", \"cloud\", \"service\", \"one\", \"sony\", \"gaming\", \"5\", \"forecast\", \"deal\", \"e3\", \"review\", \"bill\", \"war\", \"console\", \"offer\", \"13\", \"opportunity\", \"outlook\", \"gold\", \"controller\", \"computing\", \"gate\", \"demand\", \"2024\", \"title\", \"lead\", \"2026\", \"hp\", \"leaked\", \"aws\", \"may\", \"xbox\", \"enterprise\", \"industry\", \"innovation\", \"19\", \"news\", \"microsoft\", \"game\", \"best\", \"window\", \"10\", \"fox40\", \"user\", \"need\", \"app\", \"end\", \"patch\", \"fix\", \"preview\", \"device\", \"o\", \"national\", \"bet\", \"io\", \"linux\", \"500\", \"11\", \"issue\", \"vulnerability\", \"stop\", \"president\", \"upgrade\", \"know\", \"update\", \"phone\", \"feature\", \"get\", \"release\", \"award\", \"security\", \"store\", \"microsoft\", \"new\", \"year\", \"like\", \"best\", \"android\", \"news\", \"tech\", \"u\", \"huawei\", \"say\", \"company\", \"facebook\", \"cnet\", \"china\", \"win\", \"giant\", \"india\", \"bitcoin\", \"ceo\", \"billion\", \"firm\", \"chief\", \"daily\", \"uk\", \"ticket\", \"photo\", \"change\", \"give\", \"job\", \"memorial\", \"leader\", \"see\", \"public\", \"weather\", \"employee\", \"former\", \"laptop\", \"google\", \"report\", \"could\", \"news\", \"mobile\", \"microsoft\", \"apple\", \"ban\", \"amazon\", \"video\", \"june\", \"msft\", \"minecraft\", \"team\", \"office\", \"go\", \"coming\", \"co\", \"high\", \"de\", \"pas\", \"earth\", \"experience\", \"365\", \"smartphone\", \"sale\", \"post\", \"let\", \"brings\", \"month\", \"la\", \"car\", \"ar\", \"real\", \"improve\", \"word\", \"streaming\", \"password\", \"game\", \"make\", \"ai\", \"pc\", \"world\", \"first\", \"time\", \"free\", \"microsoft\", \"xbox\", \"group\", \"way\", \"day\", \"show\", \"watch\", \"1\", \"take\", \"week\", \"conference\", \"student\", \"today\", \"3\", \"city\", \"storm\", \"computer\", \"weekend\", \"startup\", \"coast\", \"work\", \"school\", \"still\", \"rain\", \"price\", \"police\", \"mother\", \"start\", \"meet\", \"full\", \"county\", \"playstation\", \"health\", \"mr\", \"live\", \"help\", \"use\"], \"Total\": [355.0, 259.0, 264.0, 375.0, 197.0, 173.0, 217.0, 172.0, 137.0, 1175.0, 139.0, 136.0, 189.0, 111.0, 117.0, 152.0, 136.0, 236.0, 100.0, 99.0, 112.0, 101.0, 90.0, 91.0, 96.0, 159.0, 90.0, 90.0, 75.0, 79.0, 101.53591918945312, 83.42520904541016, 75.85765838623047, 70.49578094482422, 65.96405792236328, 64.71940612792969, 58.064395904541016, 56.64116668701172, 56.06713104248047, 53.86677551269531, 53.245635986328125, 47.99379348754883, 43.15823745727539, 41.705238342285156, 38.515602111816406, 34.763893127441406, 30.742399215698242, 28.68208122253418, 27.77326774597168, 27.516193389892578, 26.75459098815918, 26.609146118164062, 26.46636199951172, 26.197072982788086, 25.410564422607422, 23.56114387512207, 23.33971405029297, 23.241601943969727, 22.76173210144043, 16.972665786743164, 56.787071228027344, 375.8304748535156, 64.08492279052734, 56.48114776611328, 159.13987731933594, 1175.1229248046875, 60.599815368652344, 39.759639739990234, 236.39877319335938, 152.82054138183594, 41.67177963256836, 124.72762298583984, 128.06004333496094, 264.4267272949219, 96.02881622314453, 90.65805053710938, 90.4713363647461, 83.36212921142578, 76.02203369140625, 70.46446228027344, 63.336177825927734, 60.96003723144531, 53.106719970703125, 51.380104064941406, 50.19937515258789, 49.998329162597656, 49.61064529418945, 45.38805389404297, 41.215213775634766, 39.95088195800781, 39.493194580078125, 39.0035400390625, 38.125247955322266, 37.6555061340332, 36.43897247314453, 33.46464538574219, 30.899099349975586, 30.6285457611084, 29.936269760131836, 29.733612060546875, 29.44584846496582, 27.79112434387207, 27.54009437561035, 80.40592193603516, 124.72762298583984, 74.69003295898438, 103.47904205322266, 106.69001007080078, 1175.1229248046875, 236.39877319335938, 128.06004333496094, 355.4845275878906, 197.34942626953125, 139.4085693359375, 99.01722717285156, 79.02318572998047, 70.56059265136719, 60.34513854980469, 54.47505569458008, 52.293067932128906, 43.8387451171875, 36.85042190551758, 36.485252380371094, 34.096229553222656, 32.54582214355469, 31.74565315246582, 29.558340072631836, 29.094863891601562, 26.82513427734375, 26.70865249633789, 25.173583984375, 24.940359115600586, 24.461410522460938, 24.22323989868164, 23.990768432617188, 23.37419891357422, 20.788780212402344, 20.5247745513916, 20.057729721069336, 18.522552490234375, 17.45381736755371, 136.2615509033203, 189.2364044189453, 50.3304443359375, 53.65849685668945, 40.0757942199707, 29.625484466552734, 182.5097198486328, 1175.1229248046875, 217.29302978515625, 77.73854064941406, 259.5443420410156, 172.24761962890625, 91.07373046875, 71.69081115722656, 58.81517028808594, 55.15439987182617, 51.575382232666016, 43.49116134643555, 40.883522033691406, 40.86786651611328, 37.943824768066406, 32.984886169433594, 31.96993637084961, 29.261505126953125, 27.367389678955078, 27.1038818359375, 25.7450008392334, 25.396953582763672, 25.04950523376465, 24.807159423828125, 22.342571258544922, 21.98256492614746, 19.535863876342773, 48.82223892211914, 112.36344146728516, 43.338462829589844, 46.12656784057617, 81.7265853881836, 44.769065856933594, 49.425941467285156, 92.50535583496094, 65.11822509765625, 1175.1229248046875, 375.8304748535156, 84.9630126953125, 54.06156921386719, 77.73854064941406, 38.37982177734375, 182.5097198486328, 173.94602966308594, 137.7753143310547, 136.25692749023438, 100.80259704589844, 90.2811508178711, 59.71980285644531, 54.99903869628906, 51.32080841064453, 49.997032165527344, 45.884071350097656, 46.33503723144531, 35.58232116699219, 35.18966293334961, 35.042137145996094, 34.657257080078125, 33.764644622802734, 33.31529235839844, 31.568744659423828, 29.651683807373047, 29.637542724609375, 29.55565071105957, 25.89463233947754, 25.67037010192871, 24.876108169555664, 24.198081970214844, 23.49652671813965, 22.918384552001953, 21.33846664428711, 20.409761428833008, 20.299039840698242, 54.84785842895508, 236.39877319335938, 71.13383483886719, 42.20872116088867, 182.5097198486328, 62.69585037231445, 1175.1229248046875, 159.13987731933594, 38.12418746948242, 106.69001007080078, 75.82971954345703, 65.01023864746094, 57.5279426574707, 56.076560974121094, 53.07550048828125, 50.22398376464844, 49.487911224365234, 48.611976623535156, 47.94577407836914, 39.39944076538086, 39.26179885864258, 33.48019790649414, 32.5671501159668, 31.370311737060547, 30.569440841674805, 30.04741859436035, 28.875431060791016, 28.290376663208008, 26.009769439697266, 25.892375946044922, 25.64283561706543, 25.525527954101562, 25.154552459716797, 24.35307502746582, 20.63520622253418, 20.28045082092285, 19.591949462890625, 19.547719955444336, 32.9256591796875, 217.29302978515625, 74.39320373535156, 152.82054138183594, 78.37045288085938, 90.97085571289062, 73.44416046142578, 66.81673431396484, 58.36252975463867, 1175.1229248046875, 189.2364044189453, 37.798831939697266, 36.67225646972656, 111.0407485961914, 59.22563934326172, 58.38987350463867, 56.05495071411133, 50.60591125488281, 50.523643493652344, 48.104103088378906, 46.58926773071289, 44.764469146728516, 41.364864349365234, 40.65053176879883, 40.003238677978516, 38.570709228515625, 38.219051361083984, 36.98701858520508, 34.450626373291016, 33.83750915527344, 31.53841781616211, 31.24918556213379, 31.164003372192383, 31.04513931274414, 29.715835571289062, 29.407047271728516, 28.83351707458496, 28.713741302490234, 28.269201278686523, 27.6428279876709, 27.607908248901367, 27.5068359375, 26.892833709716797, 117.80902862548828, 56.376220703125, 44.73406219482422], \"loglift\": [30.0, 29.0, 28.0, 27.0, 26.0, 25.0, 24.0, 23.0, 22.0, 21.0, 20.0, 19.0, 18.0, 17.0, 16.0, 15.0, 14.0, 13.0, 12.0, 11.0, 10.0, 9.0, 8.0, 7.0, 6.0, 5.0, 4.0, 3.0, 2.0, 1.0, 1.7935999631881714, 1.7918000221252441, 1.7906999588012695, 1.7898000478744507, 1.7890000343322754, 1.788699984550476, 1.7871999740600586, 1.7868000268936157, 1.7867000102996826, 1.7860000133514404, 1.7857999801635742, 1.784000039100647, 1.781999945640564, 1.7812999486923218, 1.7795000076293945, 1.7770999670028687, 1.773800015449524, 1.7717000246047974, 1.7706999778747559, 1.770400047302246, 1.7695000171661377, 1.7692999839782715, 1.7690999507904053, 1.7688000202178955, 1.767699956893921, 1.7648999691009521, 1.7645000219345093, 1.7644000053405762, 1.7635999917984009, 1.7502000331878662, 1.6957999467849731, 1.4839999675750732, 1.618499994277954, 1.6117000579833984, 1.393399953842163, 0.7163000106811523, 1.4601000547409058, 1.554800033569336, 0.4212000072002411, 0.593500018119812, 1.4140000343322754, 0.4453999996185303, 0.310699999332428, 1.8065999746322632, 1.8007999658584595, 1.8004000186920166, 1.8004000186920166, 1.7994999885559082, 1.7984999418258667, 1.797700047492981, 1.7963000535964966, 1.795699954032898, 1.7936999797821045, 1.7930999994277954, 1.7927000522613525, 1.7926000356674194, 1.7925000190734863, 1.7908999919891357, 1.7889000177383423, 1.7883000373840332, 1.7879999876022339, 1.7877000570297241, 1.7871999740600586, 1.7869000434875488, 1.7862000465393066, 1.784000039100647, 1.7819000482559204, 1.781599998474121, 1.781000018119812, 1.7807999849319458, 1.780500054359436, 1.7786999940872192, 1.77839994430542, 1.5681999921798706, 1.4398000240325928, 1.5124000310897827, 1.2226999998092651, 1.1642999649047852, -0.12070000171661377, 0.3849000036716461, 0.7824000120162964, 1.9150999784469604, 1.9132000207901, 1.9113999605178833, 1.9089000225067139, 1.9067000150680542, 1.905400037765503, 1.9033000469207764, 1.9017000198364258, 1.9011000394821167, 1.8978999853134155, 1.8940999507904053, 1.8939000368118286, 1.892199993133545, 1.8910000324249268, 1.8903000354766846, 1.888200044631958, 1.8876999616622925, 1.885200023651123, 1.88510000705719, 1.8831000328063965, 1.882699966430664, 1.8819999694824219, 1.881600022315979, 1.8812999725341797, 1.8803999423980713, 1.875599980354309, 1.875, 1.8739999532699585, 1.8703999519348145, 1.867300033569336, 1.7829999923706055, 1.5527000427246094, 1.7338000535964966, 1.604699969291687, 1.6440000534057617, 1.739300012588501, 0.6298999786376953, -0.7233999967575073, 0.3910999894142151, 0.7799999713897705, 1.9321999549865723, 1.9305000305175781, 1.9259999990463257, 1.9234000444412231, 1.920799970626831, 1.919800043106079, 1.9186999797821045, 1.9155999422073364, 1.9142999649047852, 1.9142999649047852, 1.912600040435791, 1.9091999530792236, 1.9083000421524048, 1.9057999849319458, 1.9036999940872192, 1.90339994430542, 1.9017000198364258, 1.9012000560760498, 1.9006999731063843, 1.9004000425338745, 1.896399974822998, 1.895799994468689, 1.8906999826431274, 1.8344000577926636, 1.823799967765808, 1.7992000579833984, 1.7879999876022339, 1.742799997329712, 1.7374000549316406, 1.6959999799728394, 1.4491000175476074, 1.5419000387191772, 0.14259999990463257, 0.6281999945640564, 1.1996999979019165, 1.448099970817566, 1.1712000370025635, 1.597599983215332, 0.2126999944448471, 1.9526000022888184, 1.951300024986267, 1.951200008392334, 1.9490000009536743, 1.9479999542236328, 1.9430999755859375, 1.9417999982833862, 1.9407000541687012, 1.9401999711990356, 1.9386999607086182, 1.937399983406067, 1.9330999851226807, 1.9328999519348145, 1.9327000379562378, 1.9325000047683716, 1.9318000078201294, 1.93149995803833, 1.9299999475479126, 1.9282000064849854, 1.9280999898910522, 1.9280999898910522, 1.923799991607666, 1.9234999418258667, 1.9223999977111816, 1.9213999509811401, 1.920300006866455, 1.9193999767303467, 1.9164999723434448, 1.9146000146865845, 1.9142999649047852, 1.6627999544143677, 1.2756999731063843, 1.5769000053405762, 1.6841000318527222, 1.0087000131607056, 1.3568999767303467, -0.4740000069141388, 0.6690000295639038, 1.6349999904632568, 0.7401999831199646, 2.0390000343322754, 2.037100076675415, 2.035399913787842, 2.0350000858306885, 2.0341999530792236, 2.0332000255584717, 2.0329999923706055, 2.0327000617980957, 2.032399892807007, 2.0285000801086426, 2.02839994430542, 2.024600028991699, 2.0237998962402344, 2.0227999687194824, 2.0220999717712402, 2.0215001106262207, 2.020400047302246, 2.0197999477386475, 2.0169999599456787, 2.016900062561035, 2.0164999961853027, 2.016400098800659, 2.015899896621704, 2.014699935913086, 2.00819993019104, 2.0074000358581543, 2.0058999061584473, 2.0058000087738037, 1.8215999603271484, 1.801200032234192, 1.7770999670028687, 1.6890000104904175, 1.6263999938964844, 1.5749000310897827, 1.6200000047683716, 1.617300033569336, 1.6678999662399292, 0.39750000834465027, 0.8529000282287598, 1.7858999967575073, 1.784500002861023, 2.1982998847961426, 2.191499948501587, 2.1912999153137207, 2.190700054168701, 2.188999891281128, 2.188999891281128, 2.188199996948242, 2.1875998973846436, 2.186800003051758, 2.1851999759674072, 2.1849000453948975, 2.184499979019165, 2.1837000846862793, 2.183500051498413, 2.1826999187469482, 2.180999994277954, 2.180500030517578, 2.1786999702453613, 2.1784000396728516, 2.1784000396728516, 2.1782000064849854, 2.177000045776367, 2.1767001152038574, 2.176100015640259, 2.1758999824523926, 2.17549991607666, 2.174799919128418, 2.1747000217437744, 2.1745998859405518, 2.1738998889923096, 2.06469988822937, 1.5491000413894653, 1.7204999923706055], \"logprob\": [30.0, 29.0, 28.0, 27.0, 26.0, 25.0, 24.0, 23.0, 22.0, 21.0, 20.0, 19.0, 18.0, 17.0, 16.0, 15.0, 14.0, 13.0, 12.0, 11.0, 10.0, 9.0, 8.0, 7.0, 6.0, 5.0, 4.0, 3.0, 2.0, 1.0, -3.3940000534057617, -3.5922999382019043, -3.6884000301361084, -3.7625999450683594, -3.829900026321411, -3.8492000102996826, -3.9593000411987305, -3.984499931335449, -3.994800090789795, -4.0355000495910645, -4.047299861907959, -4.152900218963623, -4.261199951171875, -4.29610013961792, -4.377399921417236, -4.482399940490723, -4.60860013961792, -4.680099964141846, -4.7133002281188965, -4.722899913787842, -4.751800060272217, -4.757500171661377, -4.763000011444092, -4.773600101470947, -4.805200099945068, -4.883500099182129, -4.8933000564575195, -4.89769983291626, -4.919300079345703, -5.22629976272583, -4.072999954223633, -2.39490008354187, -4.029300212860107, -4.162399768829346, -3.3447999954223633, -2.022599935531616, -4.24370002746582, -4.570400238037109, -3.921299934387207, -4.185299873352051, -4.6641998291015625, -4.536499977111816, -4.644800186157227, -2.4238998889923096, -3.442500114440918, -3.5006000995635986, -3.5025999546051025, -3.5852999687194824, -3.678499937057495, -3.7553000450134277, -3.863300085067749, -3.902100086212158, -4.042099952697754, -4.075699806213379, -4.099299907684326, -4.103400230407715, -4.111299991607666, -4.201900005340576, -4.300300121307373, -4.332099914550781, -4.343900203704834, -4.356599807739258, -4.379899978637695, -4.392600059509277, -4.426199913024902, -4.513500213623047, -4.595399856567383, -4.604499816894531, -4.627999782562256, -4.635000228881836, -4.644999980926514, -4.704599857330322, -4.714000225067139, -3.8526999950408936, -3.542099952697754, -3.9821999073028564, -3.946000099182129, -3.97379994392395, -2.859600067138672, -3.95770001411438, -4.173099994659424, -2.019399881362915, -2.6098999977111816, -2.959199905395508, -3.3039000034332275, -3.531599998474121, -3.646199941635132, -3.8046998977661133, -3.908600091934204, -3.9500999450683594, -4.1296000480651855, -4.30709981918335, -4.317200183868408, -4.38670015335083, -4.4344000816345215, -4.460000038146973, -4.5335001945495605, -4.549699783325195, -4.633500099182129, -4.638000011444092, -4.69920015335083, -4.708799839019775, -4.728899955749512, -4.739099979400635, -4.749100208282471, -4.776000022888184, -4.8979997634887695, -4.911399841308594, -4.935400009155273, -5.018700122833252, -5.081099987030029, -3.1105000972747803, -3.012399911880493, -4.155600070953369, -4.220699787139893, -4.473199844360352, -4.680099964141846, -3.971299886703491, -3.4623000621795654, -4.035699844360352, -4.674699783325195, -2.3169000148773193, -2.728600025177002, -3.370300054550171, -3.6122000217437744, -3.8127999305725098, -3.8780999183654785, -3.946199893951416, -4.119900226593018, -4.183000087738037, -4.1834001541137695, -4.259300231933594, -4.4028000831604, -4.434899806976318, -4.525899887084961, -4.59499979019165, -4.604899883270264, -4.658100128173828, -4.6722002029418945, -4.686500072479248, -4.696499824523926, -4.805099964141846, -4.822000026702881, -4.945099830627441, -4.085400104522705, -3.262500047683716, -4.239699840545654, -4.188700199127197, -3.661900043487549, -4.269100189208984, -4.21150016784668, -3.8315999507904053, -4.089900016784668, -2.596299886703491, -3.250699996948242, -4.166100025177002, -4.369800090789795, -4.283400058746338, -4.562900066375732, -4.388500213623047, -2.696700096130371, -2.9310998916625977, -2.942199945449829, -3.245800018310547, -3.357100009918213, -3.7753000259399414, -3.8589000701904297, -3.9291999340057373, -3.9558000564575195, -4.0432000160217285, -4.034800052642822, -4.302999973297119, -4.3144001960754395, -4.318699836730957, -4.329999923706055, -4.356800079345703, -4.37060022354126, -4.425899982452393, -4.490300178527832, -4.490799903869629, -4.49370002746582, -4.630199909210205, -4.639100074768066, -4.6717000007629395, -4.700300216674805, -4.730899810791016, -4.756700038909912, -4.830999851226807, -4.877399921417236, -4.8831000328063965, -4.140699863433838, -3.066800117492676, -3.966599941253662, -4.38129997253418, -3.5924999713897705, -4.31279993057251, -3.212899923324585, -4.069200038909912, -4.532199859619141, -4.397900104522705, -3.440500020980835, -3.596299886703491, -3.7202999591827393, -3.746299982070923, -3.8020999431610107, -3.858299970626831, -3.873300075531006, -3.8914999961853027, -3.9054999351501465, -4.105800151824951, -4.109399795532227, -4.272500038146973, -4.300899982452393, -4.339399814605713, -4.365900039672852, -4.383699893951416, -4.424699783325195, -4.445700168609619, -4.53249979019165, -4.537199974060059, -4.5472002029418945, -4.5518999099731445, -4.5671000480651855, -4.600599765777588, -4.772900104522705, -4.790999889373779, -4.827000141143799, -4.829400062561035, -4.492199897766113, -2.6256000995635986, -3.72160005569458, -3.0897998809814453, -3.820199966430664, -3.722599983215332, -3.8914999961853027, -3.9886999130249023, -4.073400020599365, -2.341399908065796, -3.712100028991699, -4.389900207519531, -4.421500205993652, -2.8998000621795654, -3.535099983215332, -3.5495998859405518, -3.5910000801086426, -3.6949000358581543, -3.6965999603271484, -3.746500015258789, -3.779099941253662, -3.8197999000549316, -3.900399923324585, -3.9182000160217285, -3.934499979019165, -3.9718000888824463, -3.9811999797821045, -4.014699935913086, -4.087500095367432, -4.105899810791016, -4.178100109100342, -4.187600135803223, -4.190400123596191, -4.194399833679199, -4.2393999099731445, -4.250100135803223, -4.270400047302246, -4.274700164794922, -4.290800094604492, -4.313899993896484, -4.315299987792969, -4.318999767303467, -4.342299938201904, -2.9742000102996826, -4.226900100708008, -4.286799907684326]}, \"token.table\": {\"Topic\": [7, 4, 4, 3, 2, 3, 1, 5, 7, 3, 3, 2, 3, 7, 6, 3, 4, 1, 1, 1, 6, 1, 2, 5, 2, 4, 5, 1, 1, 4, 1, 2, 5, 1, 6, 1, 4, 7, 3, 1, 5, 7, 3, 4, 7, 4, 1, 3, 5, 5, 6, 1, 1, 4, 1, 2, 3, 5, 6, 2, 6, 1, 5, 5, 5, 5, 2, 7, 3, 5, 6, 7, 6, 5, 7, 3, 7, 3, 3, 5, 7, 7, 5, 1, 7, 6, 3, 3, 1, 1, 3, 4, 2, 3, 6, 1, 2, 5, 4, 1, 3, 6, 5, 1, 4, 1, 5, 1, 6, 4, 3, 5, 2, 4, 3, 6, 7, 3, 6, 3, 3, 4, 7, 5, 5, 2, 6, 3, 1, 1, 2, 5, 2, 6, 2, 2, 7, 2, 1, 7, 6, 3, 5, 2, 6, 5, 3, 5, 3, 6, 2, 2, 2, 4, 2, 4, 5, 2, 6, 2, 2, 4, 6, 1, 5, 1, 3, 5, 3, 6, 2, 4, 4, 3, 7, 4, 6, 2, 3, 4, 7, 5, 1, 2, 3, 4, 5, 6, 1, 6, 3, 5, 6, 1, 6, 7, 7, 6, 4, 4, 1, 4, 2, 3, 4, 5, 4, 3, 6, 3, 2, 5, 1, 3, 2, 3, 1, 6, 4, 6, 4, 4, 6, 1, 2, 4, 6, 5, 1, 3, 2, 7, 2, 7, 6, 4, 4, 7, 1, 1, 5, 7, 6, 2, 1, 3, 4, 2, 5, 3, 6, 2, 5, 7, 2, 4, 5, 5, 3, 7, 2, 6, 2, 2, 3, 7, 7, 2, 7, 1, 4, 4, 5, 7, 6, 7, 1, 4, 1, 1, 1, 2, 4, 5, 7, 1, 6, 5, 1, 2, 3, 5, 5, 6, 1, 3, 7, 2, 5, 2, 5, 5, 3, 4, 4, 1, 6, 7, 4, 6, 4, 1, 1, 7, 3, 7, 5, 6, 5, 7, 7, 5, 4, 6, 7, 5, 6, 7, 3, 6, 1, 2, 4, 7], \"Freq\": [0.9811800718307495, 0.9927568435668945, 0.9843700528144836, 0.9811105728149414, 0.13501888513565063, 0.8438680768013, 0.7095730900764465, 0.09901019930839539, 0.18151870369911194, 0.9986370205879211, 0.9587020874023438, 0.9789034128189087, 0.974432110786438, 0.991179347038269, 0.9813722372055054, 0.9777092337608337, 0.9710623025894165, 0.9758509397506714, 0.954305112361908, 0.30100664496421814, 0.6936240196228027, 0.1780860275030136, 0.5248851180076599, 0.29993435740470886, 0.9761077761650085, 0.703494668006897, 0.2605535686016083, 0.942692220211029, 0.9839088916778564, 0.9790696501731873, 0.6660807132720947, 0.05655401945114136, 0.276486337184906, 0.9762192368507385, 0.9855018258094788, 0.9866131544113159, 0.7890593409538269, 0.20232290029525757, 0.9739989638328552, 0.9886938333511353, 0.734441876411438, 0.26230067014694214, 0.3215908110141754, 0.4630907475948334, 0.20581811666488647, 0.9568885564804077, 0.9886801838874817, 0.9867000579833984, 0.9702604413032532, 0.9836345314979553, 0.9655351638793945, 0.9823790788650513, 0.8270276188850403, 0.1560429483652115, 0.22645626962184906, 0.35920649766921997, 0.10932371765375137, 0.17179441452026367, 0.1327502280473709, 0.9876912236213684, 0.9541016221046448, 0.9717958569526672, 0.9661928415298462, 0.9811998605728149, 0.9773536920547485, 0.9742636680603027, 0.9687245488166809, 0.9839969873428345, 0.9931622743606567, 0.9818353652954102, 0.9802740812301636, 0.986919641494751, 0.9874109625816345, 0.985809326171875, 0.9852035641670227, 0.9622957110404968, 0.9770476222038269, 0.9832291007041931, 0.9533803462982178, 0.7581371665000916, 0.2132260799407959, 0.9767451882362366, 0.9605198502540588, 0.9947218894958496, 0.9906273484230042, 0.9678618907928467, 0.9752726554870605, 0.9495013952255249, 0.978026270866394, 0.6719175577163696, 0.31196171045303345, 0.9751257300376892, 0.9842513799667358, 0.9808675050735474, 0.9825851917266846, 0.9929672479629517, 0.97532719373703, 0.9799232482910156, 0.9888438582420349, 0.15894952416419983, 0.8344849944114685, 0.9881954789161682, 0.9879469871520996, 0.13007688522338867, 0.8671792149543762, 0.9665345549583435, 0.9810355305671692, 0.34039464592933655, 0.6535577178001404, 0.9783892631530762, 0.9912793636322021, 0.9360048770904541, 0.9794784188270569, 0.9882103204727173, 0.30841705203056335, 0.6853712797164917, 0.9551030397415161, 0.21629777550697327, 0.7777515649795532, 0.9920551776885986, 0.981137216091156, 0.819806694984436, 0.1713028848171234, 0.9807325005531311, 0.9654510617256165, 0.9892863631248474, 0.9901407957077026, 0.9734672904014587, 0.942599356174469, 0.24957828223705292, 0.24111799895763397, 0.5076168179512024, 0.21164675056934357, 0.7672194838523865, 0.9956559538841248, 0.9705154299736023, 0.9815741777420044, 0.9803888201713562, 0.46118736267089844, 0.5144012570381165, 0.989861786365509, 0.9472657442092896, 0.9907752871513367, 0.9947901964187622, 0.9368628263473511, 0.9711872935295105, 0.7268187403678894, 0.2609092891216278, 0.7485815286636353, 0.22457446157932281, 0.9861153364181519, 0.9825920462608337, 0.987511932849884, 0.9865756630897522, 0.9715331792831421, 0.9581027626991272, 0.9738854765892029, 0.9879531860351562, 0.9844602942466736, 0.9865561127662659, 0.08192987740039825, 0.901228666305542, 0.9794116616249084, 0.23701928555965424, 0.7475223541259766, 0.9949030876159668, 0.9620574116706848, 0.9504885673522949, 0.9717882871627808, 0.9611772894859314, 0.3699485659599304, 0.6104151606559753, 0.9592722058296204, 0.12732470035552979, 0.8658080101013184, 0.22851549088954926, 0.7661990523338318, 0.9983862042427063, 0.873320460319519, 0.1174212396144867, 0.9751428961753845, 0.9647811651229858, 0.33783701062202454, 0.14466571807861328, 0.07148188352584839, 0.16679106652736664, 0.08765040338039398, 0.19146932661533356, 0.9809669256210327, 0.9808019399642944, 0.2073502391576767, 0.5423006415367126, 0.2392502874135971, 0.9812403917312622, 0.9749311804771423, 0.9861581921577454, 0.966800332069397, 0.9908228516578674, 0.9696609973907471, 0.9861401319503784, 0.7263913154602051, 0.27139896154403687, 0.1534164845943451, 0.2739579975605011, 0.1808122843503952, 0.3890203833580017, 0.9701412916183472, 0.9765116572380066, 0.9756295084953308, 0.9897267818450928, 0.7363767027854919, 0.24099601805210114, 0.9888842105865479, 0.9623691439628601, 0.9791604280471802, 0.9692402482032776, 0.9766058325767517, 0.985657274723053, 0.1822286993265152, 0.789657711982727, 0.988706648349762, 0.33175769448280334, 0.6507554650306702, 0.9721578359603882, 0.9926021099090576, 0.8768193125724792, 0.11537095904350281, 0.9784886837005615, 0.7796851396560669, 0.20120906829833984, 0.9934085607528687, 0.9779806733131409, 0.9848586916923523, 0.9759106636047363, 0.9543881416320801, 0.9553025364875793, 0.9787640571594238, 0.9663348197937012, 0.9465784430503845, 0.9731630086898804, 0.959928035736084, 0.9626491069793701, 0.9692173600196838, 0.970485508441925, 0.9838427901268005, 0.15635795891284943, 0.826463520526886, 0.30927616357803345, 0.6888423562049866, 0.976922333240509, 0.969682514667511, 0.9742705225944519, 0.9920379519462585, 0.9829282164573669, 0.20539350807666779, 0.6161805391311646, 0.1729629635810852, 0.9788680672645569, 0.997069239616394, 0.979305624961853, 0.9709020853042603, 0.9651411175727844, 0.9927414059638977, 0.991450309753418, 0.9870520830154419, 0.9710921049118042, 0.9733144640922546, 0.980032742023468, 0.9600250124931335, 0.9792932868003845, 0.9399096965789795, 0.6756941080093384, 0.30713367462158203, 0.9749210476875305, 0.9719803929328918, 0.9873518347740173, 0.8321360349655151, 0.15934520959854126, 0.9853851199150085, 0.9816687107086182, 0.11596550792455673, 0.5604999661445618, 0.22226722538471222, 0.10630171746015549, 0.9880268573760986, 0.9830899238586426, 0.9797363877296448, 0.9945613741874695, 0.2565590441226959, 0.6895024180412292, 0.048104822635650635, 0.978022038936615, 0.344225138425827, 0.6435513496398926, 0.9761835336685181, 0.9839909672737122, 0.9829224348068237, 0.7835243940353394, 0.2114272117614746, 0.9761987328529358, 0.9943726062774658, 0.9819839596748352, 0.09789661318063736, 0.8899691700935364, 0.9725702404975891, 0.290606290102005, 0.08941732347011566, 0.6259212493896484, 0.9903640151023865, 0.9890581369400024, 0.9674626588821411, 0.9771076440811157, 0.898091733455658, 0.08804821223020554, 0.9678489565849304, 0.9933229088783264, 0.21814855933189392, 0.7635199427604675, 0.9372744560241699, 0.9896356463432312, 0.9681035876274109, 0.9800581932067871, 0.9979026913642883, 0.9697861075401306, 0.9752491116523743, 0.20885810256004333, 0.6265742778778076, 0.16488797962665558, 0.6922557950019836, 0.30121055245399475, 0.17654740810394287, 0.09415861964225769, 0.48256292939186096, 0.24716638028621674], \"Term\": [\"1\", \"10\", \"11\", \"13\", \"19\", \"19\", \"2\", \"2\", \"2\", \"2019\", \"2024\", \"2025\", \"2026\", \"3\", \"365\", \"5\", \"500\", \"add\", \"africa\", \"ai\", \"ai\", \"amazon\", \"amazon\", \"amazon\", \"analysis\", \"android\", \"android\", \"announce\", \"announces\", \"app\", \"apple\", \"apple\", \"apple\", \"apps\", \"ar\", \"available\", \"award\", \"award\", \"aws\", \"azure\", \"ban\", \"ban\", \"best\", \"best\", \"best\", \"bet\", \"big\", \"bill\", \"billion\", \"bitcoin\", \"brings\", \"browser\", \"build\", \"build\", \"business\", \"business\", \"business\", \"business\", \"business\", \"call\", \"car\", \"centre\", \"ceo\", \"change\", \"chief\", \"china\", \"cisco\", \"city\", \"cloud\", \"cnet\", \"co\", \"coast\", \"coming\", \"company\", \"computer\", \"computing\", \"conference\", \"console\", \"controller\", \"could\", \"could\", \"county\", \"daily\", \"data\", \"day\", \"de\", \"deal\", \"demand\", \"developer\", \"development\", \"development\", \"device\", \"digital\", \"e3\", \"earth\", \"edge\", \"election\", \"employee\", \"end\", \"enterprise\", \"enterprise\", \"experience\", \"facebook\", \"feature\", \"feature\", \"finally\", \"firm\", \"first\", \"first\", \"fix\", \"forecast\", \"former\", \"fortune\", \"fox40\", \"free\", \"free\", \"full\", \"game\", \"game\", \"gaming\", \"gate\", \"get\", \"get\", \"giant\", \"give\", \"global\", \"go\", \"gold\", \"good\", \"google\", \"google\", \"google\", \"group\", \"group\", \"growth\", \"half\", \"health\", \"healthcare\", \"help\", \"help\", \"high\", \"hp\", \"huawei\", \"ibm\", \"improve\", \"india\", \"industry\", \"industry\", \"innovation\", \"innovation\", \"intel\", \"intelligence\", \"internet\", \"io\", \"iot\", \"issue\", \"job\", \"join\", \"june\", \"key\", \"know\", \"know\", \"la\", \"laptop\", \"laptop\", \"launch\", \"lead\", \"leader\", \"leaked\", \"let\", \"like\", \"like\", \"linux\", \"live\", \"live\", \"make\", \"make\", \"market\", \"may\", \"may\", \"meet\", \"memorial\", \"microsoft\", \"microsoft\", \"microsoft\", \"microsoft\", \"microsoft\", \"microsoft\", \"microsofts\", \"minecraft\", \"mobile\", \"mobile\", \"mobile\", \"modern\", \"month\", \"mother\", \"mr\", \"msft\", \"national\", \"need\", \"new\", \"new\", \"news\", \"news\", \"news\", \"news\", \"o\", \"offer\", \"office\", \"one\", \"online\", \"online\", \"open\", \"opportunity\", \"oracle\", \"outlook\", \"partner\", \"pas\", \"password\", \"password\", \"patch\", \"pc\", \"pc\", \"people\", \"percent\", \"phone\", \"phone\", \"photo\", \"platform\", \"platform\", \"player\", \"playstation\", \"pledge\", \"police\", \"post\", \"president\", \"preview\", \"price\", \"privacy\", \"pro\", \"public\", \"rain\", \"real\", \"reality\", \"red\", \"release\", \"release\", \"report\", \"report\", \"review\", \"sale\", \"sap\", \"say\", \"school\", \"security\", \"security\", \"security\", \"see\", \"service\", \"show\", \"smart\", \"smartphone\", \"software\", \"solution\", \"sony\", \"start\", \"startup\", \"state\", \"still\", \"stock\", \"stop\", \"store\", \"store\", \"storm\", \"streaming\", \"student\", \"summer\", \"summer\", \"support\", \"surface\", \"system\", \"system\", \"system\", \"system\", \"take\", \"talk\", \"team\", \"tech\", \"technology\", \"technology\", \"technology\", \"ticket\", \"time\", \"time\", \"tip\", \"title\", \"today\", \"top\", \"top\", \"trend\", \"u\", \"uk\", \"update\", \"update\", \"upgrade\", \"use\", \"use\", \"use\", \"user\", \"video\", \"vulnerability\", \"walmart\", \"want\", \"want\", \"war\", \"watch\", \"way\", \"way\", \"weather\", \"week\", \"weekend\", \"win\", \"window\", \"word\", \"work\", \"world\", \"world\", \"world\", \"xbox\", \"xbox\", \"year\", \"year\", \"year\", \"year\"]}, \"R\": 30, \"lambda.step\": 0.01, \"plot.opts\": {\"xlab\": \"PC1\", \"ylab\": \"PC2\"}, \"topic.order\": [5, 4, 6, 7, 3, 2, 1]};\n",
       "\n",
       "function LDAvis_load_lib(url, callback){\n",
       "  var s = document.createElement('script');\n",
       "  s.src = url;\n",
       "  s.async = true;\n",
       "  s.onreadystatechange = s.onload = callback;\n",
       "  s.onerror = function(){console.warn(\"failed to load library \" + url);};\n",
       "  document.getElementsByTagName(\"head\")[0].appendChild(s);\n",
       "}\n",
       "\n",
       "if(typeof(LDAvis) !== \"undefined\"){\n",
       "   // already loaded: just create the visualization\n",
       "   !function(LDAvis){\n",
       "       new LDAvis(\"#\" + \"ldavis_el1011814048660795543299149201\", ldavis_el1011814048660795543299149201_data);\n",
       "   }(LDAvis);\n",
       "}else if(typeof define === \"function\" && define.amd){\n",
       "   // require.js is available: use it to load d3/LDAvis\n",
       "   require.config({paths: {d3: \"https://cdnjs.cloudflare.com/ajax/libs/d3/3.5.5/d3.min\"}});\n",
       "   require([\"d3\"], function(d3){\n",
       "      window.d3 = d3;\n",
       "      LDAvis_load_lib(\"https://cdn.rawgit.com/bmabey/pyLDAvis/files/ldavis.v1.0.0.js\", function(){\n",
       "        new LDAvis(\"#\" + \"ldavis_el1011814048660795543299149201\", ldavis_el1011814048660795543299149201_data);\n",
       "      });\n",
       "    });\n",
       "}else{\n",
       "    // require.js not available: dynamically load d3 & LDAvis\n",
       "    LDAvis_load_lib(\"https://cdnjs.cloudflare.com/ajax/libs/d3/3.5.5/d3.min.js\", function(){\n",
       "         LDAvis_load_lib(\"https://cdn.rawgit.com/bmabey/pyLDAvis/files/ldavis.v1.0.0.js\", function(){\n",
       "                 new LDAvis(\"#\" + \"ldavis_el1011814048660795543299149201\", ldavis_el1011814048660795543299149201_data);\n",
       "            })\n",
       "         });\n",
       "}\n",
       "</script>"
      ],
      "text/plain": [
       "PreparedData(topic_coordinates=            Freq  cluster  topics         x         y\n",
       "topic                                                \n",
       "4      16.495131        1       1  0.099937 -0.049649\n",
       "3      16.368658        1       2  0.146633 -0.182974\n",
       "5      14.697062        1       3 -0.018002  0.299570\n",
       "6      14.435850        1       4  0.013077 -0.012772\n",
       "2      14.120111        1       5  0.093023 -0.168273\n",
       "1      12.869020        1       6  0.090381  0.196928\n",
       "0      11.014168        1       7 -0.425049 -0.082829, topic_info=     Category         Freq         Term        Total  loglift  logprob\n",
       "term                                                                  \n",
       "28    Default   355.000000         2019   355.000000  30.0000  30.0000\n",
       "19    Default   259.000000       window   259.000000  29.0000  29.0000\n",
       "77    Default   264.000000       market   264.000000  28.0000  28.0000\n",
       "16    Default   375.000000          new   375.000000  27.0000  27.0000\n",
       "40    Default   197.000000        cloud   197.000000  26.0000  26.0000\n",
       "8     Default   173.000000         tech   173.000000  25.0000  25.0000\n",
       "22    Default   217.000000         game   217.000000  24.0000  24.0000\n",
       "14    Default   172.000000           10   172.000000  23.0000  23.0000\n",
       "102   Default   137.000000            u   137.000000  22.0000  22.0000\n",
       "3     Default  1175.000000    microsoft  1175.000000  21.0000  21.0000\n",
       "13    Default   139.000000      service   139.000000  20.0000  20.0000\n",
       "193   Default   136.000000       huawei   136.000000  19.0000  19.0000\n",
       "59    Default   189.000000         xbox   189.000000  18.0000  18.0000\n",
       "170   Default   111.000000          day   111.000000  17.0000  17.0000\n",
       "33    Default   117.000000         live   117.000000  16.0000  16.0000\n",
       "90    Default   152.000000           ai   152.000000  15.0000  15.0000\n",
       "27    Default   136.000000          may   136.000000  14.0000  14.0000\n",
       "29    Default   236.000000       google   236.000000  13.0000  13.0000\n",
       "129   Default   100.000000          say   100.000000  12.0000  12.0000\n",
       "105   Default    99.000000          one    99.000000  11.0000  11.0000\n",
       "17    Default   112.000000       update   112.000000  10.0000  10.0000\n",
       "48    Default   101.000000         data   101.000000   9.0000   9.0000\n",
       "222   Default    90.000000      company    90.000000   8.0000   8.0000\n",
       "287   Default    91.000000        fox40    91.000000   7.0000   7.0000\n",
       "177   Default    96.000000       global    96.000000   6.0000   6.0000\n",
       "150   Default   159.000000        apple   159.000000   5.0000   5.0000\n",
       "73    Default    90.000000     software    90.000000   4.0000   4.0000\n",
       "186   Default    90.000000          ibm    90.000000   3.0000   3.0000\n",
       "68    Default    75.000000        video    75.000000   2.0000   2.0000\n",
       "213   Default    79.000000         sony    79.000000   1.0000   1.0000\n",
       "...       ...          ...          ...          ...      ...      ...\n",
       "110    Topic7    55.204628            1    56.054951   2.1907  -3.5910\n",
       "158    Topic7    49.755539         take    50.605911   2.1890  -3.6949\n",
       "133    Topic7    49.673801         week    50.523643   2.1890  -3.6966\n",
       "47     Topic7    47.253677   conference    48.104103   2.1882  -3.7465\n",
       "34     Topic7    45.739567      student    46.589268   2.1876  -3.7791\n",
       "35     Topic7    43.914196        today    44.764469   2.1868  -3.8198\n",
       "175    Topic7    40.514904            3    41.364864   2.1852  -3.9004\n",
       "328    Topic7    39.800541         city    40.650532   2.1849  -3.9182\n",
       "294    Topic7    39.153820        storm    40.003239   2.1845  -3.9345\n",
       "226    Topic7    37.720425     computer    38.570709   2.1837  -3.9718\n",
       "5      Topic7    37.369598      weekend    38.219051   2.1835  -3.9812\n",
       "7      Topic7    36.136639      startup    36.987019   2.1827  -4.0147\n",
       "53     Topic7    33.601036        coast    34.450626   2.1810  -4.0875\n",
       "230    Topic7    32.987038         work    33.837509   2.1805  -4.1059\n",
       "290    Topic7    30.688618       school    31.538418   2.1787  -4.1781\n",
       "97     Topic7    30.398878        still    31.249186   2.1784  -4.1876\n",
       "131    Topic7    30.314716         rain    31.164003   2.1784  -4.1904\n",
       "99     Topic7    30.194546        price    31.045139   2.1782  -4.1944\n",
       "57     Topic7    28.866346       police    29.715836   2.1770  -4.2394\n",
       "171    Topic7    28.557831       mother    29.407047   2.1767  -4.2501\n",
       "179    Topic7    27.983427        start    28.833517   2.1761  -4.2704\n",
       "321    Topic7    27.863594         meet    28.713741   2.1759  -4.2747\n",
       "6      Topic7    27.419123         full    28.269201   2.1755  -4.2908\n",
       "262    Topic7    26.793356       county    27.642828   2.1748  -4.3139\n",
       "115    Topic7    26.756458  playstation    27.607908   2.1747  -4.3153\n",
       "271    Topic7    26.656912       health    27.506836   2.1746  -4.3190\n",
       "302    Topic7    26.042984           mr    26.892834   2.1739  -4.3423\n",
       "33     Topic7   102.290779         live   117.809029   2.0647  -2.9742\n",
       "250    Topic7    29.227900         help    56.376221   1.5491  -4.2269\n",
       "30     Topic7    27.528011          use    44.734062   1.7205  -4.2868\n",
       "\n",
       "[304 rows x 6 columns], token_table=      Topic      Freq           Term\n",
       "term                                \n",
       "110       7  0.981180              1\n",
       "14        4  0.992757             10\n",
       "246       4  0.984370             11\n",
       "336       3  0.981111             13\n",
       "84        2  0.135019             19\n",
       "84        3  0.843868             19\n",
       "140       1  0.709573              2\n",
       "140       5  0.099010              2\n",
       "140       7  0.181519              2\n",
       "28        3  0.998637           2019\n",
       "307       3  0.958702           2024\n",
       "209       2  0.978903           2025\n",
       "244       3  0.974432           2026\n",
       "175       7  0.991179              3\n",
       "200       6  0.981372            365\n",
       "98        3  0.977709              5\n",
       "318       4  0.971062            500\n",
       "160       1  0.975851            add\n",
       "46        1  0.954305         africa\n",
       "90        1  0.301007             ai\n",
       "90        6  0.693624             ai\n",
       "149       1  0.178086         amazon\n",
       "149       2  0.524885         amazon\n",
       "149       5  0.299934         amazon\n",
       "210       2  0.976108       analysis\n",
       "138       4  0.703495        android\n",
       "138       5  0.260554        android\n",
       "313       1  0.942692       announce\n",
       "267       1  0.983909      announces\n",
       "190       4  0.979070            app\n",
       "...     ...       ...            ...\n",
       "74        4  0.972570        upgrade\n",
       "30        1  0.290606            use\n",
       "30        6  0.089417            use\n",
       "30        7  0.625921            use\n",
       "79        4  0.990364           user\n",
       "68        6  0.989058          video\n",
       "334       4  0.967463  vulnerability\n",
       "121       1  0.977108        walmart\n",
       "227       1  0.898092           want\n",
       "227       7  0.088048           want\n",
       "202       3  0.967849            war\n",
       "125       7  0.993323          watch\n",
       "132       5  0.218149            way\n",
       "132       6  0.763520            way\n",
       "157       5  0.937274        weather\n",
       "133       7  0.989636           week\n",
       "5         7  0.968104        weekend\n",
       "54        5  0.980058            win\n",
       "19        4  0.997903         window\n",
       "279       6  0.969786           word\n",
       "230       7  0.975249           work\n",
       "69        5  0.208858          world\n",
       "69        6  0.626574          world\n",
       "69        7  0.164888          world\n",
       "59        3  0.692256           xbox\n",
       "59        6  0.301211           xbox\n",
       "55        1  0.176547           year\n",
       "55        2  0.094159           year\n",
       "55        4  0.482563           year\n",
       "55        7  0.247166           year\n",
       "\n",
       "[334 rows x 3 columns], R=30, lambda_step=0.01, plot_opts={'xlab': 'PC1', 'ylab': 'PC2'}, topic_order=[5, 4, 6, 7, 3, 2, 1])"
      ]
     },
     "execution_count": 86,
     "metadata": {},
     "output_type": "execute_result"
    }
   ],
   "source": [
    "pyLDAvis.enable_notebook()\n",
    "vis = pyLDAvis.gensim.prepare(lda_model, corpora, dictionary)\n",
    "vis"
   ]
  },
  {
   "cell_type": "code",
   "execution_count": null,
   "metadata": {},
   "outputs": [],
   "source": [
    "# https://stackoverflow.com/questions/41819761/pyldavis-visualization-of-pyspark-generated-lda-model"
   ]
  },
  {
   "cell_type": "code",
   "execution_count": null,
   "metadata": {},
   "outputs": [],
   "source": []
  },
  {
   "cell_type": "code",
   "execution_count": null,
   "metadata": {},
   "outputs": [],
   "source": []
  },
  {
   "cell_type": "code",
   "execution_count": null,
   "metadata": {},
   "outputs": [],
   "source": []
  },
  {
   "cell_type": "code",
   "execution_count": null,
   "metadata": {},
   "outputs": [],
   "source": []
  },
  {
   "cell_type": "code",
   "execution_count": null,
   "metadata": {},
   "outputs": [],
   "source": []
  },
  {
   "cell_type": "code",
   "execution_count": null,
   "metadata": {},
   "outputs": [],
   "source": []
  },
  {
   "cell_type": "markdown",
   "metadata": {},
   "source": [
    "# Topic cluster"
   ]
  },
  {
   "cell_type": "code",
   "execution_count": null,
   "metadata": {},
   "outputs": [],
   "source": []
  },
  {
   "cell_type": "code",
   "execution_count": null,
   "metadata": {},
   "outputs": [],
   "source": []
  },
  {
   "cell_type": "code",
   "execution_count": null,
   "metadata": {},
   "outputs": [],
   "source": []
  },
  {
   "cell_type": "markdown",
   "metadata": {},
   "source": [
    "# Microsoft stock prices"
   ]
  },
  {
   "cell_type": "code",
   "execution_count": 9,
   "metadata": {},
   "outputs": [],
   "source": [
    "import datetime\n",
    "import matplotlib.pyplot as plt\n",
    "import pandas as pd\n",
    "import numpy as np\n",
    "\n",
    "from iexfinance.stocks import Stock\n",
    "from iexfinance.stocks import get_historical_data"
   ]
  },
  {
   "cell_type": "code",
   "execution_count": 12,
   "metadata": {},
   "outputs": [],
   "source": [
    "def get_prices(stock_name, t1, t2): \n",
    "    start = t1\n",
    "    end = t2 \n",
    "    stock = Stock(stock_name)\n",
    "    return get_historical_data(stock_name, start=start, end=end, output_format='pandas')\n",
    "\n",
    "def plot_candlestick(df):\n",
    "    df[\"color\"] = (df.close > df.open).map({True:\"green\",False:\"red\"})\n",
    "    fig, ax = plt.subplots()\n",
    "    for date in df.index:\n",
    "        ax.plot([date]*2, df.loc[date, [\"high\",\"low\"]].values, color = \"black\")\n",
    "        ax.plot([date]*2, df.loc[date, [\"open\",\"close\"]].values, color = df.loc[date, \"color\"], linewidth = 10)\n",
    "\n",
    "    ax.set_ylabel(\"Price [$]\")\n",
    "    ax.set_xlabel(\"Day\")\n",
    "    ax.set_title(\"OHLC of Stock Value During Trading Day\")\n",
    "    plt.show()"
   ]
  },
  {
   "cell_type": "code",
   "execution_count": 13,
   "metadata": {},
   "outputs": [
    {
     "data": {
      "image/png": "[encoded data removed]",
      "text/plain": [
       "<matplotlib.figure.Figure at 0x7f08a0b29160>"
      ]
     },
     "metadata": {},
     "output_type": "display_data"
    }
   ],
   "source": [
    "df = get_prices('MSFT', datetime.date(2019,5,4), datetime.date(2019,6,4))\n",
    "plot_candlestick(df)"
   ]
  },
  {
   "cell_type": "code",
   "execution_count": null,
   "metadata": {},
   "outputs": [],
   "source": []
  }
 ],
 "metadata": {
  "kernelspec": {
   "display_name": "Python 3",
   "language": "python",
   "name": "python3"
  },
  "language_info": {
   "codemirror_mode": {
    "name": "ipython",
    "version": 3
   },
   "file_extension": ".py",
   "mimetype": "text/x-python",
   "name": "python",
   "nbconvert_exporter": "python",
   "pygments_lexer": "ipython3",
   "version": "3.6.7"
  }
 },
 "nbformat": 4,
 "nbformat_minor": 2
}
