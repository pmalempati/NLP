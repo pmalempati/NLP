{
 "cells": [
  {
   "cell_type": "markdown",
   "metadata": {},
   "source": [
    "# Import data from webhose.io"
   ]
  },
  {
   "cell_type": "code",
   "execution_count": 1,
   "metadata": {},
   "outputs": [],
   "source": [
    "import os\n",
    "import json\n",
    "import webhoseio\n",
    "\n",
    "data_path = './data'\n",
    "model_path = './model'"
   ]
  },
  {
   "cell_type": "markdown",
   "metadata": {},
   "source": [
    "### Useful function to write and read json files"
   ]
  },
  {
   "cell_type": "code",
   "execution_count": 2,
   "metadata": {},
   "outputs": [],
   "source": [
    "def store_data(filename, data): \n",
    "    data_file = os.path.join(data_path, filename)\n",
    "    with open(data_file, 'w') as outfile:\n",
    "        json.dump(data, outfile)\n",
    "\n",
    "def load_data(filename): \n",
    "    data_file = os.path.join(data_path, filename)\n",
    "    with open(data_file) as json_data:\n",
    "        data = json.load(json_data)\n",
    "        return data"
   ]
  },
  {
   "cell_type": "markdown",
   "metadata": {},
   "source": [
    "### Query to webhose.io"
   ]
  },
  {
   "cell_type": "code",
   "execution_count": 3,
   "metadata": {},
   "outputs": [],
   "source": [
    "webhoseio.config(token=\"1a815770-8785-4596-a11c-09bdae034336\")\n",
    "query_params = {\n",
    "    \"q\": \"language:english site_type:news site_category:media organization:Microsoft\", \n",
    "    \"ts\": \"1555697996143\",\n",
    "    \"sort\": \"crawled\"\n",
    "}"
   ]
  },
  {
   "cell_type": "code",
   "execution_count": 4,
   "metadata": {},
   "outputs": [],
   "source": [
    "output = webhoseio.query(\"filterWebContent\", query_params)\n",
    "feeds = [ item for item in output['posts']]\n",
    "while output['moreResultsAvailable'] > 0:\n",
    "    output = webhoseio.get_next()\n",
    "    feeds += [ item for item in output['posts']]"
   ]
  },
  {
   "cell_type": "code",
   "execution_count": 8,
   "metadata": {},
   "outputs": [],
   "source": [
    "store_data('microsoft_0504_0604.json', feeds)"
   ]
  },
  {
   "cell_type": "markdown",
   "metadata": {},
   "source": [
    "### We repeate the webhose query two time and here we merge the different files"
   ]
  },
  {
   "cell_type": "code",
   "execution_count": 9,
   "metadata": {},
   "outputs": [],
   "source": [
    "def merge_files(file1, file2, new_file):\n",
    "    data1 = load_data(file1)\n",
    "    data2 = load_data(file2)\n",
    "    data = data1 + data2 \n",
    "    store_data(new_file, data)"
   ]
  },
  {
   "cell_type": "code",
   "execution_count": 10,
   "metadata": {},
   "outputs": [],
   "source": [
    "merge_files('microsoft_0504_0604.json', 'microsoft_0604_0612.json', 'microsoft_webhose.json')"
   ]
  },
  {
   "cell_type": "code",
   "execution_count": 11,
   "metadata": {},
   "outputs": [
    {
     "name": "stdout",
     "output_type": "stream",
     "text": [
      "* Total number of news articles: 17123\n",
      "* Date range: from 2019-05-04 to 2019-06-12\n"
     ]
    }
   ],
   "source": [
    "news_list = load_data('microsoft_webhose.json')\n",
    "print('* Total number of news articles: {}'.format(len(news_list)))\n",
    "print('* Date range: from {} to {}'.format(\n",
    "    min([news_list[x]['published'][:10] for x in range(len(news_list))]), \n",
    "    max([news_list[x]['published'][:10] for x in range(len(news_list))])))"
   ]
  },
  {
   "cell_type": "markdown",
   "metadata": {},
   "source": [
    "\n",
    "# Deduplicate titles "
   ]
  },
  {
   "cell_type": "code",
   "execution_count": 12,
   "metadata": {},
   "outputs": [],
   "source": [
    "import re\n",
    "import time\n",
    "import warnings\n",
    "import numpy as np\n",
    "import pandas as pd \n",
    "\n",
    "warnings.filterwarnings(\"ignore\")\n",
    "\n",
    "import nltk\n",
    "from nltk.stem.wordnet import WordNetLemmatizer\n",
    "stopwords = set(nltk.corpus.stopwords.words('english'))\n",
    "\n",
    "from gensim.models import KeyedVectors\n",
    "from simhash import Simhash, SimhashIndex"
   ]
  },
  {
   "cell_type": "markdown",
   "metadata": {},
   "source": [
    "### Useful function to cleanup text and load word2vec "
   ]
  },
  {
   "cell_type": "code",
   "execution_count": 13,
   "metadata": {},
   "outputs": [],
   "source": [
    "def cleanup_text(text):\n",
    "    text = re.sub(r'http\\S+', '', text)\n",
    "    text = text.replace(\"'s\", \" \")\n",
    "    text = text.replace(\"n't\", \" not \")\n",
    "    text = text.replace(\"'ve\", \" have \")\n",
    "    text = text.replace(\"'re\", \" are \")\n",
    "    text = text.replace(\"I'm\",\" I am \")\n",
    "    text = text.replace(\"you're\",\" you are \")\n",
    "    text = text.replace(\"You're\",\" You are \")\n",
    "    text = text.replace(\"-\",\" \")\n",
    "    text = text.replace(\"/\",\" \")\n",
    "    text = text.replace(\"(\",\" \")\n",
    "    text = text.replace(\")\",\" \")\n",
    "    text = text.replace(\"%\",\" percent \")\n",
    "    text = re.sub(r'[^a-zA-Z0-9 ]', '', text)\n",
    "    text = \" \".join([i for i in text.lower().split() if i not in stopwords])\n",
    "    token = [WordNetLemmatizer().lemmatize(i) for i in text.split()]\n",
    "    return token\n",
    "\n",
    "def load_wordvec_model(modelName, modelFile, flagBin):\n",
    "    model = KeyedVectors.load_word2vec_format(os.path.join(model_path, modelFile), binary=flagBin)\n",
    "    return model"
   ]
  },
  {
   "cell_type": "markdown",
   "metadata": {},
   "source": [
    "### Load word2vec and webhose data"
   ]
  },
  {
   "cell_type": "code",
   "execution_count": 14,
   "metadata": {},
   "outputs": [],
   "source": [
    "model_w2v_AP = load_wordvec_model('Word2Vec Google News', 'GoogleNews-vectors-negative300.bin.gz', True)\n",
    "data = load_data('microsoft_webhose.json')"
   ]
  },
  {
   "cell_type": "markdown",
   "metadata": {},
   "source": [
    "### Get titles, cleanup text, and apply Simhash"
   ]
  },
  {
   "cell_type": "code",
   "execution_count": 15,
   "metadata": {},
   "outputs": [],
   "source": [
    "tot_title = len(data)\n",
    "title_list = [' '.join(cleanup_text(str(data[i]['title']))) for i in range(tot_title)]\n",
    "objs = [(i, Simhash(title_list[i])) for i in range(tot_title)]"
   ]
  },
  {
   "cell_type": "markdown",
   "metadata": {},
   "source": [
    "#### Function checks whether the input words are present in the vocabulary for the model"
   ]
  },
  {
   "cell_type": "code",
   "execution_count": 16,
   "metadata": {},
   "outputs": [],
   "source": [
    "def vocab_check(vectors, words):\n",
    "    output = list()\n",
    "    for word in words:\n",
    "        if word in vectors.vocab:\n",
    "            output.append(word.strip())\n",
    "    return output"
   ]
  },
  {
   "cell_type": "markdown",
   "metadata": {},
   "source": [
    "#### Function calculates similarity between two strings using a particular word vector model"
   ]
  },
  {
   "cell_type": "code",
   "execution_count": 17,
   "metadata": {},
   "outputs": [],
   "source": [
    "def calc_similarity(input1, input2, vectors):\n",
    "    s1words = set(vocab_check(vectors, input1.split()))\n",
    "    s2words = set(vocab_check(vectors, input2.split()))\n",
    "    \n",
    "    output = vectors.n_similarity(s1words, s2words)\n",
    "    return output"
   ]
  },
  {
   "cell_type": "markdown",
   "metadata": {},
   "source": [
    "### Remove duplicate titles"
   ]
  },
  {
   "cell_type": "code",
   "execution_count": 18,
   "metadata": {},
   "outputs": [
    {
     "name": "stdout",
     "output_type": "stream",
     "text": [
      "Title: \n",
      "ArcBlock Joins the Decentralized Identity Foundation to Help Make Blockchain-based ID Systems a Reality\n",
      "\n",
      "Duplicates:\n",
      "ArcBlock Joins the Decentralized Identity Foundation to Help Make Blockchain-based ID Systems a Reality\n"
     ]
    }
   ],
   "source": [
    "def remove_duplicate(index, title_list, index_simahs, model_w2v_AP):\n",
    "    duplicates = set()\n",
    "    title = title_list[index]\n",
    "    \n",
    "    # calculate  hash value\n",
    "    title_hash = Simhash(title)\n",
    "    \n",
    "    # find all duplicate indices\n",
    "    dup_indices = index_simahs.get_near_dups(title_hash)\n",
    "\n",
    "    # apply word2vec \n",
    "    for dupi in dup_indices:\n",
    "        if int(dupi) == index: \n",
    "            continue\n",
    "        try:\n",
    "            score = calc_similarity(title, title_list[int(dupi)], model_w2v_AP)\n",
    "        except:\n",
    "            score = 0\n",
    "        if score > 0.55:\n",
    "            duplicates.add(int(dupi))\n",
    "    return duplicates \n",
    "\n",
    "distance = 15\n",
    "index_simahs = SimhashIndex(objs, k=distance)\n",
    "\n",
    "index = 4401\n",
    "print('Title: \\n' + data[index]['title'] + '\\n\\nDuplicates:')\n",
    "for i in remove_duplicate(index, title_list, index_simahs, model_w2v_AP): \n",
    "    print(data[i]['title'])"
   ]
  },
  {
   "cell_type": "code",
   "execution_count": 20,
   "metadata": {},
   "outputs": [
    {
     "name": "stdout",
     "output_type": "stream",
     "text": [
      "5000/17123 3005 805.1155699999999\n",
      "10000/17123 3024 1551.359043\n",
      "15000/17123 3024 2067.085246\n"
     ]
    }
   ],
   "source": [
    "start = time.clock()\n",
    "duplicates = set()\n",
    "for index in range(tot_title): \n",
    "    if index in duplicates: \n",
    "        continue \n",
    "    new_duplicates = remove_duplicate(index, title_list, index_simahs, model_w2v_AP);\n",
    "    duplicates = duplicates.union(new_duplicates)\n",
    "    if index % 5000 == 0 and index != 0: \n",
    "        print(str(index) + '/' + str(tot_title), len(duplicates), time.clock() - start)\n",
    "    \n",
    "new_feeds = data.copy()\n",
    "for dup in sorted([int(dup) for dup in duplicates], reverse=True):\n",
    "    del new_feeds[dup]"
   ]
  },
  {
   "cell_type": "code",
   "execution_count": 21,
   "metadata": {},
   "outputs": [],
   "source": [
    "store_data('microsoft_clean.json', new_feeds)"
   ]
  },
  {
   "cell_type": "code",
   "execution_count": 22,
   "metadata": {},
   "outputs": [
    {
     "name": "stdout",
     "output_type": "stream",
     "text": [
      "* Total number of news articles once removed duplicates: 14099\n",
      "* Date range: from 2019-05-04 to 2019-06-12\n"
     ]
    }
   ],
   "source": [
    "news_cleaned_list = load_data('microsoft_clean.json')\n",
    "print('* Total number of news articles once removed duplicates: {}'.format(len(news_cleaned_list)))\n",
    "print('* Date range: from {} to {}'.format(\n",
    "    min([news_list[x]['published'][:10] for x in range(len(news_cleaned_list))]), \n",
    "    max([news_list[x]['published'][:10] for x in range(len(news_cleaned_list))])))"
   ]
  },
  {
   "cell_type": "markdown",
   "metadata": {},
   "source": [
    "# Name Entity Recognition using IBM Watson"
   ]
  },
  {
   "cell_type": "code",
   "execution_count": 23,
   "metadata": {},
   "outputs": [],
   "source": [
    "from watson_developer_cloud import NaturalLanguageUnderstandingV1\n",
    "from watson_developer_cloud.natural_language_understanding_v1 import Features, EntitiesOptions, KeywordsOptions"
   ]
  },
  {
   "cell_type": "code",
   "execution_count": 24,
   "metadata": {},
   "outputs": [],
   "source": [
    "data = load_data('microsoft_clean.json') "
   ]
  },
  {
   "cell_type": "markdown",
   "metadata": {},
   "source": [
    "### Query to IBM Watson"
   ]
  },
  {
   "cell_type": "code",
   "execution_count": 63,
   "metadata": {},
   "outputs": [
    {
     "name": "stderr",
     "output_type": "stream",
     "text": [
      "/usr/lib/python3/dist-packages/ipykernel_launcher.py:4: DeprecationWarning: NaturalLanguageUnderstandingV1 is a deprecated function. watson-developer-cloud moved to ibm-watson\n",
      "  after removing the cwd from sys.path.\n"
     ]
    }
   ],
   "source": [
    "natural_language_understanding = NaturalLanguageUnderstandingV1(\n",
    "    version='2018-11-16',\n",
    "    iam_apikey='yuu9ArgvhGGfdGeC3lKKR8AhFIJNXSIEr7CPF18LeWON',\n",
    "    url='https://gateway.watsonplatform.net/natural-language-understanding/api/v1/analyze?version=2018-11-16'\n",
    ")"
   ]
  },
  {
   "cell_type": "code",
   "execution_count": 66,
   "metadata": {},
   "outputs": [
    {
     "name": "stdout",
     "output_type": "stream",
     "text": [
      "CBSE 10th Result 2019: Candidates can use alternative methods to provided by Google, Microsoft if official website is down\n"
     ]
    },
    {
     "data": {
      "text/plain": [
       "{'Company': 'Microsoft', 'JobTitle': 'official', 'Organization': 'CBSE'}"
      ]
     },
     "execution_count": 66,
     "metadata": {},
     "output_type": "execute_result"
    }
   ],
   "source": [
    "def get_title_WATSON_entities(text):\n",
    "    entities_dict = dict()\n",
    "    r = natural_language_understanding.analyze(\n",
    "        text=text, features=Features(entities=EntitiesOptions(sentiment=True, limit=10))).get_result()\n",
    "    for entity in r['entities']:\n",
    "        entities_dict[entity['type']] = entity['text']\n",
    "    return entities_dict\n",
    "\n",
    "title = data[11]['title']\n",
    "print(title)\n",
    "get_title_WATSON_entities(title)"
   ]
  },
  {
   "cell_type": "code",
   "execution_count": 65,
   "metadata": {},
   "outputs": [
    {
     "name": "stdout",
     "output_type": "stream",
     "text": [
      "5000/14099 145.285712\n",
      "10000/14099 264.242388\n"
     ]
    }
   ],
   "source": [
    "start = time.clock()\n",
    "for i in range(len(data)): \n",
    "    title = data[i]['title']\n",
    "    try:\n",
    "        entities = get_title_WATSON_entities(title)\n",
    "    except Exception:\n",
    "        entities = dict()\n",
    "    data[i]['title_entities'] = entities\n",
    "    if i % 5000 == 0 and i != 0: \n",
    "        print(str(i) + '/' + str(len(data)), time.clock() - start)"
   ]
  },
  {
   "cell_type": "code",
   "execution_count": 67,
   "metadata": {},
   "outputs": [],
   "source": [
    "store_data('microsoft_clean_with_entities.json', data)"
   ]
  },
  {
   "cell_type": "code",
   "execution_count": 69,
   "metadata": {},
   "outputs": [
    {
     "name": "stdout",
     "output_type": "stream",
     "text": [
      "* Total number of news entities: 30\n",
      "\n",
      "* List of entities find in titles:\n",
      " -Person\n",
      " -Company\n",
      " -JobTitle\n",
      " -Location\n",
      " -GeographicFeature\n",
      " -Organization\n",
      " -Quantity\n",
      " -PrintMedia\n",
      " -Facility\n",
      " -Sport\n",
      " -Broadcaster\n",
      " -Number\n",
      " -Drug\n",
      " -Hashtag\n",
      " -HealthCondition\n",
      " -TwitterHandle\n",
      " -IPAddress\n",
      " -Movie\n",
      " -Date\n",
      " -Crime\n",
      " -Measure\n",
      " -MusicGroup\n",
      " -Money\n",
      " -TelevisionShow\n",
      " -Vehicle\n",
      " -Award\n",
      " -Percent\n",
      " -NaturalEvent\n",
      " -Ordinal\n",
      " -PhoneNumber\n",
      "\n",
      "* List of words associated with Broadcaster:\n",
      " -ABC\n",
      " -CNN\n",
      " -TMZ\n",
      " -WGN\n",
      " -KTLA\n",
      " -Fox News\n",
      " -Square Enix\n",
      " -BNN\n",
      " -CBS\n",
      " -CNBC\n",
      " -NBC\n",
      " -FOX News\n",
      " -HBO\n",
      " -BBC News\n"
     ]
    }
   ],
   "source": [
    "news_cleaned_list = load_data('microsoft_clean_with_entities.json')\n",
    "entity_title_list = [news['title_entities'] for news in news_cleaned_list if len(news['title_entities'].keys()) > 0]\n",
    "tot_entities_dict = dict()\n",
    "for entity_title in entity_title_list: \n",
    "    for entity in entity_title:\n",
    "        if entity in tot_entities_dict.keys():\n",
    "            tot_entities_dict[entity] += [entity_title[entity]]\n",
    "        else:\n",
    "            tot_entities_dict[entity] = [entity_title[entity]]\n",
    "print('* Total number of news entities: {}'.format(len(tot_entities_dict)) + '\\n')\n",
    "print('* List of entities find in titles:\\n -' + '\\n -'.join(list(tot_entities_dict.keys())) + '\\n')\n",
    "print('* List of words associated with Broadcaster:\\n -' + '\\n -'.join(list(set(tot_entities_dict['Broadcaster']))))"
   ]
  },
  {
   "cell_type": "code",
   "execution_count": 71,
   "metadata": {},
   "outputs": [
    {
     "name": "stdout",
     "output_type": "stream",
     "text": [
      "word         |  count \n",
      "Microsoft    | 2145\n",
      "Google       | 273\n",
      "Huawei       | 178\n",
      "Apple        | 138\n",
      "Amazon       | 93\n",
      "Sony         | 87\n",
      "US           | 86\n",
      "Developer    | 76\n",
      "AI           | 74\n",
      "CEO          | 70\n",
      "China        | 65\n",
      "Intel        | 60\n",
      "CNET         | 59\n",
      "Facebook     | 56\n",
      "Keanu Reeves | 53\n",
      "UK           | 48\n",
      "MSFT         | 48\n",
      "India        | 48\n",
      "Nintendo     | 44\n",
      "Trump        | 42\n",
      "Partner      | 40\n",
      "London       | 35\n",
      "MSN          | 35\n",
      "@            | 33\n",
      "HP           | 33\n"
     ]
    }
   ],
   "source": [
    "from collections import Counter\n",
    "list_words = [text[1] for entity in entity_title_list for text in entity.items()]\n",
    "counts = Counter(list_words)\n",
    "print('word         |  count ')\n",
    "for i in counts.most_common(25): \n",
    "    print('{:<12} | {}'.format(i[0], i[1]))"
   ]
  },
  {
   "cell_type": "markdown",
   "metadata": {},
   "source": [
    "# Topic cluster using LDA"
   ]
  },
  {
   "cell_type": "code",
   "execution_count": 19,
   "metadata": {},
   "outputs": [],
   "source": [
    "from gensim.models import ldamodel\n",
    "from gensim.corpora.dictionary import Dictionary\n",
    "import pyLDAvis.gensim"
   ]
  },
  {
   "cell_type": "code",
   "execution_count": 20,
   "metadata": {},
   "outputs": [],
   "source": [
    "data = load_data('microsoft_clean.json') \n",
    "titles = [[data[i]['title'], data[i]['published'][:10]]  for i in range(len(data))]\n",
    "df_feeds = pd.DataFrame(titles,columns=['title', 'date'])\n",
    "titles = df_feeds[['title']].applymap(cleanup_text)['title']"
   ]
  },
  {
   "cell_type": "code",
   "execution_count": 21,
   "metadata": {},
   "outputs": [],
   "source": [
    "dictionary = Dictionary(titles)\n",
    "dictionary.filter_extremes(no_below=20, no_above=0.8)\n",
    "corpora = [dictionary.doc2bow(doc) for doc in titles]\n",
    "\n",
    "# Running and Trainign LDA model on the document term matrix.\n",
    "lda_model = ldamodel.LdaModel(corpora, num_topics=10, id2word = dictionary, passes=50)"
   ]
  },
  {
   "cell_type": "code",
   "execution_count": 22,
   "metadata": {},
   "outputs": [
    {
     "data": {
      "text/html": [
       "\n",
       "<link rel=\"stylesheet\" type=\"text/css\" href=\"https://cdn.rawgit.com/bmabey/pyLDAvis/files/ldavis.v1.0.0.css\">\n",
       "\n",
       "\n",
       "<div id=\"ldavis_el45761399697572006966011477562\"></div>\n",
       "<script type=\"text/javascript\">\n",
       "\n",
       "var ldavis_el45761399697572006966011477562_data = {\"mdsDat\": {\"Freq\": [14.851482391357422, 12.530739784240723, 12.138257026672363, 10.287179946899414, 9.368599891662598, 9.02883243560791, 9.023176193237305, 8.33963680267334, 7.9491095542907715, 6.4829864501953125], \"cluster\": [1, 1, 1, 1, 1, 1, 1, 1, 1, 1], \"topics\": [1, 2, 3, 4, 5, 6, 7, 8, 9, 10], \"x\": [0.15853478007991773, -0.250022291235172, 0.04892146533327122, -0.11534051961533454, 0.0099960977275797, -0.09700858245752297, 0.008532989049559325, -0.1499643728032968, 0.07181943231465132, 0.314531001606347], \"y\": [0.22747690118128186, -0.1034106540232897, 0.17413755155603408, 0.03473081536272231, 0.137453152700026, -0.12629059758448896, 0.06211235520608909, -0.08748711496212763, -0.0269525439850582, -0.29176986545118816]}, \"tinfo\": {\"Category\": [\"Default\", \"Default\", \"Default\", \"Default\", \"Default\", \"Default\", \"Default\", \"Default\", \"Default\", \"Default\", \"Default\", \"Default\", \"Default\", \"Default\", \"Default\", \"Default\", \"Default\", \"Default\", \"Default\", \"Default\", \"Default\", \"Default\", \"Default\", \"Default\", \"Default\", \"Default\", \"Default\", \"Default\", \"Default\", \"Default\", \"Topic1\", \"Topic1\", \"Topic1\", \"Topic1\", \"Topic1\", \"Topic1\", \"Topic1\", \"Topic1\", \"Topic1\", \"Topic1\", \"Topic1\", \"Topic1\", \"Topic1\", \"Topic1\", \"Topic1\", \"Topic1\", \"Topic1\", \"Topic1\", \"Topic1\", \"Topic1\", \"Topic1\", \"Topic1\", \"Topic1\", \"Topic1\", \"Topic1\", \"Topic1\", \"Topic1\", \"Topic1\", \"Topic1\", \"Topic1\", \"Topic1\", \"Topic1\", \"Topic1\", \"Topic1\", \"Topic1\", \"Topic1\", \"Topic1\", \"Topic1\", \"Topic1\", \"Topic1\", \"Topic1\", \"Topic1\", \"Topic1\", \"Topic1\", \"Topic1\", \"Topic1\", \"Topic1\", \"Topic1\", \"Topic2\", \"Topic2\", \"Topic2\", \"Topic2\", \"Topic2\", \"Topic2\", \"Topic2\", \"Topic2\", \"Topic2\", \"Topic2\", \"Topic2\", \"Topic2\", \"Topic2\", \"Topic2\", \"Topic2\", \"Topic2\", \"Topic2\", \"Topic2\", \"Topic2\", \"Topic2\", \"Topic2\", \"Topic2\", \"Topic2\", \"Topic2\", \"Topic2\", \"Topic2\", \"Topic2\", \"Topic2\", \"Topic2\", \"Topic2\", \"Topic2\", \"Topic2\", \"Topic2\", \"Topic2\", \"Topic2\", \"Topic2\", \"Topic2\", \"Topic3\", \"Topic3\", \"Topic3\", \"Topic3\", \"Topic3\", \"Topic3\", \"Topic3\", \"Topic3\", \"Topic3\", \"Topic3\", \"Topic3\", \"Topic3\", \"Topic3\", \"Topic3\", \"Topic3\", \"Topic3\", \"Topic3\", \"Topic3\", \"Topic3\", \"Topic3\", \"Topic3\", \"Topic3\", \"Topic3\", \"Topic3\", \"Topic3\", \"Topic3\", \"Topic3\", \"Topic3\", \"Topic3\", \"Topic3\", \"Topic3\", \"Topic3\", \"Topic3\", \"Topic3\", \"Topic3\", \"Topic3\", \"Topic3\", \"Topic3\", \"Topic3\", \"Topic3\", \"Topic3\", \"Topic4\", \"Topic4\", \"Topic4\", \"Topic4\", \"Topic4\", \"Topic4\", \"Topic4\", \"Topic4\", \"Topic4\", \"Topic4\", \"Topic4\", \"Topic4\", \"Topic4\", \"Topic4\", \"Topic4\", \"Topic4\", \"Topic4\", \"Topic4\", \"Topic4\", \"Topic4\", \"Topic4\", \"Topic4\", \"Topic4\", \"Topic4\", \"Topic4\", \"Topic4\", \"Topic4\", \"Topic4\", \"Topic4\", \"Topic4\", \"Topic4\", \"Topic4\", \"Topic4\", \"Topic4\", \"Topic4\", \"Topic4\", \"Topic4\", \"Topic4\", \"Topic4\", \"Topic5\", \"Topic5\", \"Topic5\", \"Topic5\", \"Topic5\", \"Topic5\", \"Topic5\", \"Topic5\", \"Topic5\", \"Topic5\", \"Topic5\", \"Topic5\", \"Topic5\", \"Topic5\", \"Topic5\", \"Topic5\", \"Topic5\", \"Topic5\", \"Topic5\", \"Topic5\", \"Topic5\", \"Topic5\", \"Topic5\", \"Topic5\", \"Topic5\", \"Topic5\", \"Topic5\", \"Topic5\", \"Topic5\", \"Topic5\", \"Topic5\", \"Topic5\", \"Topic5\", \"Topic5\", \"Topic5\", \"Topic5\", \"Topic5\", \"Topic5\", \"Topic5\", \"Topic5\", \"Topic5\", \"Topic5\", \"Topic5\", \"Topic5\", \"Topic5\", \"Topic6\", \"Topic6\", \"Topic6\", \"Topic6\", \"Topic6\", \"Topic6\", \"Topic6\", \"Topic6\", \"Topic6\", \"Topic6\", \"Topic6\", \"Topic6\", \"Topic6\", \"Topic6\", \"Topic6\", \"Topic6\", \"Topic6\", \"Topic6\", \"Topic6\", \"Topic6\", \"Topic6\", \"Topic6\", \"Topic6\", \"Topic6\", \"Topic6\", \"Topic6\", \"Topic6\", \"Topic6\", \"Topic6\", \"Topic6\", \"Topic6\", \"Topic6\", \"Topic6\", \"Topic6\", \"Topic6\", \"Topic6\", \"Topic6\", \"Topic6\", \"Topic6\", \"Topic6\", \"Topic6\", \"Topic6\", \"Topic6\", \"Topic7\", \"Topic7\", \"Topic7\", \"Topic7\", \"Topic7\", \"Topic7\", \"Topic7\", \"Topic7\", \"Topic7\", \"Topic7\", \"Topic7\", \"Topic7\", \"Topic7\", \"Topic7\", \"Topic7\", \"Topic7\", \"Topic7\", \"Topic7\", \"Topic7\", \"Topic7\", \"Topic7\", \"Topic7\", \"Topic7\", \"Topic7\", \"Topic7\", \"Topic7\", \"Topic7\", \"Topic7\", \"Topic7\", \"Topic7\", \"Topic7\", \"Topic7\", \"Topic7\", \"Topic7\", \"Topic7\", \"Topic7\", \"Topic7\", \"Topic7\", \"Topic7\", \"Topic7\", \"Topic8\", \"Topic8\", \"Topic8\", \"Topic8\", \"Topic8\", \"Topic8\", \"Topic8\", \"Topic8\", \"Topic8\", \"Topic8\", \"Topic8\", \"Topic8\", \"Topic8\", \"Topic8\", \"Topic8\", \"Topic8\", \"Topic8\", \"Topic8\", \"Topic8\", \"Topic8\", \"Topic8\", \"Topic8\", \"Topic8\", \"Topic8\", \"Topic8\", \"Topic8\", \"Topic8\", \"Topic8\", \"Topic8\", \"Topic8\", \"Topic8\", \"Topic8\", \"Topic8\", \"Topic8\", \"Topic8\", \"Topic8\", \"Topic8\", \"Topic8\", \"Topic8\", \"Topic9\", \"Topic9\", \"Topic9\", \"Topic9\", \"Topic9\", \"Topic9\", \"Topic9\", \"Topic9\", \"Topic9\", \"Topic9\", \"Topic9\", \"Topic9\", \"Topic9\", \"Topic9\", \"Topic9\", \"Topic9\", \"Topic9\", \"Topic9\", \"Topic9\", \"Topic9\", \"Topic9\", \"Topic9\", \"Topic9\", \"Topic9\", \"Topic9\", \"Topic9\", \"Topic9\", \"Topic9\", \"Topic9\", \"Topic9\", \"Topic9\", \"Topic9\", \"Topic9\", \"Topic9\", \"Topic9\", \"Topic9\", \"Topic9\", \"Topic9\", \"Topic9\", \"Topic9\", \"Topic9\", \"Topic9\", \"Topic10\", \"Topic10\", \"Topic10\", \"Topic10\", \"Topic10\", \"Topic10\", \"Topic10\", \"Topic10\", \"Topic10\", \"Topic10\", \"Topic10\", \"Topic10\", \"Topic10\", \"Topic10\", \"Topic10\", \"Topic10\", \"Topic10\", \"Topic10\", \"Topic10\", \"Topic10\", \"Topic10\", \"Topic10\", \"Topic10\", \"Topic10\", \"Topic10\", \"Topic10\", \"Topic10\", \"Topic10\", \"Topic10\", \"Topic10\", \"Topic10\", \"Topic10\", \"Topic10\", \"Topic10\", \"Topic10\", \"Topic10\", \"Topic10\", \"Topic10\"], \"Freq\": [923.0, 890.0, 599.0, 1305.0, 683.0, 591.0, 802.0, 384.0, 482.0, 440.0, 341.0, 551.0, 369.0, 319.0, 347.0, 258.0, 383.0, 256.0, 328.0, 253.0, 266.0, 2753.0, 215.0, 247.0, 1000.0, 373.0, 183.0, 222.0, 198.0, 224.0, 889.8982543945312, 682.6770629882812, 368.28094482421875, 346.70501708984375, 202.01194763183594, 157.18316650390625, 150.1257781982422, 121.82903289794922, 110.47738647460938, 103.2088623046875, 94.7203140258789, 87.20565795898438, 70.91276550292969, 70.85740661621094, 65.271484375, 62.56984329223633, 61.72198486328125, 61.716060638427734, 59.650936126708984, 54.41124725341797, 52.2192268371582, 50.72397232055664, 49.61245346069336, 47.56846618652344, 46.77806854248047, 40.870479583740234, 40.40019607543945, 40.15515899658203, 39.90786361694336, 39.59835433959961, 699.9013061523438, 154.91343688964844, 953.9607543945312, 158.96990966796875, 177.48898315429688, 233.13009643554688, 179.50595092773438, 188.1876220703125, 118.00900268554688, 97.28016662597656, 86.6089096069336, 79.35448455810547, 90.40763854980469, 206.55526733398438, 140.3494873046875, 81.3001480102539, 106.79436492919922, 80.52577209472656, 439.0751953125, 318.7156066894531, 246.30853271484375, 223.91786193847656, 191.65867614746094, 166.9834747314453, 158.0648193359375, 150.49298095703125, 146.42002868652344, 145.59674072265625, 139.59762573242188, 116.84440612792969, 106.77828979492188, 103.70172882080078, 102.17233276367188, 100.19111633300781, 99.72461700439453, 91.4898681640625, 90.2448959350586, 89.3321304321289, 87.88983154296875, 85.66643524169922, 84.95677185058594, 84.88992309570312, 82.28531646728516, 76.52888488769531, 66.37590789794922, 65.11860656738281, 63.85175323486328, 62.491451263427734, 309.53985595703125, 238.0838623046875, 153.3531951904297, 602.705810546875, 91.2158203125, 105.11085510253906, 105.6126937866211, 922.6162719726562, 590.16357421875, 265.11944580078125, 197.07110595703125, 167.5670928955078, 164.71548461914062, 158.33087158203125, 142.04617309570312, 132.6765594482422, 130.9298095703125, 121.41023254394531, 108.57775115966797, 103.82276916503906, 97.11674499511719, 92.71124267578125, 81.46991729736328, 80.76697540283203, 79.22919464111328, 78.2189712524414, 75.22410583496094, 65.32666778564453, 62.42887496948242, 60.5069465637207, 58.888790130615234, 58.74036407470703, 54.061927795410156, 52.210567474365234, 48.2922477722168, 48.22784423828125, 46.9375, 106.07008361816406, 230.4176025390625, 105.22301483154297, 356.59112548828125, 104.27300262451172, 342.4698181152344, 138.37437438964844, 70.77281951904297, 96.1934814453125, 83.1158676147461, 72.38201904296875, 340.89453125, 252.10031127929688, 181.244384765625, 163.2834014892578, 155.8210906982422, 155.3970489501953, 150.17002868652344, 142.2691192626953, 137.89181518554688, 131.372314453125, 128.86183166503906, 120.1143569946289, 114.13057708740234, 112.48736572265625, 110.16436767578125, 107.87367248535156, 94.9454116821289, 94.62215423583984, 92.65568542480469, 86.69845581054688, 81.92958068847656, 77.34317779541016, 75.65779113769531, 65.42190551757812, 62.81186294555664, 58.0722541809082, 57.93092346191406, 56.95943069458008, 56.38631057739258, 55.7744140625, 428.3133544921875, 111.17621612548828, 69.80645751953125, 126.07563018798828, 81.68864440917969, 127.66722106933594, 207.24752807617188, 81.15592956542969, 158.41546630859375, 255.07200622558594, 198.03070068359375, 190.21316528320312, 143.27920532226562, 134.82264709472656, 107.34539031982422, 98.22896575927734, 95.28237915039062, 85.31210327148438, 79.75245666503906, 76.01403045654297, 74.87181091308594, 68.25891876220703, 61.05421829223633, 57.948753356933594, 57.08308029174805, 54.04349136352539, 53.82871627807617, 53.73331069946289, 53.244503021240234, 53.173458099365234, 49.78793716430664, 49.34428405761719, 42.685115814208984, 40.74742126464844, 40.72306823730469, 38.70329666137695, 35.594905853271484, 34.47541809082031, 34.116119384765625, 99.69898223876953, 90.01244354248047, 101.46647644042969, 113.19464111328125, 118.63107299804688, 204.88319396972656, 91.083251953125, 106.98423767089844, 206.7571563720703, 282.10943603515625, 68.04080200195312, 72.34917449951172, 101.59518432617188, 69.96928405761719, 59.397464752197266, 187.10398864746094, 170.4571533203125, 164.16041564941406, 130.16122436523438, 117.5233383178711, 98.07125854492188, 89.51691436767578, 86.07963562011719, 84.32319641113281, 78.66085052490234, 71.40745544433594, 70.9307632446289, 68.54246520996094, 67.79647064208984, 61.87556838989258, 59.70716094970703, 59.18330001831055, 57.45270919799805, 57.20893096923828, 54.01972579956055, 54.01136016845703, 51.71165084838867, 50.87338638305664, 50.189170837402344, 49.696563720703125, 46.77753829956055, 44.165199279785156, 39.76517105102539, 39.44173812866211, 37.31269836425781, 159.0095672607422, 170.6795196533203, 68.86878967285156, 185.65235900878906, 306.3009338378906, 119.69902801513672, 85.11460876464844, 107.92649841308594, 380.63336181640625, 76.06857299804688, 58.63418197631836, 72.67162322998047, 63.092777252197266, 257.4167175292969, 147.0307159423828, 122.751220703125, 120.5128402709961, 106.25933074951172, 106.07543182373047, 103.20799255371094, 98.48991394042969, 92.55516052246094, 91.26025390625, 88.18080139160156, 81.30593872070312, 72.76730346679688, 71.2860107421875, 70.42040252685547, 66.57801818847656, 64.85546112060547, 64.61384582519531, 63.35509490966797, 60.26713180541992, 60.22550582885742, 56.460914611816406, 51.87238311767578, 51.30316162109375, 50.62855529785156, 49.30624008178711, 48.454856872558594, 47.83033752441406, 46.34388732910156, 43.98781967163086, 170.10324096679688, 74.24826049804688, 113.159912109375, 81.01925659179688, 445.5264892578125, 85.4437484741211, 113.41185760498047, 91.6756362915039, 143.4935302734375, 87.53116607666016, 383.52117919921875, 214.4302215576172, 137.8675537109375, 112.47539520263672, 92.61466979980469, 87.36537170410156, 83.04720306396484, 82.08013153076172, 76.12139129638672, 74.0339584350586, 69.15413665771484, 68.78463745117188, 67.04349517822266, 66.14225769042969, 65.69969177246094, 64.79393768310547, 64.13231658935547, 61.71019744873047, 61.07703399658203, 60.03388214111328, 59.98175048828125, 57.830223083496094, 55.24750518798828, 55.05046081542969, 53.25305938720703, 52.39388656616211, 51.81376647949219, 50.05074691772461, 49.455448150634766, 48.46656036376953, 142.21731567382812, 199.90185546875, 136.4526824951172, 89.91255950927734, 106.36229705810547, 219.30149841308594, 57.201454162597656, 60.43541717529297, 60.1627197265625, 598.5211791992188, 94.15225219726562, 89.72115325927734, 83.57820129394531, 83.30704498291016, 79.70246124267578, 73.25505065917969, 71.58183288574219, 70.01168823242188, 65.45130157470703, 64.60745239257812, 60.93865203857422, 60.891815185546875, 60.26236343383789, 58.85687255859375, 54.64719772338867, 54.630680084228516, 54.37004470825195, 51.35578536987305, 50.09800338745117, 48.49760055541992, 47.991241455078125, 47.83936309814453, 47.818511962890625, 47.15995407104492, 43.70291519165039, 43.08407974243164, 42.94106674194336, 42.20336151123047, 41.931640625, 87.49864196777344, 130.8553924560547, 87.41790008544922, 70.13410949707031, 93.1255111694336, 64.23960876464844, 94.51699829101562, 67.0899658203125, 115.21800231933594, 65.38987731933594, 54.79192352294922, 51.81725311279297, 182.23394775390625, 150.0517120361328, 120.01233673095703, 108.80786895751953, 107.56964111328125, 98.39221954345703, 94.33837890625, 85.99722290039062, 77.83346557617188, 72.52865600585938, 71.94566345214844, 70.8308334350586, 70.41007995605469, 66.29469299316406, 64.1044692993164, 61.70587921142578, 60.93878173828125, 59.48112487792969, 58.437259674072266, 57.342830657958984, 51.575042724609375, 49.26880645751953, 48.84402084350586, 45.2076416015625, 42.661373138427734, 42.641788482666016, 39.656646728515625, 39.454708099365234, 38.88100051879883, 37.551429748535156, 168.96939086914062, 140.03697204589844, 72.4078369140625, 70.2627944946289, 60.87861251831055, 55.42862319946289, 54.45695114135742, 49.42915725708008], \"Term\": [\"window\", \"xbox\", \"usa\", \"2019\", \"e3\", \"10\", \"game\", \"tech\", \"market\", \"data\", \"job\", \"google\", \"one\", \"azure\", \"2\", \"office\", \"cloud\", \"launch\", \"technology\", \"top\", \"pc\", \"microsoft\", \"assistant\", \"software\", \"new\", \"update\", \"trailer\", \"day\", \"world\", \"developer\", \"xbox\", \"e3\", \"one\", \"2\", \"video\", \"sale\", \"conference\", \"week\", \"console\", \"event\", \"month\", \"scarlett\", \"press\", \"x\", \"demo\", \"controller\", \"nintendo\", \"come\", \"technical\", \"another\", \"podcast\", \"weekend\", \"potential\", \"beach\", \"gamesradar\", \"dark\", \"switch\", \"reveal\", \"walmart\", \"ring\", \"game\", \"1\", \"2019\", \"best\", \"live\", \"may\", \"release\", \"get\", \"free\", \"watch\", \"4\", \"date\", \"3\", \"microsoft\", \"new\", \"gaming\", \"news\", \"5\", \"data\", \"azure\", \"software\", \"developer\", \"msft\", \"management\", \"co\", \"engineer\", \"server\", \"analyst\", \"million\", \"customer\", \"database\", \"inc\", \"stadium\", \"professional\", \"help\", \"sql\", \"holding\", \"solution\", \"buy\", \"administrator\", \"position\", \"crm\", \"stake\", \"rose\", \"machine\", \"drive\", \"learning\", \"senior\", \"cloud\", \"service\", \"business\", \"microsoft\", \"share\", \"support\", \"google\", \"window\", \"10\", \"pc\", \"make\", \"excel\", \"use\", \"build\", \"app\", \"pas\", \"want\", \"linux\", \"life\", \"gear\", \"feature\", \"available\", \"announced\", \"version\", \"learn\", \"let\", \"star\", \"source\", \"look\", \"revealed\", \"search\", \"still\", \"certification\", \"focus\", \"1903\", \"australia\", \"xcloud\", \"phone\", \"update\", \"microsofts\", \"new\", \"open\", \"microsoft\", \"google\", \"like\", \"get\", \"5\", \"may\", \"job\", \"top\", \"global\", \"key\", \"pro\", \"player\", \"report\", \"ibm\", \"oracle\", \"intel\", \"analysis\", \"outlook\", \"growth\", \"surface\", \"driver\", \"needed\", \"entry\", \"percent\", \"hp\", \"medium\", \"industry\", \"expert\", \"2025\", \"forecast\", \"trend\", \"content\", \"architect\", \"interview\", \"revenue\", \"review\", \"market\", \"price\", \"download\", \"stock\", \"future\", \"technology\", \"2019\", \"call\", \"microsoft\", \"launch\", \"world\", \"june\", \"bitcoin\", \"network\", \"2020\", \"ar\", \"specialist\", \"part\", \"computing\", \"product\", \"earth\", \"trial\", \"identity\", \"gen\", \"gameplay\", \"legal\", \"step\", \"talk\", \"stop\", \"making\", \"good\", \"prediction\", \"ps5\", \"working\", \"unveils\", \"mode\", \"summit\", \"integration\", \"whatsapp\", \"studio\", \"mobile\", \"say\", \"minecraft\", \"next\", \"news\", \"edge\", \"security\", \"new\", \"microsoft\", \"real\", \"project\", \"game\", \"first\", \"coming\", \"de\", \"amazon\", \"manager\", \"ca\", \"la\", \"reality\", \"care\", \"samsung\", \"join\", \"school\", \"aws\", \"stack\", \"en\", \"move\", \"virtual\", \"billion\", \"iot\", \"lenovo\", \"accounting\", \"selling\", \"local\", \"personal\", \"start\", \"process\", \"country\", \"continues\", \"communication\", \"dell\", \"control\", \"le\", \"apple\", \"huawei\", \"today\", \"u\", \"google\", \"sony\", \"store\", \"team\", \"microsoft\", \"gaming\", \"laptop\", \"cloud\", \"using\", \"office\", \"deal\", \"need\", \"365\", \"create\", \"director\", \"word\", \"dynamic\", \"v\", \"announces\", \"know\", \"post\", \"computer\", \"error\", \"2016\", \"blog\", \"m\", \"graphic\", \"un\", \"streaming\", \"going\", \"partnership\", \"leak\", \"long\", \"brings\", \"advanced\", \"design\", \"code\", \"bug\", \"secure\", \"fix\", \"uk\", \"partner\", \"desktop\", \"microsoft\", \"coming\", \"update\", \"support\", \"2019\", \"new\", \"tech\", \"assistant\", \"big\", \"blockchain\", \"city\", \"power\", \"giant\", \"15\", \"bit\", \"people\", \"amd\", \"preview\", \"multilingual\", \"case\", \"cyberpunk\", \"administrative\", \"2077\", \"finance\", \"brand\", \"startup\", \"meet\", \"intelligence\", \"100\", \"might\", \"opinion\", \"highlight\", \"smart\", \"see\", \"exec\", \"keanu\", \"company\", \"technology\", \"ai\", \"platform\", \"digital\", \"microsoft\", \"19\", \"service\", \"new\", \"usa\", \"patch\", \"representative\", \"china\", \"tea\", \"book\", \"bluekeep\", \"executive\", \"high\", \"police\", \"bitnami\", \"vulnerability\", \"title\", \"house\", \"skill\", \"o\", \"university\", \"attack\", \"ps4\", \"el\", \"coordinator\", \"io\", \"trade\", \"alert\", \"sold\", \"fl\", \"hit\", \"modern\", \"flaw\", \"msn\", \"android\", \"system\", \"access\", \"file\", \"time\", \"year\", \"new\", \"security\", \"microsoft\", \"news\", \"huawei\", \"could\", \"trailer\", \"work\", \"health\", \"state\", \"issue\", \"trump\", \"fox40\", \"17\", \"summer\", \"community\", \"tip\", \"woman\", \"return\", \"washington\", \"double\", \"back\", \"exchange\", \"w\", \"wall\", \"program\", \"story\", \"bill\", \"0\", \"national\", \"list\", \"released\", \"chicago\", \"idea\", \"west\", \"last\", \"day\", \"online\", \"end\", \"show\", \"level\", \"full\", \"new\", \"live\"], \"Total\": [923.0, 890.0, 599.0, 1305.0, 683.0, 591.0, 802.0, 384.0, 482.0, 440.0, 341.0, 551.0, 369.0, 319.0, 347.0, 258.0, 383.0, 256.0, 328.0, 253.0, 266.0, 2753.0, 215.0, 247.0, 1000.0, 373.0, 183.0, 222.0, 198.0, 224.0, 890.8447875976562, 683.62353515625, 369.2275085449219, 347.651611328125, 202.95852661132812, 158.1298065185547, 151.07235717773438, 122.7756118774414, 111.42394256591797, 104.15547180175781, 95.66688537597656, 88.15220642089844, 71.85930633544922, 71.80398559570312, 66.21806335449219, 63.516387939453125, 62.668556213378906, 62.66273880004883, 60.59757995605469, 55.357852935791016, 53.16581344604492, 51.67058181762695, 50.559051513671875, 48.51512145996094, 47.724674224853516, 41.81709671020508, 41.34678268432617, 41.10171127319336, 40.85457992553711, 40.54492950439453, 802.3363647460938, 177.6495819091797, 1305.4437255859375, 196.117431640625, 227.74612426757812, 319.9499206542969, 244.88182067871094, 285.2257080078125, 155.68577575683594, 122.63652038574219, 105.5724105834961, 95.98052978515625, 134.7295379638672, 2753.0537109375, 1000.6674194335938, 158.2080535888672, 488.8988952636719, 182.4178466796875, 440.0370178222656, 319.6773986816406, 247.27035522460938, 224.87965393066406, 192.6204376220703, 167.94528198242188, 159.02658081054688, 151.45480346679688, 147.38185119628906, 146.55853271484375, 140.55946350097656, 117.80625915527344, 107.74011993408203, 104.66351318359375, 103.13416290283203, 101.15294647216797, 100.68641662597656, 92.4516372680664, 91.20667266845703, 90.2939224243164, 88.85163116455078, 86.6281967163086, 85.91852569580078, 85.85169982910156, 83.24705505371094, 77.4906234741211, 67.33771514892578, 66.08040618896484, 64.81352996826172, 63.45320510864258, 383.06610107421875, 364.7261657714844, 255.85621643066406, 2753.0537109375, 142.32742309570312, 258.21044921875, 551.0405883789062, 923.5656127929688, 591.1128540039062, 266.0687561035156, 198.0204620361328, 168.5164337158203, 165.664794921875, 159.28016662597656, 142.99545288085938, 133.62588500976562, 131.87913513183594, 122.3594970703125, 109.52725982666016, 104.77207946777344, 98.0660400390625, 93.66053009033203, 82.41924285888672, 81.71626281738281, 80.17845916748047, 79.16828155517578, 76.17349243164062, 66.27593231201172, 63.3781623840332, 61.45627975463867, 59.83821105957031, 59.689640045166016, 55.011234283447266, 53.159942626953125, 49.241477966308594, 49.17713928222656, 47.88680648803711, 121.48058319091797, 373.10107421875, 141.81915283203125, 1000.6674194335938, 174.30526733398438, 2753.0537109375, 551.0405883789062, 98.1661148071289, 285.2257080078125, 182.4178466796875, 319.9499206542969, 341.8409729003906, 253.0466766357422, 182.19073486328125, 164.22975158691406, 156.7674560546875, 156.34335327148438, 151.11639404296875, 143.2154541015625, 138.83815002441406, 132.3186798095703, 129.80816650390625, 121.06070709228516, 115.076904296875, 113.43373107910156, 111.1107177734375, 108.8200454711914, 95.891845703125, 95.56853485107422, 93.60205078125, 87.64481353759766, 82.87594604492188, 78.28953552246094, 76.60409545898438, 66.36821746826172, 63.75819778442383, 59.01859664916992, 58.877296447753906, 57.9058952331543, 57.3326530456543, 56.720760345458984, 482.117919921875, 139.42286682128906, 76.17250061035156, 176.11190795898438, 113.77081298828125, 328.4075622558594, 1305.4437255859375, 135.20098876953125, 2753.0537109375, 256.0167236328125, 198.97540283203125, 191.15789794921875, 144.22386169433594, 135.7673797607422, 108.29011535644531, 99.17375946044922, 96.22708892822266, 86.25680541992188, 80.69717407226562, 76.95874786376953, 75.81646728515625, 69.20358276367188, 61.9989128112793, 58.893436431884766, 58.02783966064453, 54.988243103027344, 54.77339172363281, 54.6779899597168, 54.18920135498047, 54.118160247802734, 50.73263931274414, 50.28907012939453, 43.62982177734375, 41.69211959838867, 41.667762756347656, 39.64799118041992, 36.539615631103516, 35.420135498046875, 35.06083297729492, 111.58123779296875, 114.7875747680664, 135.91354370117188, 158.1331329345703, 178.07264709472656, 488.8988952636719, 159.2196807861328, 226.891357421875, 1000.6674194335938, 2753.0537109375, 110.15740966796875, 171.162353515625, 802.3363647460938, 178.09170532226562, 145.6862030029297, 188.0480194091797, 171.40122985839844, 165.1044921875, 131.10531616210938, 118.4674072265625, 99.01528930664062, 90.46105194091797, 87.02369689941406, 85.26725006103516, 79.60489654541016, 72.35153198242188, 71.87487030029297, 69.48656463623047, 68.74051666259766, 62.81968307495117, 60.651241302490234, 60.12737274169922, 58.396759033203125, 58.15299987792969, 54.963966369628906, 54.955501556396484, 52.655845642089844, 51.81745529174805, 51.13323974609375, 50.64063262939453, 47.72158432006836, 45.109291076660156, 40.70927810668945, 40.38581848144531, 38.25675964355469, 204.40304565429688, 226.30552673339844, 78.59014892578125, 259.6175231933594, 551.0405883789062, 174.58477783203125, 125.96833038330078, 213.78321838378906, 2753.0537109375, 158.2080535888672, 91.71786499023438, 383.06610107421875, 152.53123474121094, 258.36822509765625, 147.9822998046875, 123.70277404785156, 121.46434783935547, 107.21099853515625, 107.02700805664062, 104.1595687866211, 99.44143676757812, 93.5067138671875, 92.21179962158203, 89.13235473632812, 82.2574691772461, 73.71887969970703, 72.2375259399414, 71.37200164794922, 67.52953338623047, 65.80697631835938, 65.56558990478516, 64.30670928955078, 61.218692779541016, 61.17706298828125, 57.41246032714844, 52.82399368286133, 52.25481414794922, 51.58013153076172, 50.25775146484375, 49.40642547607422, 48.781898498535156, 47.295440673828125, 44.9393424987793, 197.64447021484375, 87.55399322509766, 157.95188903808594, 101.91215515136719, 2753.0537109375, 145.6862030029297, 373.10107421875, 258.21044921875, 1305.4437255859375, 1000.6674194335938, 384.464599609375, 215.3736572265625, 138.8109893798828, 113.41881561279297, 93.55809783935547, 88.30879974365234, 83.99063110351562, 83.02356719970703, 77.06494903564453, 74.97737884521484, 70.09757995605469, 69.72808837890625, 67.9869155883789, 67.08568572998047, 66.6430892944336, 65.73734283447266, 65.07571411132812, 62.65366744995117, 62.020469665527344, 60.97730255126953, 60.92520523071289, 58.77365493774414, 56.190975189208984, 55.99404525756836, 54.19647216796875, 53.33736038208008, 52.7572021484375, 50.99418640136719, 50.398860931396484, 49.40995407104492, 201.46043395996094, 328.4075622558594, 228.5247802734375, 128.2921600341797, 199.200439453125, 2753.0537109375, 80.30097961425781, 364.7261657714844, 1000.6674194335938, 599.4624633789062, 95.09354400634766, 90.6624526977539, 84.51950073242188, 84.2483139038086, 80.6438217163086, 74.19632720947266, 72.5231704711914, 70.95301055908203, 66.39263153076172, 65.54879760742188, 61.87992858886719, 61.83319091796875, 61.203636169433594, 59.79824447631836, 55.5885009765625, 55.571990966796875, 55.31134033203125, 52.29714584350586, 51.03935241699219, 49.438880920410156, 48.932559967041016, 48.78066635131836, 48.760032653808594, 48.10133743286133, 44.64419937133789, 44.025390625, 43.88237762451172, 43.14463806152344, 42.8729133605957, 118.84698486328125, 254.1809539794922, 135.12445068359375, 101.38667297363281, 225.8206024169922, 176.95611572265625, 1000.6674194335938, 226.891357421875, 2753.0537109375, 488.8988952636719, 226.30552673339844, 97.2155532836914, 183.16668701171875, 150.98439025878906, 120.94500732421875, 109.74053192138672, 108.50235748291016, 99.32489776611328, 95.2710189819336, 86.93000793457031, 78.7661361694336, 73.46136474609375, 72.87837219238281, 71.76348876953125, 71.34274291992188, 67.22734832763672, 65.03723907470703, 62.63856887817383, 61.871482849121094, 60.41388702392578, 59.36993408203125, 58.27552032470703, 52.50773620605469, 50.201454162597656, 49.77675247192383, 46.14032745361328, 43.59408950805664, 43.57448959350586, 40.589317321777344, 40.38738250732422, 39.81368637084961, 38.48413848876953, 222.99880981445312, 181.31466674804688, 105.07684326171875, 124.77892303466797, 98.97306823730469, 79.64996337890625, 1000.6674194335938, 227.74612426757812], \"loglift\": [30.0, 29.0, 28.0, 27.0, 26.0, 25.0, 24.0, 23.0, 22.0, 21.0, 20.0, 19.0, 18.0, 17.0, 16.0, 15.0, 14.0, 13.0, 12.0, 11.0, 10.0, 9.0, 8.0, 7.0, 6.0, 5.0, 4.0, 3.0, 2.0, 1.0, 1.906000018119812, 1.9056999683380127, 1.9045000076293945, 1.9042999744415283, 1.902400016784668, 1.9011000394821167, 1.9007999897003174, 1.8992999792099, 1.8984999656677246, 1.8978999853134155, 1.8970999717712402, 1.896299958229065, 1.8938000202178955, 1.8938000202178955, 1.892699956893921, 1.8920999765396118, 1.8918999433517456, 1.891800045967102, 1.8912999629974365, 1.889799952507019, 1.8890999555587769, 1.8885999917984009, 1.888200044631958, 1.8874000310897827, 1.8869999647140503, 1.8841999769210815, 1.8839000463485718, 1.8838000297546387, 1.8835999965667725, 1.8833999633789062, 1.7704999446868896, 1.7700999975204468, 1.593400001525879, 1.697100043296814, 1.6576999425888062, 1.590499997138977, 1.596500039100647, 1.4911999702453613, 1.6299999952316284, 1.6754000186920166, 1.7091000080108643, 1.7167999744415283, 1.5081000328063965, -0.6827999949455261, -0.05719999969005585, 1.2412999868392944, 0.38580000400543213, 1.0893000364303589, 2.0748000144958496, 2.0739998817443848, 2.0731000900268555, 2.072700023651123, 2.072000026702881, 2.071199893951416, 2.0708999633789062, 2.0706000328063965, 2.0703999996185303, 2.0703999996185303, 2.0701000690460205, 2.0687999725341797, 2.068000078201294, 2.0678000450134277, 2.0676000118255615, 2.0673999786376953, 2.0673999786376953, 2.066499948501587, 2.0664000511169434, 2.0662999153137207, 2.0660998821258545, 2.0657999515533447, 2.065700054168701, 2.065700054168701, 2.0653998851776123, 2.064500093460083, 2.0625998973846436, 2.062299966812134, 2.062000036239624, 2.0617001056671143, 1.8638999462127686, 1.6505000591278076, 1.5650999546051025, 0.5579000115394592, 1.632099986076355, 1.1782000064849854, 0.42500001192092896, 2.107800006866455, 2.1071999073028564, 2.1052000522613525, 2.1040000915527344, 2.1031999588012695, 2.103100061416626, 2.102799892425537, 2.102099895477295, 2.1017000675201416, 2.101599931716919, 2.1010000705718994, 2.100100040435791, 2.0996999740600586, 2.099100112915039, 2.098599910736084, 2.0971999168395996, 2.097100019454956, 2.09689998626709, 2.0966999530792236, 2.096299886703491, 2.094399929046631, 2.0936999320983887, 2.0931999683380127, 2.0927999019622803, 2.0927999019622803, 2.091399908065796, 2.0908000469207764, 2.0892999172210693, 2.0892999172210693, 2.0887999534606934, 1.9731999635696411, 1.6268999576568604, 1.8102999925613403, 1.0770000219345093, 1.5950000286102295, 0.02449999935925007, 0.7269999980926514, 1.781599998474121, 1.0219000577926636, 1.322700023651123, 0.6226000189781189, 2.2715001106262207, 2.2704999446868896, 2.2690999507904053, 2.2685000896453857, 2.268199920654297, 2.268199920654297, 2.2679998874664307, 2.2676000595092773, 2.267400026321411, 2.2671000957489014, 2.2669999599456787, 2.266400098800659, 2.2660000324249268, 2.265899896621704, 2.265700101852417, 2.265500068664551, 2.264400005340576, 2.2643001079559326, 2.2641000747680664, 2.263400077819824, 2.2627999782562256, 2.2620999813079834, 2.2618000507354736, 2.2599000930786133, 2.2592999935150146, 2.2581000328063965, 2.2581000328063965, 2.2578001022338867, 2.2576000690460205, 2.2574000358581543, 2.155900001525879, 2.0478999614715576, 2.187000036239624, 1.940000057220459, 1.9429999589920044, 1.3293999433517456, 0.43389999866485596, 1.7639000415802002, -0.5809999704360962, 2.3640999794006348, 2.36299991607666, 2.3629000186920166, 2.3612000942230225, 2.36080002784729, 2.3589999675750732, 2.3582000732421875, 2.3578999042510986, 2.356800079345703, 2.3559999465942383, 2.3554999828338623, 2.355299949645996, 2.354099988937378, 2.3524999618530273, 2.351599931716919, 2.3513998985290527, 2.3505001068115234, 2.350399971008301, 2.350399971008301, 2.3501999378204346, 2.3501999378204346, 2.3489999771118164, 2.34879994392395, 2.345900058746338, 2.344899892807007, 2.344899892807007, 2.3436999320983887, 2.341599941253662, 2.3408000469207764, 2.3405001163482666, 2.255199909210205, 2.1247000694274902, 2.075500011444092, 2.0334999561309814, 1.9615999460220337, 1.4981000423431396, 1.8092999458312988, 1.6160000562667847, 0.7908999919891357, 0.08959999680519104, 1.8860000371932983, 1.506700038909912, 0.3012999892234802, 1.4335999488830566, 1.4706000089645386, 2.3996999263763428, 2.399199962615967, 2.3989999294281006, 2.3975000381469727, 2.396699905395508, 2.39520001411438, 2.3942999839782715, 2.3938000202178955, 2.3935999870300293, 2.3928000926971436, 2.3915998935699463, 2.3914999961853027, 2.3910999298095703, 2.390899896621704, 2.3896000385284424, 2.3891000747680664, 2.3889000415802, 2.388400077819824, 2.388400077819824, 2.387399911880493, 2.387399911880493, 2.386699914932251, 2.386399984359741, 2.3861000537872314, 2.3859000205993652, 2.3847999572753906, 2.3835999965667725, 2.3812999725341797, 2.3810999393463135, 2.3798000812530518, 2.153599977493286, 2.1226000785827637, 2.272700071334839, 2.0694000720977783, 1.8174999952316284, 2.0272998809814453, 2.012700080871582, 1.7211999893188477, 0.4260999858379364, 1.6725000143051147, 1.9572999477386475, 0.7425000071525574, 1.5219999551773071, 2.401700019836426, 2.398900032043457, 2.397700071334839, 2.3975000381469727, 2.3965001106262207, 2.396399974822998, 2.396199941635132, 2.3958001136779785, 2.3951001167297363, 2.3949999809265137, 2.3945999145507812, 2.393699884414673, 2.392400026321411, 2.3921000957489014, 2.3919999599456787, 2.391200065612793, 2.3907999992370605, 2.3907999992370605, 2.390500068664551, 2.389699935913086, 2.389699935913086, 2.388700008392334, 2.387200117111206, 2.38700008392334, 2.3868000507354736, 2.3863000869750977, 2.3859000205993652, 2.385699987411499, 2.384999990463257, 2.384000062942505, 2.2553000450134277, 2.240499973297119, 2.071899890899658, 2.1758999824523926, 0.5842000246047974, 1.8717999458312988, 1.2145999670028687, 1.3698999881744385, 0.19740000367164612, -0.031099999323487282, 2.4816999435424805, 2.47979998588562, 2.477299928665161, 2.475800037384033, 2.4739999771118164, 2.473400115966797, 2.472899913787842, 2.4727001190185547, 2.4718000888824463, 2.4714999198913574, 2.470599889755249, 2.4704999923706055, 2.4702000617980957, 2.4700000286102295, 2.469899892807007, 2.4697000980377197, 2.4695000648498535, 2.4690001010894775, 2.4688000679016113, 2.468600034713745, 2.4684998989105225, 2.4679999351501465, 2.4672000408172607, 2.4672000408172607, 2.466599941253662, 2.4663000106811523, 2.466099977493286, 2.4655001163482666, 2.4653000831604004, 2.464900016784668, 2.1359000205993652, 1.9876999855041504, 1.968500018119812, 2.128700017929077, 1.8566999435424805, -0.045899998396635056, 2.14490008354187, 0.6866000294685364, -0.3271999955177307, 2.5304999351501465, 2.522200107574463, 2.521699905395508, 2.520900011062622, 2.520900011062622, 2.520400047302246, 2.5192999839782715, 2.5190000534057617, 2.5188000202178955, 2.5178000926971436, 2.5176000595092773, 2.5167999267578125, 2.5167999267578125, 2.5165998935699463, 2.516200065612793, 2.515000104904175, 2.515000104904175, 2.514899969100952, 2.5139000415802, 2.5134999752044678, 2.5129001140594482, 2.512700080871582, 2.5125999450683594, 2.5125999450683594, 2.5123000144958496, 2.5107998847961426, 2.510499954223633, 2.5104000568389893, 2.5100998878479004, 2.5099000930786133, 2.2258999347686768, 1.8681999444961548, 2.09660005569458, 2.163599967956543, 1.646299958229065, 1.5188000202178955, 0.17249999940395355, 1.3136999607086182, -0.6414999961853027, 0.5202999711036682, 1.113800048828125, 1.902899980545044, 2.7309000492095947, 2.72979998588562, 2.7281999588012695, 2.7274999618530273, 2.727400064468384, 2.726599931716919, 2.7262001037597656, 2.7251999378204346, 2.724100112915039, 2.7232000827789307, 2.723099946975708, 2.722899913787842, 2.7228000164031982, 2.7219998836517334, 2.7214999198913574, 2.7209999561309814, 2.7207999229431152, 2.720400094985962, 2.7202000617980957, 2.719899892807007, 2.718100070953369, 2.7172000408172607, 2.717099905014038, 2.71560001373291, 2.714400053024292, 2.714400053024292, 2.7126998901367188, 2.712599992752075, 2.7123000621795654, 2.7114999294281006, 2.4584999084472656, 2.4776999950408936, 2.363600015640259, 2.1617000102996826, 2.25, 2.3733999729156494, -0.17499999701976776, 1.208299994468689], \"logprob\": [30.0, 29.0, 28.0, 27.0, 26.0, 25.0, 24.0, 23.0, 22.0, 21.0, 20.0, 19.0, 18.0, 17.0, 16.0, 15.0, 14.0, 13.0, 12.0, 11.0, 10.0, 9.0, 8.0, 7.0, 6.0, 5.0, 4.0, 3.0, 2.0, 1.0, -2.4795000553131104, -2.7446000576019287, -3.361799955368042, -3.4221999645233154, -3.9623000621795654, -4.213200092315674, -4.259200096130371, -4.4679999351501465, -4.565800189971924, -4.633900165557861, -4.719699859619141, -4.8024001121521, -5.009200096130371, -5.010000228881836, -5.092100143432617, -5.134399890899658, -5.1479997634887695, -5.148099899291992, -5.18209981918335, -5.274099826812744, -5.315199851989746, -5.344200134277344, -5.366399765014648, -5.4085001945495605, -5.42519998550415, -5.560200214385986, -5.571800231933594, -5.577899932861328, -5.584099769592285, -5.591899871826172, -2.7197000980377197, -4.227799892425537, -2.4100000858306885, -4.201900005340576, -4.091700077056885, -3.819000005722046, -4.080399990081787, -4.033199787139893, -4.499899864196777, -4.692999839782715, -4.809199810028076, -4.896699905395508, -4.766300201416016, -3.9400999546051025, -4.326499938964844, -4.872499942779541, -4.599699974060059, -4.8821001052856445, -3.0160999298095703, -3.336400032043457, -3.594099998474121, -3.689500093460083, -3.8450000286102295, -3.982800006866455, -4.037700176239014, -4.0868000984191895, -4.114299774169922, -4.119900226593018, -4.1620001792907715, -4.339900016784668, -4.429999828338623, -4.459199905395508, -4.474100112915039, -4.49370002746582, -4.498300075531006, -4.584499835968018, -4.598199844360352, -4.608399868011475, -4.624599933624268, -4.650300025939941, -4.658599853515625, -4.65939998626709, -4.690499782562256, -4.7631001472473145, -4.905399799346924, -4.924499988555908, -4.944200038909912, -4.965700149536133, -3.365600109100342, -3.6280999183654785, -4.067999839782715, -2.6993000507354736, -4.587500095367432, -4.445700168609619, -4.440999984741211, -2.2416999340057373, -2.688499927520752, -3.4886999130249023, -3.7853000164031982, -3.947499990463257, -3.9646999835968018, -4.004199981689453, -4.112800121307373, -4.181000232696533, -4.194200038909912, -4.269700050354004, -4.381400108337402, -4.426199913024902, -4.493000030517578, -4.539400100708008, -4.668700218200684, -4.677299976348877, -4.696599960327148, -4.709400177001953, -4.7484002113342285, -4.889500141143799, -4.934899806976318, -4.966100215911865, -4.993299961090088, -4.995800018310547, -5.078800201416016, -5.11359977722168, -5.1915998458862305, -5.192999839782715, -5.220099925994873, -4.404799938201904, -3.628999948501587, -4.412799835205078, -3.1923000812530518, -4.421899795532227, -3.2327001094818115, -4.138899803161621, -4.8094000816345215, -4.502500057220459, -4.64870023727417, -4.786900043487549, -3.071899890899658, -3.3736000061035156, -3.7035999298095703, -3.808000087738037, -3.8547000885009766, -3.8575000762939453, -3.891700029373169, -3.94569993019104, -3.9769999980926514, -4.025400161743164, -4.0447001457214355, -4.114999771118164, -4.166100025177002, -4.180600166320801, -4.201499938964844, -4.222499847412109, -4.350100040435791, -4.353600025177002, -4.374599933624268, -4.440999984741211, -4.497600078582764, -4.555200099945068, -4.577199935913086, -4.722599983215332, -4.763299942016602, -4.841800212860107, -4.844200134277344, -4.861100196838379, -4.871200084686279, -4.8821001052856445, -2.843600034713745, -4.192299842834473, -4.657700061798096, -4.0665998458862305, -4.500500202178955, -4.053999900817871, -3.569499969482422, -4.5071001052856445, -3.838200092315674, -3.268399953842163, -3.5215001106262207, -3.561800003051758, -3.845099925994873, -3.905900001525879, -4.133900165557861, -4.222599983215332, -4.2530999183654785, -4.36359977722168, -4.431000232696533, -4.479000091552734, -4.494100093841553, -4.586599826812744, -4.6981000900268555, -4.750400066375732, -4.765399932861328, -4.820099830627441, -4.824100017547607, -4.825900077819824, -4.835000038146973, -4.836299896240234, -4.902100086212158, -4.911099910736084, -5.056099891662598, -5.102499961853027, -5.103099822998047, -5.1539998054504395, -5.23769998550415, -5.269700050354004, -5.280099868774414, -4.207799911499023, -4.309999942779541, -4.190199851989746, -4.0808000564575195, -4.033899784088135, -3.487499952316284, -4.298099994659424, -4.137199878692627, -3.4783999919891357, -3.16759991645813, -4.589799880981445, -4.52839994430542, -4.188899993896484, -4.5619001388549805, -4.7256999015808105, -3.541300058364868, -3.634500026702881, -3.672100067138672, -3.9042000770568848, -4.00629997253418, -4.187300205230713, -4.278500080108643, -4.317699909210205, -4.3383002281188965, -4.407800197601318, -4.5046000480651855, -4.511300086975098, -4.545499801635742, -4.55649995803833, -4.647799968719482, -4.683499813079834, -4.692299842834473, -4.7220001220703125, -4.72629976272583, -4.783599853515625, -4.78380012512207, -4.827300071716309, -4.843599796295166, -4.8572001457214355, -4.867000102996826, -4.927599906921387, -4.985000133514404, -5.090000152587891, -5.098100185394287, -5.153600215911865, -3.7039999961853027, -3.63319993019104, -4.540800094604492, -3.549099922180176, -3.0483999252319336, -3.98799991607666, -4.328999996185303, -4.0914998054504395, -2.8310999870300293, -4.441299915313721, -4.701700210571289, -4.486999988555908, -4.628399848937988, -3.22160005569458, -3.7816998958587646, -3.9621999263763428, -3.980600118637085, -4.106500148773193, -4.1082000732421875, -4.1356000900268555, -4.182400226593018, -4.244500160217285, -4.258600234985352, -4.293000221252441, -4.374100208282471, -4.485099792480469, -4.5055999755859375, -4.517899990081787, -4.573999881744385, -4.600200176239014, -4.603899955749512, -4.623600006103516, -4.673600196838379, -4.674200057983398, -4.738800048828125, -4.823599815368652, -4.83459997177124, -4.847799777984619, -4.874300003051758, -4.89169979095459, -4.904699802398682, -4.936299800872803, -4.988399982452393, -3.6359000205993652, -4.464900016784668, -4.043499946594238, -4.377699851989746, -2.673099994659424, -4.32450008392334, -4.041299819946289, -4.2540998458862305, -3.8060998916625977, -4.300300121307373, -2.7441999912261963, -3.3255999088287354, -3.7672998905181885, -3.9707999229431152, -4.16510009765625, -4.223499774932861, -4.274199962615967, -4.285900115966797, -4.361199855804443, -4.388999938964844, -4.457200050354004, -4.462600231170654, -4.4882001876831055, -4.501800060272217, -4.508500099182129, -4.52239990234375, -4.532599925994873, -4.571100234985352, -4.581399917602539, -4.598700046539307, -4.5995001792907715, -4.636099815368652, -4.681700229644775, -4.685299873352051, -4.718500137329102, -4.734799861907959, -4.7459001541137695, -4.7804999351501465, -4.792500019073486, -4.812699794769287, -3.7362000942230225, -3.395699977874756, -3.777600049972534, -4.194699764251709, -4.026700019836426, -3.303100109100342, -4.646999835968018, -4.5920000076293945, -4.596499919891357, -2.2511000633239746, -4.1006999015808105, -4.148900032043457, -4.219799995422363, -4.223100185394287, -4.267300128936768, -4.3516998291015625, -4.374800205230713, -4.396900177001953, -4.464300155639648, -4.47730016708374, -4.535699844360352, -4.536499977111816, -4.546899795532227, -4.570499897003174, -4.644700050354004, -4.644999980926514, -4.649799823760986, -4.7067999839782715, -4.731599807739258, -4.764100074768066, -4.774600028991699, -4.7778000831604, -4.778200149536133, -4.792099952697754, -4.868199825286865, -4.882500171661377, -4.885799884796143, -4.90310001373291, -4.909599781036377, -4.173999786376953, -3.7715001106262207, -4.174900054931641, -4.395199775695801, -4.111700057983398, -4.482999801635742, -4.096799850463867, -4.439599990844727, -3.8987998962402344, -4.465199947357178, -4.642099857330322, -4.69789981842041, -3.2363998889923096, -3.4307000637054443, -3.654099941253662, -3.7520999908447266, -3.7636001110076904, -3.852799892425537, -3.8947999477386475, -3.9874000549316406, -4.087200164794922, -4.157700061798096, -4.165800094604492, -4.181399822235107, -4.187399864196777, -4.247600078582764, -4.281199932098389, -4.319300174713135, -4.331900119781494, -4.356100082397461, -4.373799800872803, -4.3927001953125, -4.498700141906738, -4.544400215148926, -4.553100109100342, -4.630499839782715, -4.688399791717529, -4.688899993896484, -4.761499881744385, -4.766600131988525, -4.781199932098389, -4.815999984741211, -3.312000036239624, -3.499799966812134, -4.15939998626709, -4.189499855041504, -4.332799911499023, -4.426599979400635, -4.444300174713135, -4.541200160980225]}, \"token.table\": {\"Topic\": [10, 1, 6, 3, 8, 8, 10, 1, 8, 3, 1, 7, 1, 4, 7, 5, 4, 8, 1, 4, 6, 7, 1, 7, 1, 3, 4, 7, 9, 6, 8, 2, 7, 2, 5, 8, 9, 6, 8, 4, 2, 3, 9, 3, 7, 1, 3, 6, 7, 5, 4, 8, 9, 3, 3, 6, 2, 10, 1, 1, 10, 8, 10, 6, 8, 5, 9, 8, 7, 9, 9, 8, 7, 7, 3, 2, 6, 8, 2, 6, 4, 5, 6, 8, 3, 10, 9, 8, 2, 6, 2, 7, 1, 5, 7, 6, 10, 6, 8, 7, 5, 1, 1, 4, 6, 6, 1, 9, 5, 8, 9, 6, 7, 2, 2, 8, 1, 2, 2, 1, 3, 7, 10, 6, 7, 6, 1, 7, 7, 9, 2, 5, 7, 8, 7, 10, 1, 4, 2, 4, 7, 1, 5, 3, 5, 9, 6, 9, 10, 2, 4, 7, 1, 3, 10, 8, 9, 4, 3, 3, 9, 8, 1, 2, 3, 5, 8, 7, 10, 9, 9, 3, 4, 10, 1, 3, 7, 6, 10, 4, 8, 1, 5, 5, 1, 1, 6, 3, 5, 1, 3, 8, 4, 7, 5, 2, 3, 6, 7, 4, 10, 2, 9, 8, 9, 2, 9, 4, 6, 9, 4, 10, 5, 2, 4, 5, 4, 8, 4, 9, 6, 10, 4, 6, 5, 8, 4, 7, 6, 4, 6, 10, 5, 6, 7, 3, 2, 5, 6, 3, 2, 10, 3, 3, 4, 3, 10, 1, 10, 6, 7, 3, 7, 2, 3, 5, 2, 6, 4, 6, 1, 3, 7, 4, 8, 1, 2, 3, 4, 5, 6, 7, 8, 9, 1, 3, 8, 2, 1, 5, 4, 5, 5, 9, 1, 6, 2, 9, 8, 10, 7, 4, 5, 1, 3, 5, 7, 8, 9, 10, 1, 2, 3, 5, 9, 1, 5, 1, 9, 7, 1, 6, 10, 3, 5, 8, 8, 4, 4, 5, 2, 7, 7, 3, 9, 3, 8, 4, 6, 3, 5, 2, 8, 4, 1, 9, 2, 7, 1, 8, 5, 1, 8, 1, 4, 4, 6, 5, 2, 10, 3, 5, 6, 7, 9, 9, 5, 3, 5, 6, 1, 3, 10, 4, 9, 10, 1, 3, 4, 4, 1, 2, 1, 6, 5, 9, 1, 6, 3, 7, 2, 5, 9, 8, 6, 2, 2, 2, 4, 7, 8, 2, 4, 1, 10, 9, 8, 2, 9, 2, 1, 6, 3, 5, 2, 6, 2, 2, 3, 6, 8, 10, 5, 3, 2, 4, 5, 3, 6, 10, 7, 1, 5, 10, 5, 2, 6, 7, 9, 4, 1, 2, 4, 9, 5, 9, 5, 6, 8, 8, 1, 4, 8, 3, 5, 6, 8, 9, 10, 10, 9, 3, 6, 4, 9, 10, 4, 5, 10, 6, 9, 10, 7, 8, 7, 9, 5, 1, 3, 7, 9, 3, 2, 5, 6, 7, 3, 1, 6, 9, 10, 10, 1, 3, 10, 1, 6, 10, 1, 1, 10, 5, 3, 10, 7, 10, 5, 5, 1, 1, 3, 1, 3, 7, 9], \"Freq\": [0.9843952655792236, 0.8725041747093201, 0.12383930385112762, 0.9981173872947693, 0.978804886341095, 0.9876713752746582, 0.9893016219139099, 0.27396926283836365, 0.7098294496536255, 0.9747879505157471, 0.9981256723403931, 0.9807767271995544, 0.7307860255241394, 0.15856677293777466, 0.10954129695892334, 0.988086462020874, 0.9921140670776367, 0.9834697842597961, 0.6680049896240234, 0.1632900983095169, 0.1558678299188614, 0.996177077293396, 0.8240789175033569, 0.17049908638000488, 0.44403550028800964, 0.45499932765960693, 0.09867455810308456, 0.3478274941444397, 0.6438509225845337, 0.9801729917526245, 0.9887834787368774, 0.9927483797073364, 0.9749739766120911, 0.19691519439220428, 0.20129108428955078, 0.595121443271637, 0.9844127893447876, 0.9918248653411865, 0.984342098236084, 0.9937741756439209, 0.9961889982223511, 0.2608396112918854, 0.7320337295532227, 0.9827802181243896, 0.9868585467338562, 0.9754713773727417, 0.9930385947227478, 0.7778748869895935, 0.22015327215194702, 0.9881646037101746, 0.9850995540618896, 0.9936220049858093, 0.9762916564941406, 0.9760633111000061, 0.9929476380348206, 0.9813199043273926, 0.9978809952735901, 0.9898055195808411, 0.989382266998291, 0.810738742351532, 0.1835634857416153, 0.994157612323761, 0.9760673642158508, 0.9892625212669373, 0.9861811399459839, 0.9915141463279724, 0.9916276335716248, 0.9874904751777649, 0.9921584725379944, 0.9838761687278748, 0.9920164942741394, 0.983546257019043, 0.9887527823448181, 0.9726095795631409, 0.9919627904891968, 0.5979921221733093, 0.19542226195335388, 0.20323914289474487, 0.9904151558876038, 0.9915692210197449, 0.5991080403327942, 0.3920089602470398, 0.9949033260345459, 0.9838164448738098, 0.9816176891326904, 0.9854809641838074, 0.9938535094261169, 0.9940347671508789, 0.809259831905365, 0.19056762754917145, 0.9935445785522461, 0.9839715361595154, 0.9894236922264099, 0.40498000383377075, 0.5834457874298096, 0.9754087924957275, 0.9937196373939514, 0.2878977358341217, 0.7048530578613281, 0.9902483820915222, 0.991360604763031, 0.9929016828536987, 0.9872205257415771, 0.982741117477417, 0.9848793148994446, 0.9656855463981628, 0.9918699860572815, 0.9708957672119141, 0.257160484790802, 0.20572839677333832, 0.534893810749054, 0.9873494505882263, 0.98870450258255, 0.990079402923584, 0.9931560754776001, 0.9903502464294434, 0.9804602265357971, 0.9976433515548706, 0.9931305050849915, 0.8230835795402527, 0.16670048236846924, 0.2376694232225418, 0.7578516006469727, 0.9944268465042114, 0.9933620691299438, 0.9825769662857056, 0.9816052913665771, 0.9715335369110107, 0.7948021292686462, 0.19624744355678558, 0.9960883259773254, 0.19578270614147186, 0.2660636603832245, 0.532127320766449, 0.9904041886329651, 0.9840515851974487, 0.07876858115196228, 0.9189668297767639, 0.9836501479148865, 0.9900035262107849, 0.985504686832428, 0.9990878701210022, 0.9892309904098511, 0.4208022654056549, 0.5715373754501343, 0.9796362519264221, 0.9929977059364319, 0.3045390248298645, 0.6852127909660339, 0.9903944730758667, 0.9906994700431824, 0.9828686714172363, 0.9889062643051147, 0.9969354271888733, 0.9859146475791931, 0.9722442030906677, 0.992786169052124, 0.9835286140441895, 0.989129364490509, 0.29589688777923584, 0.6904260516166687, 0.98956698179245, 0.2358335554599762, 0.13476203382015228, 0.12914694845676422, 0.39305591583251953, 0.10107152163982391, 0.8601303100585938, 0.13660892844200134, 0.9855703711509705, 0.9734697341918945, 0.9781801104545593, 0.9793844223022461, 0.9866589307785034, 0.757936954498291, 0.14773346483707428, 0.08992472290992737, 0.28876346349716187, 0.6905213594436646, 0.7207472324371338, 0.2724776268005371, 0.8724520206451416, 0.1271287202835083, 0.9822871088981628, 0.9848155379295349, 0.5119840502738953, 0.4803800880908966, 0.9926308393478394, 0.9848296046257019, 0.6591271162033081, 0.33657553791999817, 0.9882054328918457, 0.9934643507003784, 0.9807597398757935, 0.985558807849884, 0.19236332178115845, 0.2504352629184723, 0.555312991142273, 0.9913736581802368, 0.9906418919563293, 0.9921864867210388, 0.9931825995445251, 0.9865684509277344, 0.9749264121055603, 0.9767091274261475, 0.9867699146270752, 0.9803339242935181, 0.9935680031776428, 0.7556156516075134, 0.2430342733860016, 0.9915131330490112, 0.9656481146812439, 0.9838882088661194, 0.9936605095863342, 0.9894306063652039, 0.9599059820175171, 0.9900340437889099, 0.9868367314338684, 0.9843557476997375, 0.9809419512748718, 0.9812502861022949, 0.995370090007782, 0.9975398778915405, 0.9851378798484802, 0.9939427375793457, 0.9714641571044922, 0.9925119876861572, 0.9872958064079285, 0.9960545301437378, 0.3488960266113281, 0.6432770490646362, 0.9874197840690613, 0.9960286617279053, 0.9671493172645569, 0.9844011664390564, 0.9853020310401917, 0.9874481558799744, 0.9820281267166138, 0.9760815501213074, 0.9852430820465088, 0.3738390803337097, 0.6163292527198792, 0.9951860308647156, 0.7232638001441956, 0.2750439941883087, 0.9888893365859985, 0.9863722324371338, 0.7771811485290527, 0.215151846408844, 0.982613205909729, 0.975986659526825, 0.9782549142837524, 0.987737238407135, 0.9801342487335205, 0.9948467016220093, 0.979338526725769, 0.9943714737892151, 0.9933103322982788, 0.8877496123313904, 0.10993161052465439, 0.7282389402389526, 0.22503522038459778, 0.04375684633851051, 0.992642879486084, 0.9848141074180603, 0.07518923282623291, 0.219029501080513, 0.1242256909608841, 0.05739081650972366, 0.10243170708417892, 0.13839177787303925, 0.16200192272663116, 0.07954803109169006, 0.041771795600652695, 0.25384441018104553, 0.7403795719146729, 0.9822472929954529, 0.996019721031189, 0.27824655175209045, 0.7145877480506897, 0.20908185839653015, 0.7840569615364075, 0.9836564064025879, 0.9798921942710876, 0.9930291175842285, 0.9892273545265198, 0.9967789649963379, 0.9796395301818848, 0.9854837656021118, 0.9752856492996216, 0.9943188428878784, 0.9924641847610474, 0.9943478107452393, 0.1399066299200058, 0.3567619025707245, 0.2068619430065155, 0.08794130384922028, 0.059959981590509415, 0.09493663907051086, 0.053963981568813324, 0.21885915100574493, 0.14113347232341766, 0.08590733259916306, 0.4193095862865448, 0.13295182585716248, 0.3313254415988922, 0.6682665944099426, 0.9893319010734558, 0.9894132614135742, 0.9947043657302856, 0.9966754913330078, 0.22061094641685486, 0.7721382975578308, 0.5966543555259705, 0.22948245704174042, 0.16637477278709412, 0.9779234528541565, 0.9939631223678589, 0.9912382364273071, 0.9854294657707214, 0.27856582403182983, 0.7154077291488647, 0.9753980040550232, 0.9953161478042603, 0.9885003566741943, 0.9959831833839417, 0.9869643449783325, 0.9940510392189026, 0.9875446557998657, 0.8725674152374268, 0.12347652018070221, 0.29619893431663513, 0.7015237808227539, 0.9914076924324036, 0.9780721068382263, 0.9790242910385132, 0.9893093109130859, 0.9847130179405212, 0.9889426231384277, 0.9851793050765991, 0.9743667840957642, 0.9880418181419373, 0.9895581603050232, 0.19365546107292175, 0.796139121055603, 0.9951044917106628, 0.9778375029563904, 0.9875420331954956, 0.9886019229888916, 0.9781122207641602, 0.14021775126457214, 0.42065325379371643, 0.11684812605381012, 0.1927994042634964, 0.12269052863121033, 0.9751965999603271, 0.9855644106864929, 0.37219467759132385, 0.6172984838485718, 0.9897461533546448, 0.7350484132766724, 0.2654341459274292, 0.9868159294128418, 0.992612361907959, 0.9926931858062744, 0.9811789989471436, 0.973195493221283, 0.9925755262374878, 0.9767557978630066, 0.9872928261756897, 0.9865598678588867, 0.9936686158180237, 0.9928551912307739, 0.9882365465164185, 0.743119478225708, 0.25015902519226074, 0.9869293570518494, 0.9924012422561646, 0.9859920144081116, 0.9790975451469421, 0.2291845828294754, 0.47159135341644287, 0.29529550671577454, 0.9805039167404175, 0.9824618697166443, 0.9770979881286621, 0.9906240105628967, 0.652544379234314, 0.03290139511227608, 0.1480562835931778, 0.16450698673725128, 0.6393707990646362, 0.3513026535511017, 0.432765394449234, 0.5609921813011169, 0.9866510629653931, 0.985647439956665, 0.9948624968528748, 0.9771038293838501, 0.9856699109077454, 0.3093053102493286, 0.6873451471328735, 0.980748176574707, 0.9872480034828186, 0.9842984080314636, 0.9878278970718384, 0.98900306224823, 0.9850198030471802, 0.984594464302063, 0.9842243194580078, 0.9839726686477661, 0.9932519793510437, 0.9858801364898682, 0.9884462356567383, 0.2782321870326996, 0.7154541611671448, 0.9780546426773071, 0.31754013895988464, 0.6747727990150452, 0.9903302788734436, 0.9800928235054016, 0.09858287870883942, 0.8962080478668213, 0.9902732968330383, 0.9852320551872253, 0.4066450595855713, 0.10069306194782257, 0.3562985062599182, 0.13167554140090942, 0.9873606562614441, 0.967427134513855, 0.2635917365550995, 0.2163812816143036, 0.515380859375, 0.9876003265380859, 0.9851829409599304, 0.23855940997600555, 0.5051846504211426, 0.2525923252105713, 0.9987915754318237, 0.9901385307312012, 0.3897596001625061, 0.6089993715286255, 0.0664244070649147, 0.14170540869235992, 0.1328488141298294, 0.10627905279397964, 0.4118313491344452, 0.13727711141109467, 0.987947404384613, 0.9865251779556274, 0.1145181730389595, 0.8779726624488831, 0.995863676071167, 0.9839963912963867, 0.9936304688453674, 0.988108217716217, 0.9826080799102783, 0.9866609573364258, 0.7164385318756104, 0.1694800853729248, 0.11555460095405579, 0.8451927304267883, 0.137058287858963, 0.979680061340332, 0.9897072315216064, 0.9839740991592407, 0.07772693037986755, 0.6164549589157104, 0.30286699533462524, 0.9992285370826721, 0.9959871172904968, 0.308133602142334, 0.27535343170166016, 0.41303014755249023, 0.9945809841156006, 0.9912347793579102, 0.9952772259712219, 0.9869518280029297, 0.9857800602912903, 0.9765966534614563, 0.9769254326820374, 0.9790824055671692, 0.9933337569236755, 0.981743335723877, 0.7909552454948425, 0.1386210173368454, 0.06523342430591583, 0.9936826825141907, 0.9870219826698303, 0.9795626401901245, 0.9697430729866028, 0.9993875622749329, 0.989361047744751, 0.9888674020767212, 0.9934802055358887, 0.9833992719650269, 0.9950978755950928, 0.9888030290603638, 0.9990516901016235, 0.9814811944961548, 0.24299809336662292, 0.12997572124004364, 0.2599514424800873, 0.3616715967655182], \"Term\": [\"0\", \"1\", \"1\", \"10\", \"100\", \"15\", \"17\", \"19\", \"19\", \"1903\", \"2\", \"2016\", \"2019\", \"2019\", \"2019\", \"2020\", \"2025\", \"2077\", \"3\", \"3\", \"3\", \"365\", \"4\", \"4\", \"5\", \"5\", \"5\", \"access\", \"access\", \"accounting\", \"administrative\", \"administrator\", \"advanced\", \"ai\", \"ai\", \"ai\", \"alert\", \"amazon\", \"amd\", \"analysis\", \"analyst\", \"android\", \"android\", \"announced\", \"announces\", \"another\", \"app\", \"apple\", \"apple\", \"ar\", \"architect\", \"assistant\", \"attack\", \"australia\", \"available\", \"aws\", \"azure\", \"back\", \"beach\", \"best\", \"best\", \"big\", \"bill\", \"billion\", \"bit\", \"bitcoin\", \"bitnami\", \"blockchain\", \"blog\", \"bluekeep\", \"book\", \"brand\", \"brings\", \"bug\", \"build\", \"business\", \"business\", \"business\", \"buy\", \"ca\", \"call\", \"call\", \"care\", \"case\", \"certification\", \"chicago\", \"china\", \"city\", \"cloud\", \"cloud\", \"co\", \"code\", \"come\", \"coming\", \"coming\", \"communication\", \"community\", \"company\", \"company\", \"computer\", \"computing\", \"conference\", \"console\", \"content\", \"continues\", \"control\", \"controller\", \"coordinator\", \"could\", \"could\", \"could\", \"country\", \"create\", \"crm\", \"customer\", \"cyberpunk\", \"dark\", \"data\", \"database\", \"date\", \"date\", \"day\", \"day\", \"de\", \"deal\", \"dell\", \"demo\", \"design\", \"desktop\", \"desktop\", \"developer\", \"digital\", \"digital\", \"digital\", \"director\", \"double\", \"download\", \"download\", \"drive\", \"driver\", \"dynamic\", \"e3\", \"earth\", \"edge\", \"edge\", \"el\", \"en\", \"end\", \"end\", \"engineer\", \"entry\", \"error\", \"event\", \"excel\", \"exchange\", \"exec\", \"executive\", \"expert\", \"feature\", \"file\", \"file\", \"finance\", \"first\", \"first\", \"first\", \"first\", \"first\", \"fix\", \"fix\", \"fl\", \"flaw\", \"focus\", \"forecast\", \"fox40\", \"free\", \"free\", \"free\", \"full\", \"full\", \"future\", \"future\", \"game\", \"game\", \"gameplay\", \"gamesradar\", \"gaming\", \"gaming\", \"gear\", \"gen\", \"get\", \"get\", \"giant\", \"global\", \"going\", \"good\", \"google\", \"google\", \"google\", \"graphic\", \"growth\", \"health\", \"help\", \"high\", \"highlight\", \"hit\", \"holding\", \"house\", \"hp\", \"huawei\", \"huawei\", \"ibm\", \"idea\", \"identity\", \"inc\", \"industry\", \"integration\", \"intel\", \"intelligence\", \"interview\", \"io\", \"iot\", \"issue\", \"job\", \"join\", \"june\", \"keanu\", \"key\", \"know\", \"la\", \"laptop\", \"laptop\", \"last\", \"launch\", \"le\", \"leak\", \"learn\", \"learning\", \"legal\", \"lenovo\", \"let\", \"level\", \"level\", \"life\", \"like\", \"like\", \"linux\", \"list\", \"live\", \"live\", \"local\", \"long\", \"look\", \"m\", \"machine\", \"make\", \"making\", \"management\", \"manager\", \"market\", \"market\", \"may\", \"may\", \"may\", \"medium\", \"meet\", \"microsoft\", \"microsoft\", \"microsoft\", \"microsoft\", \"microsoft\", \"microsoft\", \"microsoft\", \"microsoft\", \"microsoft\", \"microsofts\", \"microsofts\", \"might\", \"million\", \"minecraft\", \"minecraft\", \"mobile\", \"mobile\", \"mode\", \"modern\", \"month\", \"move\", \"msft\", \"msn\", \"multilingual\", \"national\", \"need\", \"needed\", \"network\", \"new\", \"new\", \"new\", \"new\", \"new\", \"new\", \"new\", \"news\", \"news\", \"news\", \"news\", \"news\", \"next\", \"next\", \"nintendo\", \"o\", \"office\", \"one\", \"online\", \"online\", \"open\", \"open\", \"open\", \"opinion\", \"oracle\", \"outlook\", \"part\", \"partner\", \"partner\", \"partnership\", \"pas\", \"patch\", \"pc\", \"people\", \"percent\", \"personal\", \"phone\", \"phone\", \"platform\", \"platform\", \"player\", \"podcast\", \"police\", \"position\", \"post\", \"potential\", \"power\", \"prediction\", \"press\", \"preview\", \"price\", \"price\", \"pro\", \"process\", \"product\", \"professional\", \"program\", \"project\", \"project\", \"project\", \"project\", \"project\", \"ps4\", \"ps5\", \"real\", \"real\", \"reality\", \"release\", \"release\", \"released\", \"report\", \"representative\", \"return\", \"reveal\", \"revealed\", \"revenue\", \"review\", \"ring\", \"rose\", \"sale\", \"samsung\", \"say\", \"say\", \"scarlett\", \"school\", \"search\", \"secure\", \"security\", \"security\", \"security\", \"see\", \"selling\", \"senior\", \"server\", \"service\", \"service\", \"service\", \"service\", \"share\", \"share\", \"show\", \"show\", \"skill\", \"smart\", \"software\", \"sold\", \"solution\", \"sony\", \"sony\", \"source\", \"specialist\", \"sql\", \"stack\", \"stadium\", \"stake\", \"star\", \"start\", \"startup\", \"state\", \"step\", \"still\", \"stock\", \"stock\", \"stop\", \"store\", \"store\", \"story\", \"streaming\", \"studio\", \"studio\", \"summer\", \"summit\", \"support\", \"support\", \"support\", \"support\", \"surface\", \"switch\", \"system\", \"system\", \"system\", \"talk\", \"tea\", \"team\", \"team\", \"team\", \"tech\", \"technical\", \"technology\", \"technology\", \"time\", \"time\", \"time\", \"time\", \"time\", \"time\", \"tip\", \"title\", \"today\", \"today\", \"top\", \"trade\", \"trailer\", \"trend\", \"trial\", \"trump\", \"u\", \"u\", \"u\", \"uk\", \"uk\", \"un\", \"university\", \"unveils\", \"update\", \"update\", \"update\", \"usa\", \"use\", \"using\", \"using\", \"using\", \"v\", \"version\", \"video\", \"virtual\", \"vulnerability\", \"w\", \"wall\", \"walmart\", \"want\", \"washington\", \"watch\", \"watch\", \"watch\", \"week\", \"weekend\", \"west\", \"whatsapp\", \"window\", \"woman\", \"word\", \"work\", \"working\", \"world\", \"x\", \"xbox\", \"xcloud\", \"year\", \"year\", \"year\", \"year\"]}, \"R\": 30, \"lambda.step\": 0.01, \"plot.opts\": {\"xlab\": \"PC1\", \"ylab\": \"PC2\"}, \"topic.order\": [8, 3, 6, 9, 5, 2, 4, 7, 10, 1]};\n",
       "\n",
       "function LDAvis_load_lib(url, callback){\n",
       "  var s = document.createElement('script');\n",
       "  s.src = url;\n",
       "  s.async = true;\n",
       "  s.onreadystatechange = s.onload = callback;\n",
       "  s.onerror = function(){console.warn(\"failed to load library \" + url);};\n",
       "  document.getElementsByTagName(\"head\")[0].appendChild(s);\n",
       "}\n",
       "\n",
       "if(typeof(LDAvis) !== \"undefined\"){\n",
       "   // already loaded: just create the visualization\n",
       "   !function(LDAvis){\n",
       "       new LDAvis(\"#\" + \"ldavis_el45761399697572006966011477562\", ldavis_el45761399697572006966011477562_data);\n",
       "   }(LDAvis);\n",
       "}else if(typeof define === \"function\" && define.amd){\n",
       "   // require.js is available: use it to load d3/LDAvis\n",
       "   require.config({paths: {d3: \"https://cdnjs.cloudflare.com/ajax/libs/d3/3.5.5/d3.min\"}});\n",
       "   require([\"d3\"], function(d3){\n",
       "      window.d3 = d3;\n",
       "      LDAvis_load_lib(\"https://cdn.rawgit.com/bmabey/pyLDAvis/files/ldavis.v1.0.0.js\", function(){\n",
       "        new LDAvis(\"#\" + \"ldavis_el45761399697572006966011477562\", ldavis_el45761399697572006966011477562_data);\n",
       "      });\n",
       "    });\n",
       "}else{\n",
       "    // require.js not available: dynamically load d3 & LDAvis\n",
       "    LDAvis_load_lib(\"https://cdnjs.cloudflare.com/ajax/libs/d3/3.5.5/d3.min.js\", function(){\n",
       "         LDAvis_load_lib(\"https://cdn.rawgit.com/bmabey/pyLDAvis/files/ldavis.v1.0.0.js\", function(){\n",
       "                 new LDAvis(\"#\" + \"ldavis_el45761399697572006966011477562\", ldavis_el45761399697572006966011477562_data);\n",
       "            })\n",
       "         });\n",
       "}\n",
       "</script>"
      ],
      "text/plain": [
       "PreparedData(topic_coordinates=            Freq  cluster  topics         x         y\n",
       "topic                                                \n",
       "7      14.851482        1       1  0.158535  0.227477\n",
       "2      12.530740        1       2 -0.250022 -0.103411\n",
       "5      12.138257        1       3  0.048921  0.174138\n",
       "8      10.287180        1       4 -0.115341  0.034731\n",
       "4       9.368600        1       5  0.009996  0.137453\n",
       "1       9.028832        1       6 -0.097009 -0.126291\n",
       "3       9.023176        1       7  0.008533  0.062112\n",
       "6       8.339637        1       8 -0.149964 -0.087487\n",
       "9       7.949110        1       9  0.071819 -0.026953\n",
       "0       6.482986        1      10  0.314531 -0.291770, topic_info=     Category         Freq        Term        Total  loglift  logprob\n",
       "term                                                                 \n",
       "26    Default   923.000000      window   923.000000  30.0000  30.0000\n",
       "85    Default   890.000000        xbox   890.000000  29.0000  29.0000\n",
       "839   Default   599.000000         usa   599.000000  28.0000  28.0000\n",
       "38    Default  1305.000000        2019  1305.000000  27.0000  27.0000\n",
       "828   Default   683.000000          e3   683.000000  26.0000  26.0000\n",
       "21    Default   591.000000          10   591.000000  25.0000  25.0000\n",
       "31    Default   802.000000        game   802.000000  24.0000  24.0000\n",
       "14    Default   384.000000        tech   384.000000  23.0000  23.0000\n",
       "110   Default   482.000000      market   482.000000  22.0000  22.0000\n",
       "70    Default   440.000000        data   440.000000  21.0000  21.0000\n",
       "2     Default   341.000000         job   341.000000  20.0000  20.0000\n",
       "40    Default   551.000000      google   551.000000  19.0000  19.0000\n",
       "154   Default   369.000000         one   369.000000  18.0000  18.0000\n",
       "16    Default   319.000000       azure   319.000000  17.0000  17.0000\n",
       "214   Default   347.000000           2   347.000000  16.0000  16.0000\n",
       "258   Default   258.000000      office   258.000000  15.0000  15.0000\n",
       "59    Default   383.000000       cloud   383.000000  14.0000  14.0000\n",
       "305   Default   256.000000      launch   256.000000  13.0000  13.0000\n",
       "330   Default   328.000000  technology   328.000000  12.0000  12.0000\n",
       "160   Default   253.000000         top   253.000000  11.0000  11.0000\n",
       "732   Default   266.000000          pc   266.000000  10.0000  10.0000\n",
       "3     Default  2753.000000   microsoft  2753.000000   9.0000   9.0000\n",
       "425   Default   215.000000   assistant   215.000000   8.0000   8.0000\n",
       "104   Default   247.000000    software   247.000000   7.0000   7.0000\n",
       "23    Default  1000.000000         new  1000.000000   6.0000   6.0000\n",
       "24    Default   373.000000      update   373.000000   5.0000   5.0000\n",
       "407   Default   183.000000     trailer   183.000000   4.0000   4.0000\n",
       "281   Default   222.000000         day   222.000000   3.0000   3.0000\n",
       "99    Default   198.000000       world   198.000000   2.0000   2.0000\n",
       "86    Default   224.000000   developer   224.000000   1.0000   1.0000\n",
       "...       ...          ...         ...          ...      ...      ...\n",
       "57    Topic10    77.833466      summer    78.766136   2.7241  -4.0872\n",
       "83    Topic10    72.528656   community    73.461365   2.7232  -4.1577\n",
       "33    Topic10    71.945663         tip    72.878372   2.7231  -4.1658\n",
       "150   Topic10    70.830833       woman    71.763489   2.7229  -4.1814\n",
       "793   Topic10    70.410080      return    71.342743   2.7228  -4.1874\n",
       "162   Topic10    66.294693  washington    67.227348   2.7220  -4.2476\n",
       "46    Topic10    64.104469      double    65.037239   2.7215  -4.2812\n",
       "685   Topic10    61.705879        back    62.638569   2.7210  -4.3193\n",
       "690   Topic10    60.938782    exchange    61.871483   2.7208  -4.3319\n",
       "535   Topic10    59.481125           w    60.413887   2.7204  -4.3561\n",
       "530   Topic10    58.437260        wall    59.369934   2.7202  -4.3738\n",
       "739   Topic10    57.342831     program    58.275520   2.7199  -4.3927\n",
       "300   Topic10    51.575043       story    52.507736   2.7181  -4.4987\n",
       "95    Topic10    49.268806        bill    50.201454   2.7172  -4.5444\n",
       "908   Topic10    48.844021           0    49.776752   2.7171  -4.5531\n",
       "476   Topic10    45.207642    national    46.140327   2.7156  -4.6305\n",
       "323   Topic10    42.661373        list    43.594090   2.7144  -4.6884\n",
       "259   Topic10    42.641788    released    43.574490   2.7144  -4.6889\n",
       "243   Topic10    39.656647     chicago    40.589317   2.7127  -4.7615\n",
       "440   Topic10    39.454708        idea    40.387383   2.7126  -4.7666\n",
       "676   Topic10    38.881001        west    39.813686   2.7123  -4.7812\n",
       "566   Topic10    37.551430        last    38.484138   2.7115  -4.8160\n",
       "281   Topic10   168.969391         day   222.998810   2.4585  -3.3120\n",
       "608   Topic10   140.036972      online   181.314667   2.4777  -3.4998\n",
       "361   Topic10    72.407837         end   105.076843   2.3636  -4.1594\n",
       "489   Topic10    70.262794        show   124.778923   2.1617  -4.1895\n",
       "647   Topic10    60.878613       level    98.973068   2.2500  -4.3328\n",
       "9     Topic10    55.428623        full    79.649963   2.3734  -4.4266\n",
       "23    Topic10    54.456951         new  1000.667419  -0.1750  -4.4443\n",
       "51    Topic10    49.429157        live   227.746124   1.2083  -4.5412\n",
       "\n",
       "[442 rows x 6 columns], token_table=      Topic      Freq           Term\n",
       "term                                \n",
       "908      10  0.984395              0\n",
       "163       1  0.872504              1\n",
       "163       6  0.123839              1\n",
       "21        3  0.998117             10\n",
       "260       8  0.978805            100\n",
       "773       8  0.987671             15\n",
       "543      10  0.989302             17\n",
       "121       1  0.273969             19\n",
       "121       8  0.709829             19\n",
       "1022      3  0.974788           1903\n",
       "214       1  0.998126              2\n",
       "660       7  0.980777           2016\n",
       "38        1  0.730786           2019\n",
       "38        4  0.158567           2019\n",
       "38        7  0.109541           2019\n",
       "398       5  0.988086           2020\n",
       "365       4  0.992114           2025\n",
       "826       8  0.983470           2077\n",
       "294       1  0.668005              3\n",
       "294       4  0.163290              3\n",
       "294       6  0.155868              3\n",
       "339       7  0.996177            365\n",
       "168       1  0.824079              4\n",
       "168       7  0.170499              4\n",
       "142       1  0.444036              5\n",
       "142       3  0.454999              5\n",
       "142       4  0.098675              5\n",
       "617       7  0.347827         access\n",
       "617       9  0.643851         access\n",
       "1000      6  0.980173     accounting\n",
       "...     ...       ...            ...\n",
       "343       7  0.994581              v\n",
       "569       3  0.991235        version\n",
       "98        1  0.995277          video\n",
       "435       6  0.986952        virtual\n",
       "801       9  0.985780  vulnerability\n",
       "535      10  0.976597              w\n",
       "530      10  0.976925           wall\n",
       "182       1  0.979082        walmart\n",
       "396       3  0.993334           want\n",
       "162      10  0.981743     washington\n",
       "192       1  0.790955          watch\n",
       "192       6  0.138621          watch\n",
       "192      10  0.065233          watch\n",
       "205       1  0.993683           week\n",
       "7         1  0.987022        weekend\n",
       "676      10  0.979563           west\n",
       "680       5  0.969743       whatsapp\n",
       "26        3  0.999388         window\n",
       "150      10  0.989361          woman\n",
       "542       7  0.988867           word\n",
       "409      10  0.993480           work\n",
       "504       5  0.983399        working\n",
       "99        5  0.995098          world\n",
       "665       1  0.988803              x\n",
       "85        1  0.999052           xbox\n",
       "612       3  0.981481         xcloud\n",
       "79        1  0.242998           year\n",
       "79        3  0.129976           year\n",
       "79        7  0.259951           year\n",
       "79        9  0.361672           year\n",
       "\n",
       "[505 rows x 3 columns], R=30, lambda_step=0.01, plot_opts={'xlab': 'PC1', 'ylab': 'PC2'}, topic_order=[8, 3, 6, 9, 5, 2, 4, 7, 10, 1])"
      ]
     },
     "execution_count": 22,
     "metadata": {},
     "output_type": "execute_result"
    }
   ],
   "source": [
    "pyLDAvis.enable_notebook()\n",
    "vis = pyLDAvis.gensim.prepare(lda_model, corpora, dictionary)\n",
    "vis"
   ]
  },
  {
   "cell_type": "code",
   "execution_count": 26,
   "metadata": {},
   "outputs": [
    {
     "name": "stdout",
     "output_type": "stream",
     "text": [
      "Main term in topic 0\n",
      " trailer\n",
      " day\n",
      " work\n",
      " online\n",
      " health\n",
      " state\n",
      " issue\n",
      " trump\n",
      " fox40\n",
      " 17\n",
      "\n",
      "Main term in topic 1\n",
      " microsoft\n",
      " google\n",
      " de\n",
      " huawei\n",
      " amazon\n",
      " manager\n",
      " apple\n",
      " ca\n",
      " sony\n",
      " la\n",
      "\n",
      "Main term in topic 2\n",
      " microsoft\n",
      " data\n",
      " azure\n",
      " cloud\n",
      " software\n",
      " service\n",
      " developer\n",
      " msft\n",
      " management\n",
      " co\n",
      "\n",
      "Main term in topic 3\n",
      " microsoft\n",
      " office\n",
      " fix\n",
      " deal\n",
      " 2019\n",
      " need\n",
      " 365\n",
      " update\n",
      " partner\n",
      " create\n",
      "\n",
      "Main term in topic 4\n",
      " microsoft\n",
      " launch\n",
      " new\n",
      " news\n",
      " world\n",
      " june\n",
      " bitcoin\n",
      " network\n",
      " next\n",
      " minecraft\n",
      "\n",
      "Main term in topic 5\n",
      " window\n",
      " 10\n",
      " new\n",
      " microsoft\n",
      " pc\n",
      " update\n",
      " make\n",
      " excel\n",
      " use\n",
      " build\n",
      "\n",
      "Main term in topic 6\n",
      " tech\n",
      " microsoft\n",
      " assistant\n",
      " technology\n",
      " company\n",
      " big\n",
      " ai\n",
      " blockchain\n",
      " digital\n",
      " city\n",
      "\n",
      "Main term in topic 7\n",
      " 2019\n",
      " xbox\n",
      " game\n",
      " e3\n",
      " one\n",
      " may\n",
      " microsoft\n",
      " video\n",
      " get\n",
      " release\n",
      "\n",
      "Main term in topic 8\n",
      " market\n",
      " job\n",
      " top\n",
      " 2019\n",
      " global\n",
      " key\n",
      " microsoft\n",
      " pro\n",
      " player\n",
      " report\n",
      "\n",
      "Main term in topic 9\n",
      " usa\n",
      " system\n",
      " microsoft\n",
      " new\n",
      " patch\n",
      " time\n",
      " representative\n",
      " android\n",
      " access\n",
      " china\n",
      "\n"
     ]
    }
   ],
   "source": [
    "def get_term_by_topic(lda_model, dictionary, topic_id):\n",
    "    count = 0\n",
    "    for item in lda_model.get_topic_terms(topic_id, topn=20): \n",
    "        term = dictionary[item[0]]\n",
    "        if len(term) == 1:\n",
    "            continue\n",
    "        print(\" \" + term)\n",
    "        count += 1\n",
    "        if count == 10: \n",
    "            break\n",
    "    return \n",
    "\n",
    "for i in range(10):\n",
    "    print('Main term in topic {}'.format(i))\n",
    "    get_term_by_topic(lda_model, dictionary, i)\n",
    "    print()"
   ]
  },
  {
   "cell_type": "markdown",
   "metadata": {},
   "source": [
    "# Topic cluster"
   ]
  },
  {
   "cell_type": "code",
   "execution_count": 27,
   "metadata": {},
   "outputs": [],
   "source": [
    "import gensim, operator\n",
    "from scipy import spatial"
   ]
  },
  {
   "cell_type": "code",
   "execution_count": 28,
   "metadata": {},
   "outputs": [],
   "source": [
    "topic_taxonomy = {\n",
    "    \"Business Operations\" : \n",
    "    {\n",
    "        \"Business\" : \"apple ceo business global trend finance\",\n",
    "    },\n",
    "    \n",
    "    \"Stock\" :\n",
    "    {\n",
    "        \"Market\" : \"data software business technology growth msft share price future deal\",\n",
    "        \"Competition\" : \"google facebook ceo ibm oracle huawei apple\"\n",
    "    },\n",
    "    \n",
    "    \"Gaming\" :\n",
    "    {\n",
    "        \"Product-gaming\" : \"announce trailer event video release\",\n",
    "        \"Game\" : \"game e3 xbox playstation console minecraft\",\n",
    "        \n",
    "    },\n",
    "    \n",
    "    \"Technology\" : \n",
    "    {\n",
    "        \"Windows\" : \"fix 10 server build google\",\n",
    "        \"Security\" : \"upgrade cyber punk hack avast system update\",\n",
    "        \"AI\" : \"artificial intelligence future technology\",\n",
    "        \"Data\": \"data cloud computing blockchain amd bitcoin\",\n",
    "        \"Product-technology\" : \"team azure 365 office pro launch excel pc edge outlook\",\n",
    "    },\n",
    "    \n",
    "    \"Gates\":\n",
    "    {\n",
    "        \"People\": \"bill melinda ellen show bezos\",\n",
    "        \"Charity\": \"donation unicef un foundation\"\n",
    "    },\n",
    "    \n",
    "    \"Employment\":\n",
    "    {\n",
    "        \"Location\" : \"palo alto bangalore new york africa\",\n",
    "        \"Visa\" : \"h1b trump immigration china india\",\n",
    "        \"Jobs\": \"engineer machine learning ai analyst management developer\"\n",
    "    },\n",
    "}"
   ]
  },
  {
   "cell_type": "code",
   "execution_count": 29,
   "metadata": {},
   "outputs": [],
   "source": [
    "def classify_topics(input, vectors):\n",
    "    feed_score = dict()\n",
    "    for key, value in topic_taxonomy.items():\n",
    "        max_value_score = dict()\n",
    "        for label, keywords in value.items():\n",
    "            max_value_score[label] = 0\n",
    "            topic = (keywords).strip()\n",
    "            max_value_score[label] += float(calc_similarity(input, topic, vectors))\n",
    "            \n",
    "        sorted_max_score = sorted(max_value_score.items(), key=operator.itemgetter(1), reverse=True)[0]\n",
    "        feed_score[sorted_max_score[0]] = sorted_max_score[1]\n",
    "    result = sorted(feed_score.items(), key=operator.itemgetter(1), reverse=True)[:3]\n",
    "    if result[0][1] < 0.4:\n",
    "        return []\n",
    "    return result"
   ]
  },
  {
   "cell_type": "code",
   "execution_count": 30,
   "metadata": {},
   "outputs": [],
   "source": [
    "data = load_data('microsoft_clean.json')\n",
    "tot_title = len(data)\n",
    "title_list = [(' '.join(cleanup_text(str(data[i]['title']))), data[i]['published'][:10]) for i in range(tot_title)]"
   ]
  },
  {
   "cell_type": "code",
   "execution_count": 31,
   "metadata": {},
   "outputs": [
    {
     "name": "stdout",
     "output_type": "stream",
     "text": [
      "Title classified: Windows 10 1903 Cumulative Update KB4497935 Takes Care of High-Priority Bugs and Software Issues\n",
      "[('Security', 0.5159127116203308), ('Market', 0.4831184446811676), ('Product-gaming', 0.3456571102142334)]\n"
     ]
    }
   ],
   "source": [
    "title_id = 10892\n",
    "print(\"Title classified: {}\".format(data[title_id]['title']))\n",
    "classification = classify_topics(title_list[title_id][0], model_w2v_AP)\n",
    "print(classification)"
   ]
  },
  {
   "cell_type": "markdown",
   "metadata": {},
   "source": [
    "### Main topic day by day "
   ]
  },
  {
   "cell_type": "code",
   "execution_count": 32,
   "metadata": {},
   "outputs": [],
   "source": [
    "topics_by_date = dict()\n",
    "for date in set([date[1] for date in title_list]):\n",
    "    topics_by_date[date] = dict() \n",
    "\n",
    "for title in title_list: \n",
    "    try:\n",
    "        topics = classify_topics(title[0], model_w2v_AP)\n",
    "        if len(topics) == 0:\n",
    "            continue\n",
    "    except Exception: \n",
    "        continue\n",
    "    \n",
    "    date = title[1]\n",
    "    for topic in topics:\n",
    "        if topic[0] not in topics_by_date[date].keys(): \n",
    "            topics_by_date[date][topic[0]] = 1 \n",
    "            break\n",
    "        else: \n",
    "            topics_by_date[date][topic[0]] += 1"
   ]
  },
  {
   "cell_type": "code",
   "execution_count": 79,
   "metadata": {},
   "outputs": [
    {
     "name": "stdout",
     "output_type": "stream",
     "text": [
      "On 2019-05-04 the main topics are: Competition, Market, Windows\n",
      "On 2019-05-05 the main topics are: Competition, Game, Windows\n",
      "On 2019-05-06 the main topics are: Competition, Market, Game\n",
      "On 2019-05-07 the main topics are: Competition, Game, Market\n",
      "On 2019-05-08 the main topics are: Competition, Market, Game\n",
      "On 2019-05-09 the main topics are: Competition, Market, Windows\n",
      "On 2019-05-10 the main topics are: Competition, Market, Location\n",
      "On 2019-05-11 the main topics are: Competition, Market, Windows\n",
      "On 2019-05-12 the main topics are: Competition, Game, Product-technology\n",
      "On 2019-05-13 the main topics are: Competition, Market, Game\n",
      "On 2019-05-14 the main topics are: Market, Competition, Location\n",
      "On 2019-05-15 the main topics are: Competition, Market, Game\n",
      "On 2019-05-16 the main topics are: Market, Competition, Product-technology\n",
      "On 2019-05-17 the main topics are: Competition, Game, Market\n",
      "On 2019-05-18 the main topics are: Competition, Game, Windows\n",
      "On 2019-05-19 the main topics are: Market, Competition, Game\n",
      "On 2019-05-20 the main topics are: Competition, Market, Game\n",
      "On 2019-05-21 the main topics are: Market, Competition, Game\n",
      "On 2019-05-22 the main topics are: Competition, Market, Game\n",
      "On 2019-05-23 the main topics are: Market, Competition, Location\n",
      "On 2019-05-24 the main topics are: Competition, Market, Game\n",
      "On 2019-05-25 the main topics are: Competition, Game, Market\n",
      "On 2019-05-26 the main topics are: Competition, Location, Market\n",
      "On 2019-05-27 the main topics are: Competition, Game, Market\n",
      "On 2019-05-28 the main topics are: Competition, Market, Game\n",
      "On 2019-05-29 the main topics are: Competition, Market, Location\n",
      "On 2019-05-30 the main topics are: Competition, Market, Game\n",
      "On 2019-05-31 the main topics are: Competition, Game, Market\n",
      "On 2019-06-01 the main topics are: Competition, Game, Market\n",
      "On 2019-06-02 the main topics are: Competition, Location, Product-technology\n",
      "On 2019-06-03 the main topics are: Competition, Game, Market\n",
      "On 2019-06-04 the main topics are: Market, Competition, Game\n",
      "On 2019-06-05 the main topics are: Competition, Market, Game\n",
      "On 2019-06-06 the main topics are: Competition, Market, Location\n",
      "On 2019-06-07 the main topics are: Competition, Market, Game\n",
      "On 2019-06-08 the main topics are: Competition, Game, Location\n",
      "On 2019-06-09 the main topics are: Game, Competition, Location\n",
      "On 2019-06-10 the main topics are: Game, Competition, Location\n",
      "On 2019-06-11 the main topics are: Game, Competition, Market\n",
      "On 2019-06-12 the main topics are: Competition, Game, Market\n"
     ]
    }
   ],
   "source": [
    "def get_main_topics(topics_by_date, date):\n",
    "    topics = topics_by_date[date]\n",
    "    return sorted(topics.items(), key=operator.itemgetter(1), reverse=True)[:3]\n",
    "\n",
    "for date in sorted(set([date[1] for date in title_list])):\n",
    "    topics = get_main_topics(topics_by_date, date)\n",
    "    print('On {} the main topics are: {}'.format(date, ', '.join([topic[0] for topic in topics])))"
   ]
  },
  {
   "cell_type": "markdown",
   "metadata": {},
   "source": [
    "# Microsoft stock prices"
   ]
  },
  {
   "cell_type": "code",
   "execution_count": 9,
   "metadata": {},
   "outputs": [],
   "source": [
    "import datetime\n",
    "import matplotlib.pyplot as plt\n",
    "import pandas as pd\n",
    "import numpy as np\n",
    "\n",
    "from iexfinance.stocks import Stock\n",
    "from iexfinance.stocks import get_historical_data"
   ]
  },
  {
   "cell_type": "code",
   "execution_count": 12,
   "metadata": {},
   "outputs": [],
   "source": [
    "def get_prices(stock_name, t1, t2): \n",
    "    start = t1\n",
    "    end = t2 \n",
    "    stock = Stock(stock_name)\n",
    "    return get_historical_data(stock_name, start=start, end=end, output_format='pandas')\n",
    "\n",
    "def plot_candlestick(df):\n",
    "    df[\"color\"] = (df.close > df.open).map({True:\"green\",False:\"red\"})\n",
    "    fig, ax = plt.subplots()\n",
    "    for date in df.index:\n",
    "        ax.plot([date]*2, df.loc[date, [\"high\",\"low\"]].values, color = \"black\")\n",
    "        ax.plot([date]*2, df.loc[date, [\"open\",\"close\"]].values, color = df.loc[date, \"color\"], linewidth = 10)\n",
    "\n",
    "    ax.set_ylabel(\"Price [$]\")\n",
    "    ax.set_xlabel(\"Day\")\n",
    "    ax.set_title(\"OHLC of Stock Value During Trading Day\")\n",
    "    plt.show()"
   ]
  },
  {
   "cell_type": "code",
   "execution_count": 13,
   "metadata": {},
   "outputs": [
    {
     "data": {
      "image/png": "[encoded data removed]",
      "text/plain": [
       "<matplotlib.figure.Figure at 0x7f08a0b29160>"
      ]
     },
     "metadata": {},
     "output_type": "display_data"
    }
   ],
   "source": [
    "df = get_prices('MSFT', datetime.date(2019,5,4), datetime.date(2019,6,4))\n",
    "plot_candlestick(df)"
   ]
  },
  {
   "cell_type": "code",
   "execution_count": null,
   "metadata": {},
   "outputs": [],
   "source": []
  }
 ],
 "metadata": {
  "kernelspec": {
   "display_name": "Python 3",
   "language": "python",
   "name": "python3"
  },
  "language_info": {
   "codemirror_mode": {
    "name": "ipython",
    "version": 3
   },
   "file_extension": ".py",
   "mimetype": "text/x-python",
   "name": "python",
   "nbconvert_exporter": "python",
   "pygments_lexer": "ipython3",
   "version": "3.6.7"
  }
 },
 "nbformat": 4,
 "nbformat_minor": 2
}
